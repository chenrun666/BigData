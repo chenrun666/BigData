{
 "nbformat": 4,
 "nbformat_minor": 2,
 "metadata": {
  "language_info": {
   "name": "python",
   "codemirror_mode": {
    "name": "ipython",
    "version": 3
   },
   "version": "3.7.6-final"
  },
  "orig_nbformat": 2,
  "file_extension": ".py",
  "mimetype": "text/x-python",
  "name": "python",
  "npconvert_exporter": "python",
  "pygments_lexer": "ipython3",
  "version": 3,
  "kernelspec": {
   "name": "python37664bitdatacondaffe011880c7a428fa1ccfab909a115f2",
   "display_name": "Python 3.7.6 64-bit ('data': conda)"
  }
 },
 "cells": [
  {
   "cell_type": "markdown",
   "execution_count": null,
   "metadata": {},
   "outputs": [],
   "source": [
    "1、\t给定一个非负整数n，生成杨辉三角的前 n 行。（可以百度杨辉三角是什么）\n",
    "例：输入: 10  实现：[[1], [1, 1], [1, 2, 1], [1, 3, 3, 1], [1, 4, 6, 4, 1]] "
   ]
  },
  {
   "cell_type": "code",
   "execution_count": 4,
   "metadata": {},
   "outputs": [],
   "source": [
    "def triangle(rows):\n",
    "    if rows == 0:\n",
    "        return []\n",
    "\n",
    "    l1 = [1]\n",
    "    l2 = []\n",
    "    n = 0\n",
    "    while n < rows:\n",
    "        l2.append(l1)\n",
    "        l1 = [sum(t) for t in zip([0] + l1, l1 + [0])]\n",
    "        n += 1\n",
    "    return l2"
   ]
  },
  {
   "cell_type": "code",
   "execution_count": 5,
   "metadata": {},
   "outputs": [
    {
     "data": {
      "text/plain": "[[1], [1, 1], [1, 2, 1], [1, 3, 3, 1], [1, 4, 6, 4, 1]]"
     },
     "execution_count": 5,
     "metadata": {},
     "output_type": "execute_result"
    }
   ],
   "source": [
    "triangle(5)"
   ]
  },
  {
   "cell_type": "markdown",
   "execution_count": null,
   "metadata": {},
   "outputs": [],
   "source": [
    "2、\t编写一个函数，以字符串作为输入，反转该字符串中的元音字母。\n",
    "注：元音字母包括（a,e,i,o,u）\n"
   ]
  },
  {
   "cell_type": "code",
   "execution_count": 8,
   "metadata": {},
   "outputs": [],
   "source": [
    "def reverse_str(s):\n",
    "    str_list = ['a', 'e', 'i', 'o', 'u']\n",
    "    l1 = []\n",
    "    l2 = []\n",
    "    for i in s:\n",
    "        if i in str_list:\n",
    "            l1.append(i)\n",
    "            l2.append(None)\n",
    "        else:\n",
    "            l2.append(i)\n",
    "    res = \"\"\n",
    "    for i in l2:\n",
    "        if not i:\n",
    "            res += l1.pop()\n",
    "        else:\n",
    "            res += i\n",
    "    return res"
   ]
  },
  {
   "cell_type": "code",
   "execution_count": 11,
   "metadata": {},
   "outputs": [
    {
     "data": {
      "text/plain": "'holle'"
     },
     "execution_count": 11,
     "metadata": {},
     "output_type": "execute_result"
    }
   ],
   "source": [
    "reverse_str(\"hello\")"
   ]
  },
  {
   "cell_type": "markdown",
   "execution_count": null,
   "metadata": {},
   "outputs": [],
   "source": [
    "3、\t给定一个包含电话号码列表（一行一个电话号码）的文本文件 file.txt，写一个程序输出所有有效的电话号码。假设一个有效的电话号码必须满足以下两种格式： (xxx) xxx-xxxx 或 xxx-xxx-xxxx。（x 表示一个数字）每行前后没有多余的空格字符"
   ]
  },
  {
   "cell_type": "code",
   "execution_count": 12,
   "metadata": {},
   "outputs": [],
   "source": [
    "import re"
   ]
  },
  {
   "cell_type": "code",
   "execution_count": 21,
   "metadata": {},
   "outputs": [
    {
     "name": "stdout",
     "output_type": "stream",
     "text": "(222)444-3333\n222-333-4444\n"
    }
   ],
   "source": [
    "with open('./phone.txt', 'r', encoding='utf-8') as f:\n",
    "    phone_num_txt = f.readlines()\n",
    "\n",
    "re_complie_list = [\n",
    "     re.compile(r'\\d{3}-\\d{3}-\\d{4}'),\n",
    "     re.compile(r'\\(\\d{3}\\)\\d{3}-\\d{4}')\n",
    "]\n",
    "\n",
    "for l in phone_num_txt:\n",
    "    l = l.strip()\n",
    "    for r in re_complie_list:\n",
    "        res = re.findall(r, l)\n",
    "        if res:\n",
    "            print(res[0])\n",
    "            break"
   ]
  },
  {
   "cell_type": "markdown",
   "execution_count": null,
   "metadata": {},
   "outputs": [],
   "source": [
    "4、\t根据字典name = {\"a\":\"张三\",\"b\":\"李四\",\"c\":\"王五\",\"d\":\"赵六\"}进行以下操作， #用代码表示出来\n",
    "1）获取字典的所有 key ，将得到的 key 组成列表\n",
    "2）获取字典的所有 values，将得到的 values 组成列表\n",
    "3)  使用题 2) 得到的列表进行切片，获取字符串\"王五\"  的名称\n",
    "4）用 e 替换掉 字典name 中 的key值 d    例如  name = {\"e\":\"赵六\"} "
   ]
  },
  {
   "cell_type": "code",
   "execution_count": 22,
   "metadata": {},
   "outputs": [
    {
     "data": {
      "text/plain": "['a', 'b', 'c', 'd']"
     },
     "execution_count": 22,
     "metadata": {},
     "output_type": "execute_result"
    }
   ],
   "source": [
    "name = {\"a\":\"张三\",\"b\":\"李四\",\"c\":\"王五\",\"d\":\"赵六\"}\n",
    "\n",
    "# 1\n",
    "list(name.keys())\n"
   ]
  },
  {
   "cell_type": "code",
   "execution_count": 23,
   "metadata": {},
   "outputs": [
    {
     "data": {
      "text/plain": "['张三', '李四', '王五', '赵六']"
     },
     "execution_count": 23,
     "metadata": {},
     "output_type": "execute_result"
    }
   ],
   "source": [
    "# 2\n",
    "list(name.values())"
   ]
  },
  {
   "cell_type": "code",
   "execution_count": 24,
   "metadata": {},
   "outputs": [
    {
     "data": {
      "text/plain": "'王五'"
     },
     "execution_count": 24,
     "metadata": {},
     "output_type": "execute_result"
    }
   ],
   "source": [
    "list(name.values())[2]"
   ]
  },
  {
   "cell_type": "code",
   "execution_count": 25,
   "metadata": {},
   "outputs": [
    {
     "data": {
      "text/plain": "{'a': '张三', 'b': '李四', 'c': '王五', 'e': '赵六'}"
     },
     "execution_count": 25,
     "metadata": {},
     "output_type": "execute_result"
    }
   ],
   "source": [
    "name[\"e\"] = name.pop(\"d\")\n",
    "name"
   ]
  },
  {
   "cell_type": "markdown",
   "execution_count": null,
   "metadata": {},
   "outputs": [],
   "source": [
    "5、\t定义函数，传入一个字典，返回一个新的字典，里面包含原字典的key以及对应value的数据类型，如\n",
    "输入：{'a':1,'b':\"aaaa\",'c':True}\n",
    "返回：{'a': int, 'b': str, 'c': bool}"
   ]
  },
  {
   "cell_type": "code",
   "execution_count": 26,
   "metadata": {},
   "outputs": [],
   "source": [
    "def peng(dic):\n",
    "    return {key: type(value) for key, value in dic.items()}"
   ]
  },
  {
   "cell_type": "code",
   "execution_count": 29,
   "metadata": {},
   "outputs": [
    {
     "data": {
      "text/plain": "{'a': int, 'b': str, 'c': bool}"
     },
     "execution_count": 29,
     "metadata": {},
     "output_type": "execute_result"
    }
   ],
   "source": [
    "peng({\"a\": 1, \"b\": \"aaa\", \"c\": True})"
   ]
  },
  {
   "cell_type": "markdown",
   "execution_count": null,
   "metadata": {},
   "outputs": [],
   "source": [
    "6、\t定义一个函数，检查字符里面是否有重复的字母，并计算重复字母的个数（忽略大小写）"
   ]
  },
  {
   "cell_type": "code",
   "execution_count": 34,
   "metadata": {},
   "outputs": [],
   "source": [
    "def hui(s):\n",
    "    res = {}\n",
    "    for i in s:\n",
    "        if i.lower() not in res:\n",
    "            res[i] = 1\n",
    "        else:\n",
    "            res[i] += 1\n",
    "    return res"
   ]
  },
  {
   "cell_type": "code",
   "execution_count": 35,
   "metadata": {},
   "outputs": [
    {
     "data": {
      "text/plain": "{'a': 1, 'b': 2, 'd': 3, 's': 2}"
     },
     "execution_count": 35,
     "metadata": {},
     "output_type": "execute_result"
    }
   ],
   "source": [
    "hui(\"abdsddsb\")"
   ]
  },
  {
   "cell_type": "markdown",
   "execution_count": 36,
   "metadata": {},
   "outputs": [
    {
     "ename": "SyntaxError",
     "evalue": "invalid character in identifier (<ipython-input-36-47c9c2f7c914>, line 1)",
     "output_type": "error",
     "traceback": [
      "\u001b[1;36m  File \u001b[1;32m\"<ipython-input-36-47c9c2f7c914>\"\u001b[1;36m, line \u001b[1;32m1\u001b[0m\n\u001b[1;33m    7、\t检查一个数是不是质数\u001b[0m\n\u001b[1;37m     ^\u001b[0m\n\u001b[1;31mSyntaxError\u001b[0m\u001b[1;31m:\u001b[0m invalid character in identifier\n"
     ]
    }
   ],
   "source": [
    "7、\t检查一个数是不是质数"
   ]
  },
  {
   "cell_type": "code",
   "execution_count": 56,
   "metadata": {},
   "outputs": [],
   "source": [
    "def xian(num):\n",
    "    if num <= 2:\n",
    "        return True\n",
    "    for i in range(2, int(num)):\n",
    "        if not (num % i):\n",
    "            return False\n",
    "    return True"
   ]
  },
  {
   "cell_type": "code",
   "execution_count": 67,
   "metadata": {},
   "outputs": [
    {
     "data": {
      "text/plain": "True"
     },
     "execution_count": 67,
     "metadata": {},
     "output_type": "execute_result"
    }
   ],
   "source": [
    "xian(11)"
   ]
  }
 ]
}