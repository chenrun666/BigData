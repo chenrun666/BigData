{
 "nbformat": 4,
 "nbformat_minor": 2,
 "metadata": {
  "language_info": {
   "name": "python",
   "codemirror_mode": {
    "name": "ipython",
    "version": 3
   },
   "version": "3.7.6-final"
  },
  "orig_nbformat": 2,
  "file_extension": ".py",
  "mimetype": "text/x-python",
  "name": "python",
  "npconvert_exporter": "python",
  "pygments_lexer": "ipython3",
  "version": 3,
  "kernelspec": {
   "name": "python37664bit39e4ce2527674632bd611360cdb1060c",
   "display_name": "Python 3.7.6 64-bit"
  }
 },
 "cells": [
  {
   "cell_type": "code",
   "execution_count": 1,
   "metadata": {},
   "outputs": [],
   "source": [
    "import numpy as np \n",
    "import pandas as pd \n",
    "import matplotlib.pyplot as plt "
   ]
  },
  {
   "cell_type": "code",
   "execution_count": 4,
   "metadata": {},
   "outputs": [
    {
     "data": {
      "text/html": "<div>\n<style scoped>\n    .dataframe tbody tr th:only-of-type {\n        vertical-align: middle;\n    }\n\n    .dataframe tbody tr th {\n        vertical-align: top;\n    }\n\n    .dataframe thead th {\n        text-align: right;\n    }\n</style>\n<table border=\"1\" class=\"dataframe\">\n  <thead>\n    <tr style=\"text-align: right;\">\n      <th></th>\n      <th>orderId</th>\n      <th>userId</th>\n      <th>productId</th>\n      <th>cityId</th>\n      <th>price</th>\n      <th>payMoney</th>\n      <th>channelId</th>\n      <th>deviceType</th>\n      <th>createTime</th>\n      <th>payTime</th>\n    </tr>\n    <tr>\n      <th>id</th>\n      <th></th>\n      <th></th>\n      <th></th>\n      <th></th>\n      <th></th>\n      <th></th>\n      <th></th>\n      <th></th>\n      <th></th>\n      <th></th>\n    </tr>\n  </thead>\n  <tbody>\n    <tr>\n      <th>1</th>\n      <td>232148841</td>\n      <td>2794924</td>\n      <td>268</td>\n      <td>110001</td>\n      <td>35300</td>\n      <td>35300</td>\n      <td>9058255c90</td>\n      <td>3</td>\n      <td>2016-01-01 12:53:02</td>\n      <td>2016-01-01 12:53:24</td>\n    </tr>\n    <tr>\n      <th>2</th>\n      <td>222298971</td>\n      <td>1664684</td>\n      <td>801</td>\n      <td>330001</td>\n      <td>51200</td>\n      <td>49900</td>\n      <td>e0e6019897</td>\n      <td>2</td>\n      <td>2016-01-01 21:42:51</td>\n      <td>2016-01-01 21:43:30</td>\n    </tr>\n    <tr>\n      <th>3</th>\n      <td>211494392</td>\n      <td>2669372</td>\n      <td>934</td>\n      <td>220002</td>\n      <td>62100</td>\n      <td>62100</td>\n      <td>9058255c90</td>\n      <td>3</td>\n      <td>2016-01-01 14:10:13</td>\n      <td>2016-01-01 14:11:18</td>\n    </tr>\n    <tr>\n      <th>4</th>\n      <td>334575272</td>\n      <td>1924727</td>\n      <td>422</td>\n      <td>230001</td>\n      <td>50600</td>\n      <td>42000</td>\n      <td>46d5cea30d</td>\n      <td>2</td>\n      <td>2016-01-01 17:43:35</td>\n      <td>2016-01-01 17:43:53</td>\n    </tr>\n    <tr>\n      <th>5</th>\n      <td>144825651</td>\n      <td>4148671</td>\n      <td>473</td>\n      <td>130006</td>\n      <td>149100</td>\n      <td>142000</td>\n      <td>6ff1752b69</td>\n      <td>2</td>\n      <td>2016-01-01 18:52:04</td>\n      <td>2016-01-01 18:52:47</td>\n    </tr>\n  </tbody>\n</table>\n</div>",
      "text/plain": "      orderId   userId  productId  cityId   price  payMoney   channelId  \\\nid                                                                        \n1   232148841  2794924        268  110001   35300     35300  9058255c90   \n2   222298971  1664684        801  330001   51200     49900  e0e6019897   \n3   211494392  2669372        934  220002   62100     62100  9058255c90   \n4   334575272  1924727        422  230001   50600     42000  46d5cea30d   \n5   144825651  4148671        473  130006  149100    142000  6ff1752b69   \n\n    deviceType           createTime              payTime  \nid                                                        \n1            3  2016-01-01 12:53:02  2016-01-01 12:53:24  \n2            2  2016-01-01 21:42:51  2016-01-01 21:43:30  \n3            3  2016-01-01 14:10:13  2016-01-01 14:11:18  \n4            2  2016-01-01 17:43:35  2016-01-01 17:43:53  \n5            2  2016-01-01 18:52:04  2016-01-01 18:52:47  "
     },
     "execution_count": 4,
     "metadata": {},
     "output_type": "execute_result"
    }
   ],
   "source": [
    "# 读取数据\n",
    "data = pd.read_csv('../../data/kaikeba/order_info_2016.csv', index_col='id')\n",
    "data.head()"
   ]
  },
  {
   "cell_type": "code",
   "execution_count": 5,
   "metadata": {},
   "outputs": [
    {
     "data": {
      "text/html": "<div>\n<style scoped>\n    .dataframe tbody tr th:only-of-type {\n        vertical-align: middle;\n    }\n\n    .dataframe tbody tr th {\n        vertical-align: top;\n    }\n\n    .dataframe thead th {\n        text-align: right;\n    }\n</style>\n<table border=\"1\" class=\"dataframe\">\n  <thead>\n    <tr style=\"text-align: right;\">\n      <th></th>\n      <th>orderId</th>\n      <th>userId</th>\n      <th>productId</th>\n      <th>cityId</th>\n      <th>price</th>\n      <th>payMoney</th>\n      <th>deviceType</th>\n    </tr>\n  </thead>\n  <tbody>\n    <tr>\n      <th>count</th>\n      <td>1.045570e+05</td>\n      <td>1.045570e+05</td>\n      <td>104557.000000</td>\n      <td>104557.000000</td>\n      <td>1.045570e+05</td>\n      <td>1.045570e+05</td>\n      <td>104557.000000</td>\n    </tr>\n    <tr>\n      <th>mean</th>\n      <td>2.993341e+08</td>\n      <td>3.270527e+06</td>\n      <td>504.566275</td>\n      <td>154410.947225</td>\n      <td>9.167350e+04</td>\n      <td>8.686689e+04</td>\n      <td>2.385292</td>\n    </tr>\n    <tr>\n      <th>std</th>\n      <td>5.149818e+07</td>\n      <td>4.138208e+07</td>\n      <td>288.130647</td>\n      <td>72197.163762</td>\n      <td>9.158836e+04</td>\n      <td>9.072028e+04</td>\n      <td>0.648472</td>\n    </tr>\n    <tr>\n      <th>min</th>\n      <td>1.035627e+08</td>\n      <td>2.930600e+04</td>\n      <td>0.000000</td>\n      <td>30000.000000</td>\n      <td>6.000000e+02</td>\n      <td>-1.000000e+03</td>\n      <td>1.000000</td>\n    </tr>\n    <tr>\n      <th>25%</th>\n      <td>2.633627e+08</td>\n      <td>2.179538e+06</td>\n      <td>254.000000</td>\n      <td>100011.000000</td>\n      <td>3.790000e+04</td>\n      <td>3.360000e+04</td>\n      <td>2.000000</td>\n    </tr>\n    <tr>\n      <th>50%</th>\n      <td>2.989828e+08</td>\n      <td>2.705995e+06</td>\n      <td>507.000000</td>\n      <td>150001.000000</td>\n      <td>5.920000e+04</td>\n      <td>5.500000e+04</td>\n      <td>2.000000</td>\n    </tr>\n    <tr>\n      <th>75%</th>\n      <td>3.349972e+08</td>\n      <td>3.271237e+06</td>\n      <td>758.000000</td>\n      <td>220002.000000</td>\n      <td>1.080000e+05</td>\n      <td>1.040000e+05</td>\n      <td>3.000000</td>\n    </tr>\n    <tr>\n      <th>max</th>\n      <td>4.871430e+08</td>\n      <td>3.072939e+09</td>\n      <td>1000.000000</td>\n      <td>380001.000000</td>\n      <td>2.295600e+06</td>\n      <td>2.294200e+06</td>\n      <td>6.000000</td>\n    </tr>\n  </tbody>\n</table>\n</div>",
      "text/plain": "            orderId        userId      productId         cityId         price  \\\ncount  1.045570e+05  1.045570e+05  104557.000000  104557.000000  1.045570e+05   \nmean   2.993341e+08  3.270527e+06     504.566275  154410.947225  9.167350e+04   \nstd    5.149818e+07  4.138208e+07     288.130647   72197.163762  9.158836e+04   \nmin    1.035627e+08  2.930600e+04       0.000000   30000.000000  6.000000e+02   \n25%    2.633627e+08  2.179538e+06     254.000000  100011.000000  3.790000e+04   \n50%    2.989828e+08  2.705995e+06     507.000000  150001.000000  5.920000e+04   \n75%    3.349972e+08  3.271237e+06     758.000000  220002.000000  1.080000e+05   \nmax    4.871430e+08  3.072939e+09    1000.000000  380001.000000  2.295600e+06   \n\n           payMoney     deviceType  \ncount  1.045570e+05  104557.000000  \nmean   8.686689e+04       2.385292  \nstd    9.072028e+04       0.648472  \nmin   -1.000000e+03       1.000000  \n25%    3.360000e+04       2.000000  \n50%    5.500000e+04       2.000000  \n75%    1.040000e+05       3.000000  \nmax    2.294200e+06       6.000000  "
     },
     "execution_count": 5,
     "metadata": {},
     "output_type": "execute_result"
    }
   ],
   "source": [
    "data.describe()"
   ]
  },
  {
   "cell_type": "code",
   "execution_count": 6,
   "metadata": {},
   "outputs": [
    {
     "data": {
      "text/plain": "104530"
     },
     "execution_count": 6,
     "metadata": {},
     "output_type": "execute_result"
    }
   ],
   "source": [
    "# 查看不重复的记录\n",
    "data.orderId.unique().size"
   ]
  },
  {
   "cell_type": "code",
   "execution_count": 7,
   "metadata": {},
   "outputs": [
    {
     "data": {
      "text/plain": "104557"
     },
     "execution_count": 7,
     "metadata": {},
     "output_type": "execute_result"
    }
   ],
   "source": [
    "data.orderId.size"
   ]
  },
  {
   "cell_type": "code",
   "execution_count": 8,
   "metadata": {},
   "outputs": [],
   "source": [
    "# 转换价格\n",
    "data.price = data.price / 100"
   ]
  },
  {
   "cell_type": "code",
   "execution_count": 11,
   "metadata": {},
   "outputs": [],
   "source": [
    "# 产出掉异常值\n",
    "data.drop(data[data.payMoney < 0].index, inplace=True)"
   ]
  },
  {
   "cell_type": "code",
   "execution_count": 12,
   "metadata": {},
   "outputs": [
    {
     "data": {
      "text/html": "<div>\n<style scoped>\n    .dataframe tbody tr th:only-of-type {\n        vertical-align: middle;\n    }\n\n    .dataframe tbody tr th {\n        vertical-align: top;\n    }\n\n    .dataframe thead th {\n        text-align: right;\n    }\n</style>\n<table border=\"1\" class=\"dataframe\">\n  <thead>\n    <tr style=\"text-align: right;\">\n      <th></th>\n      <th>orderId</th>\n      <th>userId</th>\n      <th>productId</th>\n      <th>cityId</th>\n      <th>price</th>\n      <th>payMoney</th>\n      <th>channelId</th>\n      <th>deviceType</th>\n      <th>createTime</th>\n      <th>payTime</th>\n    </tr>\n    <tr>\n      <th>id</th>\n      <th></th>\n      <th></th>\n      <th></th>\n      <th></th>\n      <th></th>\n      <th></th>\n      <th></th>\n      <th></th>\n      <th></th>\n      <th></th>\n    </tr>\n  </thead>\n  <tbody>\n  </tbody>\n</table>\n</div>",
      "text/plain": "Empty DataFrame\nColumns: [orderId, userId, productId, cityId, price, payMoney, channelId, deviceType, createTime, payTime]\nIndex: []"
     },
     "execution_count": 12,
     "metadata": {},
     "output_type": "execute_result"
    }
   ],
   "source": [
    "data[data.payMoney < 0]"
   ]
  },
  {
   "cell_type": "code",
   "execution_count": 13,
   "metadata": {},
   "outputs": [
    {
     "data": {
      "text/html": "<div>\n<style scoped>\n    .dataframe tbody tr th:only-of-type {\n        vertical-align: middle;\n    }\n\n    .dataframe tbody tr th {\n        vertical-align: top;\n    }\n\n    .dataframe thead th {\n        text-align: right;\n    }\n</style>\n<table border=\"1\" class=\"dataframe\">\n  <thead>\n    <tr style=\"text-align: right;\">\n      <th></th>\n      <th>orderId</th>\n      <th>userId</th>\n      <th>productId</th>\n      <th>cityId</th>\n      <th>price</th>\n      <th>payMoney</th>\n      <th>deviceType</th>\n    </tr>\n  </thead>\n  <tbody>\n    <tr>\n      <th>count</th>\n      <td>1.045510e+05</td>\n      <td>1.045510e+05</td>\n      <td>104551.000000</td>\n      <td>104551.000000</td>\n      <td>104551.000000</td>\n      <td>1.045510e+05</td>\n      <td>104551.000000</td>\n    </tr>\n    <tr>\n      <th>mean</th>\n      <td>2.993335e+08</td>\n      <td>3.270559e+06</td>\n      <td>504.562740</td>\n      <td>154410.912932</td>\n      <td>916.760547</td>\n      <td>8.687194e+04</td>\n      <td>2.385305</td>\n    </tr>\n    <tr>\n      <th>std</th>\n      <td>5.149949e+07</td>\n      <td>4.138327e+07</td>\n      <td>288.137028</td>\n      <td>72196.297520</td>\n      <td>915.887228</td>\n      <td>9.072045e+04</td>\n      <td>0.648468</td>\n    </tr>\n    <tr>\n      <th>min</th>\n      <td>1.035627e+08</td>\n      <td>2.930600e+04</td>\n      <td>0.000000</td>\n      <td>30000.000000</td>\n      <td>6.000000</td>\n      <td>0.000000e+00</td>\n      <td>1.000000</td>\n    </tr>\n    <tr>\n      <th>25%</th>\n      <td>2.633601e+08</td>\n      <td>2.179658e+06</td>\n      <td>254.000000</td>\n      <td>100011.000000</td>\n      <td>379.000000</td>\n      <td>3.360000e+04</td>\n      <td>2.000000</td>\n    </tr>\n    <tr>\n      <th>50%</th>\n      <td>2.989820e+08</td>\n      <td>2.705995e+06</td>\n      <td>507.000000</td>\n      <td>150001.000000</td>\n      <td>592.000000</td>\n      <td>5.500000e+04</td>\n      <td>2.000000</td>\n    </tr>\n    <tr>\n      <th>75%</th>\n      <td>3.349980e+08</td>\n      <td>3.271231e+06</td>\n      <td>758.000000</td>\n      <td>220002.000000</td>\n      <td>1080.000000</td>\n      <td>1.040000e+05</td>\n      <td>3.000000</td>\n    </tr>\n    <tr>\n      <th>max</th>\n      <td>4.871430e+08</td>\n      <td>3.072939e+09</td>\n      <td>1000.000000</td>\n      <td>380001.000000</td>\n      <td>22956.000000</td>\n      <td>2.294200e+06</td>\n      <td>6.000000</td>\n    </tr>\n  </tbody>\n</table>\n</div>",
      "text/plain": "            orderId        userId      productId         cityId  \\\ncount  1.045510e+05  1.045510e+05  104551.000000  104551.000000   \nmean   2.993335e+08  3.270559e+06     504.562740  154410.912932   \nstd    5.149949e+07  4.138327e+07     288.137028   72196.297520   \nmin    1.035627e+08  2.930600e+04       0.000000   30000.000000   \n25%    2.633601e+08  2.179658e+06     254.000000  100011.000000   \n50%    2.989820e+08  2.705995e+06     507.000000  150001.000000   \n75%    3.349980e+08  3.271231e+06     758.000000  220002.000000   \nmax    4.871430e+08  3.072939e+09    1000.000000  380001.000000   \n\n               price      payMoney     deviceType  \ncount  104551.000000  1.045510e+05  104551.000000  \nmean      916.760547  8.687194e+04       2.385305  \nstd       915.887228  9.072045e+04       0.648468  \nmin         6.000000  0.000000e+00       1.000000  \n25%       379.000000  3.360000e+04       2.000000  \n50%       592.000000  5.500000e+04       2.000000  \n75%      1080.000000  1.040000e+05       3.000000  \nmax     22956.000000  2.294200e+06       6.000000  "
     },
     "execution_count": 13,
     "metadata": {},
     "output_type": "execute_result"
    }
   ],
   "source": [
    "data.describe()"
   ]
  },
  {
   "cell_type": "code",
   "execution_count": 15,
   "metadata": {},
   "outputs": [],
   "source": [
    "data.drop(data[data.channelId.isnull()].index, inplace=True)"
   ]
  },
  {
   "cell_type": "code",
   "execution_count": 16,
   "metadata": {},
   "outputs": [
    {
     "data": {
      "text/html": "<div>\n<style scoped>\n    .dataframe tbody tr th:only-of-type {\n        vertical-align: middle;\n    }\n\n    .dataframe tbody tr th {\n        vertical-align: top;\n    }\n\n    .dataframe thead th {\n        text-align: right;\n    }\n</style>\n<table border=\"1\" class=\"dataframe\">\n  <thead>\n    <tr style=\"text-align: right;\">\n      <th></th>\n      <th>orderId</th>\n      <th>userId</th>\n      <th>productId</th>\n      <th>cityId</th>\n      <th>price</th>\n      <th>payMoney</th>\n      <th>channelId</th>\n      <th>deviceType</th>\n      <th>createTime</th>\n      <th>payTime</th>\n    </tr>\n    <tr>\n      <th>id</th>\n      <th></th>\n      <th></th>\n      <th></th>\n      <th></th>\n      <th></th>\n      <th></th>\n      <th></th>\n      <th></th>\n      <th></th>\n      <th></th>\n    </tr>\n  </thead>\n  <tbody>\n  </tbody>\n</table>\n</div>",
      "text/plain": "Empty DataFrame\nColumns: [orderId, userId, productId, cityId, price, payMoney, channelId, deviceType, createTime, payTime]\nIndex: []"
     },
     "execution_count": 16,
     "metadata": {},
     "output_type": "execute_result"
    }
   ],
   "source": [
    "data[data.channelId.isnull()]"
   ]
  },
  {
   "cell_type": "code",
   "execution_count": 17,
   "metadata": {},
   "outputs": [
    {
     "data": {
      "text/plain": "2    52440\n3    42944\n1     7052\n4     2017\n6       87\n5        3\nName: deviceType, dtype: int64"
     },
     "execution_count": 17,
     "metadata": {},
     "output_type": "execute_result"
    }
   ],
   "source": [
    "data.deviceType.value_counts(dropna=False)"
   ]
  },
  {
   "cell_type": "code",
   "execution_count": 19,
   "metadata": {},
   "outputs": [],
   "source": [
    "data.drop(data[data.productId == 0].index, inplace=True)"
   ]
  },
  {
   "cell_type": "code",
   "execution_count": 20,
   "metadata": {},
   "outputs": [
    {
     "data": {
      "text/html": "<div>\n<style scoped>\n    .dataframe tbody tr th:only-of-type {\n        vertical-align: middle;\n    }\n\n    .dataframe tbody tr th {\n        vertical-align: top;\n    }\n\n    .dataframe thead th {\n        text-align: right;\n    }\n</style>\n<table border=\"1\" class=\"dataframe\">\n  <thead>\n    <tr style=\"text-align: right;\">\n      <th></th>\n      <th>orderId</th>\n      <th>userId</th>\n      <th>productId</th>\n      <th>cityId</th>\n      <th>price</th>\n      <th>payMoney</th>\n      <th>channelId</th>\n      <th>deviceType</th>\n      <th>createTime</th>\n      <th>payTime</th>\n    </tr>\n    <tr>\n      <th>id</th>\n      <th></th>\n      <th></th>\n      <th></th>\n      <th></th>\n      <th></th>\n      <th></th>\n      <th></th>\n      <th></th>\n      <th></th>\n      <th></th>\n    </tr>\n  </thead>\n  <tbody>\n  </tbody>\n</table>\n</div>",
      "text/plain": "Empty DataFrame\nColumns: [orderId, userId, productId, cityId, price, payMoney, channelId, deviceType, createTime, payTime]\nIndex: []"
     },
     "execution_count": 20,
     "metadata": {},
     "output_type": "execute_result"
    }
   ],
   "source": [
    "data[data.productId == 0]"
   ]
  },
  {
   "cell_type": "code",
   "execution_count": 25,
   "metadata": {},
   "outputs": [],
   "source": [
    "data.payMoney = data.payMoney / 100"
   ]
  },
  {
   "cell_type": "code",
   "execution_count": 26,
   "metadata": {},
   "outputs": [
    {
     "name": "stdout",
     "output_type": "stream",
     "text": "104366\n102484\n90698741.7\n"
    }
   ],
   "source": [
    "print(data.orderId.count())\n",
    "print(data.userId.unique().size)\n",
    "print(data.payMoney.sum())"
   ]
  },
  {
   "cell_type": "code",
   "execution_count": 30,
   "metadata": {},
   "outputs": [
    {
     "data": {
      "text/plain": "productId\n895     354\n762     350\n103     335\n587     303\n60      302\n       ... \n347      21\n597      19\n468      18\n986      16\n1000     13\nName: orderId, Length: 1000, dtype: int64"
     },
     "execution_count": 30,
     "metadata": {},
     "output_type": "execute_result"
    }
   ],
   "source": [
    "data.groupby('productId').count()[\"orderId\"].sort_values(ascending=False)  # 按照销量排序"
   ]
  },
  {
   "cell_type": "code",
   "execution_count": 36,
   "metadata": {},
   "outputs": [
    {
     "data": {
      "text/plain": "productId\n385     427522.1\n61      363012.0\n103     346410.2\n405     339525.0\n720     322405.1\n          ...   \n408      18861.0\n986      14784.0\n964      14238.0\n1000     12169.0\n347      12070.0\nName: payMoney, Length: 1000, dtype: float64"
     },
     "execution_count": 36,
     "metadata": {},
     "output_type": "execute_result"
    }
   ],
   "source": [
    "data.groupby('productId').sum()['payMoney'].sort_values(ascending=False)"
   ]
  },
  {
   "cell_type": "code",
   "execution_count": 49,
   "metadata": {},
   "outputs": [],
   "source": [
    "data.drop(['商品销售占总销售额的占比'], axis=1, inplace=True)"
   ]
  },
  {
   "cell_type": "code",
   "execution_count": 50,
   "metadata": {},
   "outputs": [
    {
     "data": {
      "text/html": "<div>\n<style scoped>\n    .dataframe tbody tr th:only-of-type {\n        vertical-align: middle;\n    }\n\n    .dataframe tbody tr th {\n        vertical-align: top;\n    }\n\n    .dataframe thead th {\n        text-align: right;\n    }\n</style>\n<table border=\"1\" class=\"dataframe\">\n  <thead>\n    <tr style=\"text-align: right;\">\n      <th></th>\n      <th>orderId</th>\n      <th>userId</th>\n      <th>productId</th>\n      <th>cityId</th>\n      <th>price</th>\n      <th>payMoney</th>\n      <th>channelId</th>\n      <th>deviceType</th>\n      <th>createTime</th>\n      <th>payTime</th>\n    </tr>\n    <tr>\n      <th>id</th>\n      <th></th>\n      <th></th>\n      <th></th>\n      <th></th>\n      <th></th>\n      <th></th>\n      <th></th>\n      <th></th>\n      <th></th>\n      <th></th>\n    </tr>\n  </thead>\n  <tbody>\n    <tr>\n      <th>1</th>\n      <td>232148841</td>\n      <td>2794924</td>\n      <td>268</td>\n      <td>110001</td>\n      <td>353.0</td>\n      <td>353.0</td>\n      <td>9058255c90</td>\n      <td>3</td>\n      <td>2016-01-01 12:53:02</td>\n      <td>2016-01-01 12:53:24</td>\n    </tr>\n    <tr>\n      <th>2</th>\n      <td>222298971</td>\n      <td>1664684</td>\n      <td>801</td>\n      <td>330001</td>\n      <td>512.0</td>\n      <td>499.0</td>\n      <td>e0e6019897</td>\n      <td>2</td>\n      <td>2016-01-01 21:42:51</td>\n      <td>2016-01-01 21:43:30</td>\n    </tr>\n    <tr>\n      <th>3</th>\n      <td>211494392</td>\n      <td>2669372</td>\n      <td>934</td>\n      <td>220002</td>\n      <td>621.0</td>\n      <td>621.0</td>\n      <td>9058255c90</td>\n      <td>3</td>\n      <td>2016-01-01 14:10:13</td>\n      <td>2016-01-01 14:11:18</td>\n    </tr>\n    <tr>\n      <th>4</th>\n      <td>334575272</td>\n      <td>1924727</td>\n      <td>422</td>\n      <td>230001</td>\n      <td>506.0</td>\n      <td>420.0</td>\n      <td>46d5cea30d</td>\n      <td>2</td>\n      <td>2016-01-01 17:43:35</td>\n      <td>2016-01-01 17:43:53</td>\n    </tr>\n    <tr>\n      <th>5</th>\n      <td>144825651</td>\n      <td>4148671</td>\n      <td>473</td>\n      <td>130006</td>\n      <td>1491.0</td>\n      <td>1420.0</td>\n      <td>6ff1752b69</td>\n      <td>2</td>\n      <td>2016-01-01 18:52:04</td>\n      <td>2016-01-01 18:52:47</td>\n    </tr>\n  </tbody>\n</table>\n</div>",
      "text/plain": "      orderId   userId  productId  cityId   price  payMoney   channelId  \\\nid                                                                        \n1   232148841  2794924        268  110001   353.0     353.0  9058255c90   \n2   222298971  1664684        801  330001   512.0     499.0  e0e6019897   \n3   211494392  2669372        934  220002   621.0     621.0  9058255c90   \n4   334575272  1924727        422  230001   506.0     420.0  46d5cea30d   \n5   144825651  4148671        473  130006  1491.0    1420.0  6ff1752b69   \n\n    deviceType           createTime              payTime  \nid                                                        \n1            3  2016-01-01 12:53:02  2016-01-01 12:53:24  \n2            2  2016-01-01 21:42:51  2016-01-01 21:43:30  \n3            3  2016-01-01 14:10:13  2016-01-01 14:11:18  \n4            2  2016-01-01 17:43:35  2016-01-01 17:43:53  \n5            2  2016-01-01 18:52:04  2016-01-01 18:52:47  "
     },
     "execution_count": 50,
     "metadata": {},
     "output_type": "execute_result"
    }
   ],
   "source": [
    "data.head()"
   ]
  },
  {
   "cell_type": "code",
   "execution_count": 45,
   "metadata": {},
   "outputs": [
    {
     "data": {
      "text/plain": "104366"
     },
     "execution_count": 45,
     "metadata": {},
     "output_type": "execute_result"
    }
   ],
   "source": [
    "data.productId.size"
   ]
  }
 ]
}