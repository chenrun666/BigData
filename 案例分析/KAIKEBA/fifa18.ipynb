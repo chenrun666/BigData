{
 "nbformat": 4,
 "nbformat_minor": 2,
 "metadata": {
  "language_info": {
   "name": "python",
   "codemirror_mode": {
    "name": "ipython",
    "version": 3
   },
   "version": "3.7.6-final"
  },
  "orig_nbformat": 2,
  "file_extension": ".py",
  "mimetype": "text/x-python",
  "name": "python",
  "npconvert_exporter": "python",
  "pygments_lexer": "ipython3",
  "version": 3,
  "kernelspec": {
   "name": "python37664bit39e4ce2527674632bd611360cdb1060c",
   "display_name": "Python 3.7.6 64-bit"
  }
 },
 "cells": [
  {
   "cell_type": "code",
   "execution_count": 2,
   "metadata": {},
   "outputs": [],
   "source": [
    "import numpy as np \n",
    "import pandas as pd\n",
    "import matplotlib.pyplot as plt \n"
   ]
  },
  {
   "cell_type": "code",
   "execution_count": 3,
   "metadata": {},
   "outputs": [
    {
     "data": {
      "text/html": "<div>\n<style scoped>\n    .dataframe tbody tr th:only-of-type {\n        vertical-align: middle;\n    }\n\n    .dataframe tbody tr th {\n        vertical-align: top;\n    }\n\n    .dataframe thead th {\n        text-align: right;\n    }\n</style>\n<table border=\"1\" class=\"dataframe\">\n  <thead>\n    <tr style=\"text-align: right;\">\n      <th></th>\n      <th>ID</th>\n      <th>name</th>\n      <th>full_name</th>\n      <th>nationality</th>\n      <th>league</th>\n      <th>club</th>\n      <th>age</th>\n      <th>birth_date</th>\n      <th>height_cm</th>\n      <th>weight_kg</th>\n      <th>eur_value</th>\n      <th>eur_wage</th>\n    </tr>\n  </thead>\n  <tbody>\n    <tr>\n      <th>0</th>\n      <td>20801</td>\n      <td>Cristiano Ronaldo</td>\n      <td>C. Ronaldo dos Santos Aveiro</td>\n      <td>Portugal</td>\n      <td>Spanish Primera División</td>\n      <td>Real Madrid CF</td>\n      <td>32</td>\n      <td>1985-02-05</td>\n      <td>185.0</td>\n      <td>80.0</td>\n      <td>95500000.0</td>\n      <td>565000.0</td>\n    </tr>\n    <tr>\n      <th>1</th>\n      <td>158023</td>\n      <td>L. Messi</td>\n      <td>Lionel Messi</td>\n      <td>Argentina</td>\n      <td>Spanish Primera División</td>\n      <td>FC Barcelona</td>\n      <td>30</td>\n      <td>1987-06-24</td>\n      <td>170.0</td>\n      <td>72.0</td>\n      <td>105000000.0</td>\n      <td>565000.0</td>\n    </tr>\n    <tr>\n      <th>2</th>\n      <td>190871</td>\n      <td>Neymar</td>\n      <td>Neymar da Silva Santos Jr.</td>\n      <td>Brazil</td>\n      <td>French Ligue 1</td>\n      <td>Paris Saint-Germain</td>\n      <td>25</td>\n      <td>1992-02-05</td>\n      <td>175.0</td>\n      <td>68.0</td>\n      <td>123000000.0</td>\n      <td>280000.0</td>\n    </tr>\n    <tr>\n      <th>3</th>\n      <td>176580</td>\n      <td>L. Suárez</td>\n      <td>Luis Suárez</td>\n      <td>Uruguay</td>\n      <td>Spanish Primera División</td>\n      <td>FC Barcelona</td>\n      <td>30</td>\n      <td>1987-01-24</td>\n      <td>182.0</td>\n      <td>86.0</td>\n      <td>97000000.0</td>\n      <td>510000.0</td>\n    </tr>\n    <tr>\n      <th>4</th>\n      <td>167495</td>\n      <td>M. Neuer</td>\n      <td>Manuel Neuer</td>\n      <td>Germany</td>\n      <td>German Bundesliga</td>\n      <td>FC Bayern Munich</td>\n      <td>31</td>\n      <td>1986-03-27</td>\n      <td>193.0</td>\n      <td>92.0</td>\n      <td>61000000.0</td>\n      <td>230000.0</td>\n    </tr>\n  </tbody>\n</table>\n</div>",
      "text/plain": "       ID               name                     full_name nationality  \\\n0   20801  Cristiano Ronaldo  C. Ronaldo dos Santos Aveiro    Portugal   \n1  158023           L. Messi                  Lionel Messi   Argentina   \n2  190871             Neymar    Neymar da Silva Santos Jr.      Brazil   \n3  176580          L. Suárez                   Luis Suárez     Uruguay   \n4  167495           M. Neuer                  Manuel Neuer     Germany   \n\n                     league                 club  age  birth_date  height_cm  \\\n0  Spanish Primera División       Real Madrid CF   32  1985-02-05      185.0   \n1  Spanish Primera División         FC Barcelona   30  1987-06-24      170.0   \n2            French Ligue 1  Paris Saint-Germain   25  1992-02-05      175.0   \n3  Spanish Primera División         FC Barcelona   30  1987-01-24      182.0   \n4         German Bundesliga     FC Bayern Munich   31  1986-03-27      193.0   \n\n   weight_kg    eur_value  eur_wage  \n0       80.0   95500000.0  565000.0  \n1       72.0  105000000.0  565000.0  \n2       68.0  123000000.0  280000.0  \n3       86.0   97000000.0  510000.0  \n4       92.0   61000000.0  230000.0  "
     },
     "execution_count": 3,
     "metadata": {},
     "output_type": "execute_result"
    }
   ],
   "source": [
    "# 加载数据\n",
    "df = pd.read_csv('../../data/kaikeba/FIFA_2018_player.csv')\n",
    "df.head()"
   ]
  },
  {
   "cell_type": "code",
   "execution_count": 4,
   "metadata": {},
   "outputs": [
    {
     "data": {
      "text/html": "<div>\n<style scoped>\n    .dataframe tbody tr th:only-of-type {\n        vertical-align: middle;\n    }\n\n    .dataframe tbody tr th {\n        vertical-align: top;\n    }\n\n    .dataframe thead th {\n        text-align: right;\n    }\n</style>\n<table border=\"1\" class=\"dataframe\">\n  <thead>\n    <tr style=\"text-align: right;\">\n      <th></th>\n      <th>ID</th>\n      <th>age</th>\n      <th>height_cm</th>\n      <th>weight_kg</th>\n      <th>eur_value</th>\n      <th>eur_wage</th>\n    </tr>\n  </thead>\n  <tbody>\n    <tr>\n      <th>count</th>\n      <td>17994.000000</td>\n      <td>17994.000000</td>\n      <td>17994.000000</td>\n      <td>17994.000000</td>\n      <td>1.799400e+04</td>\n      <td>17994.000000</td>\n    </tr>\n    <tr>\n      <th>mean</th>\n      <td>207791.796543</td>\n      <td>25.120151</td>\n      <td>181.271980</td>\n      <td>75.400856</td>\n      <td>2.370511e+06</td>\n      <td>11503.834612</td>\n    </tr>\n    <tr>\n      <th>std</th>\n      <td>32328.527723</td>\n      <td>4.617428</td>\n      <td>6.690392</td>\n      <td>6.994824</td>\n      <td>5.347250e+06</td>\n      <td>23050.661073</td>\n    </tr>\n    <tr>\n      <th>min</th>\n      <td>16.000000</td>\n      <td>16.000000</td>\n      <td>155.000000</td>\n      <td>49.000000</td>\n      <td>0.000000e+00</td>\n      <td>0.000000</td>\n    </tr>\n    <tr>\n      <th>25%</th>\n      <td>192621.250000</td>\n      <td>21.000000</td>\n      <td>177.000000</td>\n      <td>70.000000</td>\n      <td>3.000000e+05</td>\n      <td>2000.000000</td>\n    </tr>\n    <tr>\n      <th>50%</th>\n      <td>214186.000000</td>\n      <td>25.000000</td>\n      <td>181.000000</td>\n      <td>75.000000</td>\n      <td>7.000000e+05</td>\n      <td>4000.000000</td>\n    </tr>\n    <tr>\n      <th>75%</th>\n      <td>231615.750000</td>\n      <td>28.000000</td>\n      <td>186.000000</td>\n      <td>80.000000</td>\n      <td>2.000000e+06</td>\n      <td>12000.000000</td>\n    </tr>\n    <tr>\n      <th>max</th>\n      <td>241489.000000</td>\n      <td>47.000000</td>\n      <td>205.000000</td>\n      <td>110.000000</td>\n      <td>1.230000e+08</td>\n      <td>565000.000000</td>\n    </tr>\n  </tbody>\n</table>\n</div>",
      "text/plain": "                  ID           age     height_cm     weight_kg     eur_value  \\\ncount   17994.000000  17994.000000  17994.000000  17994.000000  1.799400e+04   \nmean   207791.796543     25.120151    181.271980     75.400856  2.370511e+06   \nstd     32328.527723      4.617428      6.690392      6.994824  5.347250e+06   \nmin        16.000000     16.000000    155.000000     49.000000  0.000000e+00   \n25%    192621.250000     21.000000    177.000000     70.000000  3.000000e+05   \n50%    214186.000000     25.000000    181.000000     75.000000  7.000000e+05   \n75%    231615.750000     28.000000    186.000000     80.000000  2.000000e+06   \nmax    241489.000000     47.000000    205.000000    110.000000  1.230000e+08   \n\n            eur_wage  \ncount   17994.000000  \nmean    11503.834612  \nstd     23050.661073  \nmin         0.000000  \n25%      2000.000000  \n50%      4000.000000  \n75%     12000.000000  \nmax    565000.000000  "
     },
     "execution_count": 4,
     "metadata": {},
     "output_type": "execute_result"
    }
   ],
   "source": [
    "# 查看数据的整体信息\n",
    "df.describe()"
   ]
  },
  {
   "cell_type": "code",
   "execution_count": 5,
   "metadata": {},
   "outputs": [
    {
     "data": {
      "text/html": "<div>\n<style scoped>\n    .dataframe tbody tr th:only-of-type {\n        vertical-align: middle;\n    }\n\n    .dataframe tbody tr th {\n        vertical-align: top;\n    }\n\n    .dataframe thead th {\n        text-align: right;\n    }\n</style>\n<table border=\"1\" class=\"dataframe\">\n  <thead>\n    <tr style=\"text-align: right;\">\n      <th></th>\n      <th>ID</th>\n      <th>name</th>\n      <th>full_name</th>\n      <th>nationality</th>\n      <th>league</th>\n      <th>club</th>\n      <th>age</th>\n      <th>birth_date</th>\n      <th>height_cm</th>\n      <th>weight_kg</th>\n      <th>eur_value</th>\n      <th>eur_wage</th>\n    </tr>\n  </thead>\n  <tbody>\n  </tbody>\n</table>\n</div>",
      "text/plain": "Empty DataFrame\nColumns: [ID, name, full_name, nationality, league, club, age, birth_date, height_cm, weight_kg, eur_value, eur_wage]\nIndex: []"
     },
     "execution_count": 5,
     "metadata": {},
     "output_type": "execute_result"
    }
   ],
   "source": [
    "# 开始清理数据\n",
    "# 所有需要分析的数据都需要看下\n",
    "# 对于数值型，可以看下describe方法输出的额信息，重点关注最大值，最小值，平均数，行数等数据\n",
    "\n",
    "# name是否有null值\n",
    "df[df.name.isnull()]"
   ]
  },
  {
   "cell_type": "code",
   "execution_count": 6,
   "metadata": {},
   "outputs": [
    {
     "data": {
      "text/html": "<div>\n<style scoped>\n    .dataframe tbody tr th:only-of-type {\n        vertical-align: middle;\n    }\n\n    .dataframe tbody tr th {\n        vertical-align: top;\n    }\n\n    .dataframe thead th {\n        text-align: right;\n    }\n</style>\n<table border=\"1\" class=\"dataframe\">\n  <thead>\n    <tr style=\"text-align: right;\">\n      <th></th>\n      <th>ID</th>\n      <th>name</th>\n      <th>full_name</th>\n      <th>nationality</th>\n      <th>league</th>\n      <th>club</th>\n      <th>age</th>\n      <th>birth_date</th>\n      <th>height_cm</th>\n      <th>weight_kg</th>\n      <th>eur_value</th>\n      <th>eur_wage</th>\n    </tr>\n  </thead>\n  <tbody>\n  </tbody>\n</table>\n</div>",
      "text/plain": "Empty DataFrame\nColumns: [ID, name, full_name, nationality, league, club, age, birth_date, height_cm, weight_kg, eur_value, eur_wage]\nIndex: []"
     },
     "execution_count": 6,
     "metadata": {},
     "output_type": "execute_result"
    }
   ],
   "source": [
    "df[df.full_name.isnull()]"
   ]
  },
  {
   "cell_type": "code",
   "execution_count": 7,
   "metadata": {},
   "outputs": [
    {
     "data": {
      "text/html": "<div>\n<style scoped>\n    .dataframe tbody tr th:only-of-type {\n        vertical-align: middle;\n    }\n\n    .dataframe tbody tr th {\n        vertical-align: top;\n    }\n\n    .dataframe thead th {\n        text-align: right;\n    }\n</style>\n<table border=\"1\" class=\"dataframe\">\n  <thead>\n    <tr style=\"text-align: right;\">\n      <th></th>\n      <th>ID</th>\n      <th>name</th>\n      <th>full_name</th>\n      <th>nationality</th>\n      <th>league</th>\n      <th>club</th>\n      <th>age</th>\n      <th>birth_date</th>\n      <th>height_cm</th>\n      <th>weight_kg</th>\n      <th>eur_value</th>\n      <th>eur_wage</th>\n    </tr>\n  </thead>\n  <tbody>\n    <tr>\n      <th>163</th>\n      <td>188152</td>\n      <td>Oscar</td>\n      <td>Oscar dos Santos Emboaba</td>\n      <td>Brazil</td>\n      <td>NaN</td>\n      <td>NaN</td>\n      <td>25</td>\n      <td>1991-09-09</td>\n      <td>179.0</td>\n      <td>67.0</td>\n      <td>0.0</td>\n      <td>0.0</td>\n    </tr>\n    <tr>\n      <th>168</th>\n      <td>184826</td>\n      <td>Adrien Silva</td>\n      <td>Adrien S. Perruchet Silva</td>\n      <td>Portugal</td>\n      <td>NaN</td>\n      <td>NaN</td>\n      <td>28</td>\n      <td>1989-03-15</td>\n      <td>175.0</td>\n      <td>69.0</td>\n      <td>0.0</td>\n      <td>0.0</td>\n    </tr>\n    <tr>\n      <th>271</th>\n      <td>177413</td>\n      <td>A. Witsel</td>\n      <td>Axel Witsel</td>\n      <td>Belgium</td>\n      <td>NaN</td>\n      <td>NaN</td>\n      <td>28</td>\n      <td>1989-01-12</td>\n      <td>186.0</td>\n      <td>73.0</td>\n      <td>0.0</td>\n      <td>0.0</td>\n    </tr>\n    <tr>\n      <th>480</th>\n      <td>176733</td>\n      <td>M. Berg</td>\n      <td>Marcus Berg</td>\n      <td>Sweden</td>\n      <td>NaN</td>\n      <td>NaN</td>\n      <td>30</td>\n      <td>1986-08-17</td>\n      <td>184.0</td>\n      <td>74.0</td>\n      <td>0.0</td>\n      <td>0.0</td>\n    </tr>\n    <tr>\n      <th>494</th>\n      <td>169195</td>\n      <td>Renato Augusto</td>\n      <td>Renato Augusto</td>\n      <td>Brazil</td>\n      <td>NaN</td>\n      <td>NaN</td>\n      <td>29</td>\n      <td>1988-02-08</td>\n      <td>186.0</td>\n      <td>86.0</td>\n      <td>0.0</td>\n      <td>0.0</td>\n    </tr>\n    <tr>\n      <th>...</th>\n      <td>...</td>\n      <td>...</td>\n      <td>...</td>\n      <td>...</td>\n      <td>...</td>\n      <td>...</td>\n      <td>...</td>\n      <td>...</td>\n      <td>...</td>\n      <td>...</td>\n      <td>...</td>\n      <td>...</td>\n    </tr>\n    <tr>\n      <th>17267</th>\n      <td>234509</td>\n      <td>F. Cardozo</td>\n      <td>Fulganco Cardozo</td>\n      <td>India</td>\n      <td>NaN</td>\n      <td>NaN</td>\n      <td>29</td>\n      <td>1988-01-23</td>\n      <td>183.0</td>\n      <td>76.0</td>\n      <td>0.0</td>\n      <td>0.0</td>\n    </tr>\n    <tr>\n      <th>17486</th>\n      <td>234508</td>\n      <td>C. Singh</td>\n      <td>Chinglensana Singh</td>\n      <td>India</td>\n      <td>NaN</td>\n      <td>NaN</td>\n      <td>20</td>\n      <td>1996-11-23</td>\n      <td>190.0</td>\n      <td>79.0</td>\n      <td>0.0</td>\n      <td>0.0</td>\n    </tr>\n    <tr>\n      <th>17489</th>\n      <td>223760</td>\n      <td>A. Singh</td>\n      <td>Amrinder Singh</td>\n      <td>India</td>\n      <td>NaN</td>\n      <td>NaN</td>\n      <td>24</td>\n      <td>1993-05-27</td>\n      <td>186.0</td>\n      <td>81.0</td>\n      <td>0.0</td>\n      <td>0.0</td>\n    </tr>\n    <tr>\n      <th>17511</th>\n      <td>233526</td>\n      <td>S. Passi</td>\n      <td>Sumeet Passi</td>\n      <td>India</td>\n      <td>NaN</td>\n      <td>NaN</td>\n      <td>22</td>\n      <td>1995-04-18</td>\n      <td>175.0</td>\n      <td>65.0</td>\n      <td>0.0</td>\n      <td>0.0</td>\n    </tr>\n    <tr>\n      <th>17568</th>\n      <td>231057</td>\n      <td>S. Brotherton</td>\n      <td>Sam Brotherton</td>\n      <td>New Zealand</td>\n      <td>NaN</td>\n      <td>NaN</td>\n      <td>20</td>\n      <td>1996-10-29</td>\n      <td>187.0</td>\n      <td>90.0</td>\n      <td>0.0</td>\n      <td>0.0</td>\n    </tr>\n  </tbody>\n</table>\n<p>253 rows × 12 columns</p>\n</div>",
      "text/plain": "           ID            name                  full_name  nationality league  \\\n163    188152           Oscar   Oscar dos Santos Emboaba       Brazil    NaN   \n168    184826    Adrien Silva  Adrien S. Perruchet Silva     Portugal    NaN   \n271    177413       A. Witsel                Axel Witsel      Belgium    NaN   \n480    176733         M. Berg                Marcus Berg       Sweden    NaN   \n494    169195  Renato Augusto             Renato Augusto       Brazil    NaN   \n...       ...             ...                        ...          ...    ...   \n17267  234509      F. Cardozo           Fulganco Cardozo        India    NaN   \n17486  234508        C. Singh         Chinglensana Singh        India    NaN   \n17489  223760        A. Singh             Amrinder Singh        India    NaN   \n17511  233526        S. Passi               Sumeet Passi        India    NaN   \n17568  231057   S. Brotherton             Sam Brotherton  New Zealand    NaN   \n\n      club  age  birth_date  height_cm  weight_kg  eur_value  eur_wage  \n163    NaN   25  1991-09-09      179.0       67.0        0.0       0.0  \n168    NaN   28  1989-03-15      175.0       69.0        0.0       0.0  \n271    NaN   28  1989-01-12      186.0       73.0        0.0       0.0  \n480    NaN   30  1986-08-17      184.0       74.0        0.0       0.0  \n494    NaN   29  1988-02-08      186.0       86.0        0.0       0.0  \n...    ...  ...         ...        ...        ...        ...       ...  \n17267  NaN   29  1988-01-23      183.0       76.0        0.0       0.0  \n17486  NaN   20  1996-11-23      190.0       79.0        0.0       0.0  \n17489  NaN   24  1993-05-27      186.0       81.0        0.0       0.0  \n17511  NaN   22  1995-04-18      175.0       65.0        0.0       0.0  \n17568  NaN   20  1996-10-29      187.0       90.0        0.0       0.0  \n\n[253 rows x 12 columns]"
     },
     "execution_count": 7,
     "metadata": {},
     "output_type": "execute_result"
    }
   ],
   "source": [
    "df[df.league.isnull()]"
   ]
  },
  {
   "cell_type": "code",
   "execution_count": 8,
   "metadata": {},
   "outputs": [],
   "source": [
    "# 处理league的null值\n",
    "df.drop(df[df.league.isnull()].index, inplace=True)"
   ]
  },
  {
   "cell_type": "code",
   "execution_count": 9,
   "metadata": {},
   "outputs": [
    {
     "data": {
      "text/html": "<div>\n<style scoped>\n    .dataframe tbody tr th:only-of-type {\n        vertical-align: middle;\n    }\n\n    .dataframe tbody tr th {\n        vertical-align: top;\n    }\n\n    .dataframe thead th {\n        text-align: right;\n    }\n</style>\n<table border=\"1\" class=\"dataframe\">\n  <thead>\n    <tr style=\"text-align: right;\">\n      <th></th>\n      <th>ID</th>\n      <th>name</th>\n      <th>full_name</th>\n      <th>nationality</th>\n      <th>league</th>\n      <th>club</th>\n      <th>age</th>\n      <th>birth_date</th>\n      <th>height_cm</th>\n      <th>weight_kg</th>\n      <th>eur_value</th>\n      <th>eur_wage</th>\n    </tr>\n  </thead>\n  <tbody>\n    <tr>\n      <th>10575</th>\n      <td>234925</td>\n      <td>K. Pierie</td>\n      <td>Kik Pierie</td>\n      <td>Netherlands</td>\n      <td>Holland Eredivisie</td>\n      <td>SC Heerenveen</td>\n      <td>16</td>\n      <td>2000-07-20</td>\n      <td>185.0</td>\n      <td>75.0</td>\n      <td>950000.0</td>\n      <td>1000.0</td>\n    </tr>\n    <tr>\n      <th>11430</th>\n      <td>240507</td>\n      <td>A. Gomes</td>\n      <td>Angel Gomes</td>\n      <td>England</td>\n      <td>English Premier League</td>\n      <td>Manchester United</td>\n      <td>16</td>\n      <td>2000-08-31</td>\n      <td>168.0</td>\n      <td>52.0</td>\n      <td>975000.0</td>\n      <td>9000.0</td>\n    </tr>\n    <tr>\n      <th>13767</th>\n      <td>239892</td>\n      <td>Y. Akgün</td>\n      <td>Yunus Akgün</td>\n      <td>Turkey</td>\n      <td>Turkish Süper Lig</td>\n      <td>Galatasaray SK</td>\n      <td>16</td>\n      <td>2000-07-07</td>\n      <td>172.0</td>\n      <td>65.0</td>\n      <td>500000.0</td>\n      <td>4000.0</td>\n    </tr>\n    <tr>\n      <th>13768</th>\n      <td>240661</td>\n      <td>E. Vignato</td>\n      <td>Emanuel Vignato</td>\n      <td>Italy</td>\n      <td>Italian Serie A</td>\n      <td>Chievo Verona</td>\n      <td>16</td>\n      <td>2000-08-24</td>\n      <td>175.0</td>\n      <td>68.0</td>\n      <td>500000.0</td>\n      <td>1000.0</td>\n    </tr>\n    <tr>\n      <th>13769</th>\n      <td>241173</td>\n      <td>L. Foster</td>\n      <td>Lyle Foster</td>\n      <td>South Africa</td>\n      <td>South African PSL</td>\n      <td>Orlando Pirates</td>\n      <td>16</td>\n      <td>2000-09-04</td>\n      <td>180.0</td>\n      <td>70.0</td>\n      <td>500000.0</td>\n      <td>1000.0</td>\n    </tr>\n  </tbody>\n</table>\n</div>",
      "text/plain": "           ID        name        full_name   nationality  \\\n10575  234925   K. Pierie       Kik Pierie   Netherlands   \n11430  240507    A. Gomes      Angel Gomes       England   \n13767  239892    Y. Akgün      Yunus Akgün        Turkey   \n13768  240661  E. Vignato  Emanuel Vignato         Italy   \n13769  241173   L. Foster      Lyle Foster  South Africa   \n\n                       league               club  age  birth_date  height_cm  \\\n10575      Holland Eredivisie      SC Heerenveen   16  2000-07-20      185.0   \n11430  English Premier League  Manchester United   16  2000-08-31      168.0   \n13767       Turkish Süper Lig     Galatasaray SK   16  2000-07-07      172.0   \n13768         Italian Serie A      Chievo Verona   16  2000-08-24      175.0   \n13769       South African PSL    Orlando Pirates   16  2000-09-04      180.0   \n\n       weight_kg  eur_value  eur_wage  \n10575       75.0   950000.0    1000.0  \n11430       52.0   975000.0    9000.0  \n13767       65.0   500000.0    4000.0  \n13768       68.0   500000.0    1000.0  \n13769       70.0   500000.0    1000.0  "
     },
     "execution_count": 9,
     "metadata": {},
     "output_type": "execute_result"
    }
   ],
   "source": [
    "df[df['age'] == 16].head()"
   ]
  },
  {
   "cell_type": "code",
   "execution_count": 10,
   "metadata": {},
   "outputs": [
    {
     "data": {
      "text/html": "<div>\n<style scoped>\n    .dataframe tbody tr th:only-of-type {\n        vertical-align: middle;\n    }\n\n    .dataframe tbody tr th {\n        vertical-align: top;\n    }\n\n    .dataframe thead th {\n        text-align: right;\n    }\n</style>\n<table border=\"1\" class=\"dataframe\">\n  <thead>\n    <tr style=\"text-align: right;\">\n      <th></th>\n      <th>ID</th>\n      <th>name</th>\n      <th>full_name</th>\n      <th>nationality</th>\n      <th>league</th>\n      <th>club</th>\n      <th>age</th>\n      <th>birth_date</th>\n      <th>height_cm</th>\n      <th>weight_kg</th>\n      <th>eur_value</th>\n      <th>eur_wage</th>\n    </tr>\n  </thead>\n  <tbody>\n    <tr>\n      <th>2199</th>\n      <td>3665</td>\n      <td>B. Nivet</td>\n      <td>Benjamin Nivet</td>\n      <td>France</td>\n      <td>French Ligue 1</td>\n      <td>ES Troyes AC</td>\n      <td>40</td>\n      <td>1977-01-02</td>\n      <td>178.0</td>\n      <td>75.0</td>\n      <td>0.0</td>\n      <td>16000.0</td>\n    </tr>\n    <tr>\n      <th>3105</th>\n      <td>17605</td>\n      <td>T. Simons</td>\n      <td>Timmy Simons</td>\n      <td>Belgium</td>\n      <td>Belgian First Division A</td>\n      <td>Club Brugge KV</td>\n      <td>40</td>\n      <td>1976-12-11</td>\n      <td>186.0</td>\n      <td>80.0</td>\n      <td>0.0</td>\n      <td>14000.0</td>\n    </tr>\n    <tr>\n      <th>3272</th>\n      <td>176900</td>\n      <td>M. Candelo</td>\n      <td>Máyer Candelo</td>\n      <td>Colombia</td>\n      <td>Colombian Primera A</td>\n      <td>Asociacion Deportivo Cali</td>\n      <td>40</td>\n      <td>1977-02-20</td>\n      <td>170.0</td>\n      <td>65.0</td>\n      <td>0.0</td>\n      <td>2000.0</td>\n    </tr>\n    <tr>\n      <th>7734</th>\n      <td>148745</td>\n      <td>K. Wæhler</td>\n      <td>Kjetil Wæhler</td>\n      <td>Norway</td>\n      <td>Norwegian Eliteserien</td>\n      <td>Sogndal</td>\n      <td>41</td>\n      <td>1976-03-16</td>\n      <td>182.0</td>\n      <td>78.0</td>\n      <td>0.0</td>\n      <td>2000.0</td>\n    </tr>\n    <tr>\n      <th>17628</th>\n      <td>149727</td>\n      <td>P. Jennings</td>\n      <td>Patrick Jennings</td>\n      <td>England</td>\n      <td>Rep. Ireland Premier Division</td>\n      <td>St. Patrick's Athletic</td>\n      <td>37</td>\n      <td>1979-09-24</td>\n      <td>177.0</td>\n      <td>81.0</td>\n      <td>0.0</td>\n      <td>1000.0</td>\n    </tr>\n    <tr>\n      <th>17990</th>\n      <td>11728</td>\n      <td>B. Richardson</td>\n      <td>Barry Richardson</td>\n      <td>England</td>\n      <td>English League Two</td>\n      <td>Wycombe Wanderers</td>\n      <td>47</td>\n      <td>1969-08-05</td>\n      <td>185.0</td>\n      <td>77.0</td>\n      <td>0.0</td>\n      <td>1000.0</td>\n    </tr>\n  </tbody>\n</table>\n</div>",
      "text/plain": "           ID           name         full_name nationality  \\\n2199     3665       B. Nivet    Benjamin Nivet      France   \n3105    17605      T. Simons      Timmy Simons     Belgium   \n3272   176900     M. Candelo     Máyer Candelo    Colombia   \n7734   148745      K. Wæhler     Kjetil Wæhler      Norway   \n17628  149727    P. Jennings  Patrick Jennings     England   \n17990   11728  B. Richardson  Barry Richardson     England   \n\n                              league                       club  age  \\\n2199                  French Ligue 1               ES Troyes AC   40   \n3105        Belgian First Division A             Club Brugge KV   40   \n3272             Colombian Primera A  Asociacion Deportivo Cali   40   \n7734           Norwegian Eliteserien                    Sogndal   41   \n17628  Rep. Ireland Premier Division     St. Patrick's Athletic   37   \n17990             English League Two          Wycombe Wanderers   47   \n\n       birth_date  height_cm  weight_kg  eur_value  eur_wage  \n2199   1977-01-02      178.0       75.0        0.0   16000.0  \n3105   1976-12-11      186.0       80.0        0.0   14000.0  \n3272   1977-02-20      170.0       65.0        0.0    2000.0  \n7734   1976-03-16      182.0       78.0        0.0    2000.0  \n17628  1979-09-24      177.0       81.0        0.0    1000.0  \n17990  1969-08-05      185.0       77.0        0.0    1000.0  "
     },
     "execution_count": 10,
     "metadata": {},
     "output_type": "execute_result"
    }
   ],
   "source": [
    "# eur_value的最小值是0需要看下\n",
    "df[df['eur_value'] < 1000]"
   ]
  },
  {
   "cell_type": "code",
   "execution_count": 11,
   "metadata": {},
   "outputs": [],
   "source": [
    "# eur_value 为0可以使用平均值填充\n",
    "df['eur_value'].replace(0, df['eur_value'].mean(), inplace=True)"
   ]
  },
  {
   "cell_type": "code",
   "execution_count": 12,
   "metadata": {},
   "outputs": [
    {
     "data": {
      "text/html": "<div>\n<style scoped>\n    .dataframe tbody tr th:only-of-type {\n        vertical-align: middle;\n    }\n\n    .dataframe tbody tr th {\n        vertical-align: top;\n    }\n\n    .dataframe thead th {\n        text-align: right;\n    }\n</style>\n<table border=\"1\" class=\"dataframe\">\n  <thead>\n    <tr style=\"text-align: right;\">\n      <th></th>\n      <th>ID</th>\n      <th>name</th>\n      <th>full_name</th>\n      <th>nationality</th>\n      <th>league</th>\n      <th>club</th>\n      <th>age</th>\n      <th>birth_date</th>\n      <th>height_cm</th>\n      <th>weight_kg</th>\n      <th>eur_value</th>\n      <th>eur_wage</th>\n    </tr>\n  </thead>\n  <tbody>\n  </tbody>\n</table>\n</div>",
      "text/plain": "Empty DataFrame\nColumns: [ID, name, full_name, nationality, league, club, age, birth_date, height_cm, weight_kg, eur_value, eur_wage]\nIndex: []"
     },
     "execution_count": 12,
     "metadata": {},
     "output_type": "execute_result"
    }
   ],
   "source": [
    "df[df['eur_value'] < 1000]"
   ]
  },
  {
   "cell_type": "code",
   "execution_count": 13,
   "metadata": {},
   "outputs": [
    {
     "data": {
      "text/html": "<div>\n<style scoped>\n    .dataframe tbody tr th:only-of-type {\n        vertical-align: middle;\n    }\n\n    .dataframe tbody tr th {\n        vertical-align: top;\n    }\n\n    .dataframe thead th {\n        text-align: right;\n    }\n</style>\n<table border=\"1\" class=\"dataframe\">\n  <thead>\n    <tr style=\"text-align: right;\">\n      <th></th>\n      <th>ID</th>\n      <th>name</th>\n      <th>full_name</th>\n      <th>nationality</th>\n      <th>league</th>\n      <th>club</th>\n      <th>age</th>\n      <th>birth_date</th>\n      <th>height_cm</th>\n      <th>weight_kg</th>\n      <th>eur_value</th>\n      <th>eur_wage</th>\n    </tr>\n  </thead>\n  <tbody>\n    <tr>\n      <th>17990</th>\n      <td>11728</td>\n      <td>B. Richardson</td>\n      <td>Barry Richardson</td>\n      <td>England</td>\n      <td>English League Two</td>\n      <td>Wycombe Wanderers</td>\n      <td>47</td>\n      <td>1969-08-05</td>\n      <td>185.0</td>\n      <td>77.0</td>\n      <td>2.404317e+06</td>\n      <td>1000.0</td>\n    </tr>\n  </tbody>\n</table>\n</div>",
      "text/plain": "          ID           name         full_name nationality              league  \\\n17990  11728  B. Richardson  Barry Richardson     England  English League Two   \n\n                    club  age  birth_date  height_cm  weight_kg     eur_value  \\\n17990  Wycombe Wanderers   47  1969-08-05      185.0       77.0  2.404317e+06   \n\n       eur_wage  \n17990    1000.0  "
     },
     "execution_count": 13,
     "metadata": {},
     "output_type": "execute_result"
    }
   ],
   "source": [
    "df[df.ID == 11728]"
   ]
  },
  {
   "cell_type": "code",
   "execution_count": 14,
   "metadata": {},
   "outputs": [
    {
     "data": {
      "text/html": "<div>\n<style scoped>\n    .dataframe tbody tr th:only-of-type {\n        vertical-align: middle;\n    }\n\n    .dataframe tbody tr th {\n        vertical-align: top;\n    }\n\n    .dataframe thead th {\n        text-align: right;\n    }\n</style>\n<table border=\"1\" class=\"dataframe\">\n  <thead>\n    <tr style=\"text-align: right;\">\n      <th></th>\n      <th>ID</th>\n      <th>age</th>\n      <th>height_cm</th>\n      <th>weight_kg</th>\n      <th>eur_value</th>\n      <th>eur_wage</th>\n    </tr>\n  </thead>\n  <tbody>\n    <tr>\n      <th>count</th>\n      <td>17741.000000</td>\n      <td>17741.000000</td>\n      <td>17741.000000</td>\n      <td>17741.000000</td>\n      <td>1.774100e+04</td>\n      <td>17741.000000</td>\n    </tr>\n    <tr>\n      <th>mean</th>\n      <td>207756.835522</td>\n      <td>25.088552</td>\n      <td>181.277944</td>\n      <td>75.397103</td>\n      <td>2.405130e+06</td>\n      <td>11667.887943</td>\n    </tr>\n    <tr>\n      <th>std</th>\n      <td>32421.331072</td>\n      <td>4.616413</td>\n      <td>6.692701</td>\n      <td>6.993980</td>\n      <td>5.377511e+06</td>\n      <td>23173.181633</td>\n    </tr>\n    <tr>\n      <th>min</th>\n      <td>16.000000</td>\n      <td>16.000000</td>\n      <td>155.000000</td>\n      <td>49.000000</td>\n      <td>1.000000e+04</td>\n      <td>1000.000000</td>\n    </tr>\n    <tr>\n      <th>25%</th>\n      <td>192621.000000</td>\n      <td>21.000000</td>\n      <td>177.000000</td>\n      <td>70.000000</td>\n      <td>3.250000e+05</td>\n      <td>2000.000000</td>\n    </tr>\n    <tr>\n      <th>50%</th>\n      <td>214175.000000</td>\n      <td>25.000000</td>\n      <td>181.000000</td>\n      <td>75.000000</td>\n      <td>7.000000e+05</td>\n      <td>4000.000000</td>\n    </tr>\n    <tr>\n      <th>75%</th>\n      <td>231624.000000</td>\n      <td>28.000000</td>\n      <td>186.000000</td>\n      <td>80.000000</td>\n      <td>2.100000e+06</td>\n      <td>12000.000000</td>\n    </tr>\n    <tr>\n      <th>max</th>\n      <td>241489.000000</td>\n      <td>47.000000</td>\n      <td>205.000000</td>\n      <td>110.000000</td>\n      <td>1.230000e+08</td>\n      <td>565000.000000</td>\n    </tr>\n  </tbody>\n</table>\n</div>",
      "text/plain": "                  ID           age     height_cm     weight_kg     eur_value  \\\ncount   17741.000000  17741.000000  17741.000000  17741.000000  1.774100e+04   \nmean   207756.835522     25.088552    181.277944     75.397103  2.405130e+06   \nstd     32421.331072      4.616413      6.692701      6.993980  5.377511e+06   \nmin        16.000000     16.000000    155.000000     49.000000  1.000000e+04   \n25%    192621.000000     21.000000    177.000000     70.000000  3.250000e+05   \n50%    214175.000000     25.000000    181.000000     75.000000  7.000000e+05   \n75%    231624.000000     28.000000    186.000000     80.000000  2.100000e+06   \nmax    241489.000000     47.000000    205.000000    110.000000  1.230000e+08   \n\n            eur_wage  \ncount   17741.000000  \nmean    11667.887943  \nstd     23173.181633  \nmin      1000.000000  \n25%      2000.000000  \n50%      4000.000000  \n75%     12000.000000  \nmax    565000.000000  "
     },
     "execution_count": 14,
     "metadata": {},
     "output_type": "execute_result"
    }
   ],
   "source": [
    "# eur_wage 最小值是0也需要看下\n",
    "df.describe()"
   ]
  },
  {
   "cell_type": "code",
   "execution_count": 15,
   "metadata": {},
   "outputs": [
    {
     "data": {
      "text/html": "<div>\n<style scoped>\n    .dataframe tbody tr th:only-of-type {\n        vertical-align: middle;\n    }\n\n    .dataframe tbody tr th {\n        vertical-align: top;\n    }\n\n    .dataframe thead th {\n        text-align: right;\n    }\n</style>\n<table border=\"1\" class=\"dataframe\">\n  <thead>\n    <tr style=\"text-align: right;\">\n      <th></th>\n      <th>ID</th>\n      <th>name</th>\n      <th>full_name</th>\n      <th>nationality</th>\n      <th>league</th>\n      <th>club</th>\n      <th>age</th>\n      <th>birth_date</th>\n      <th>height_cm</th>\n      <th>weight_kg</th>\n      <th>eur_value</th>\n      <th>eur_wage</th>\n    </tr>\n  </thead>\n  <tbody>\n  </tbody>\n</table>\n</div>",
      "text/plain": "Empty DataFrame\nColumns: [ID, name, full_name, nationality, league, club, age, birth_date, height_cm, weight_kg, eur_value, eur_wage]\nIndex: []"
     },
     "execution_count": 15,
     "metadata": {},
     "output_type": "execute_result"
    }
   ],
   "source": [
    "# 查看有没有重复的值\n",
    "df[df.duplicated()]"
   ]
  },
  {
   "cell_type": "code",
   "execution_count": 16,
   "metadata": {},
   "outputs": [
    {
     "data": {
      "text/html": "<div>\n<style scoped>\n    .dataframe tbody tr th:only-of-type {\n        vertical-align: middle;\n    }\n\n    .dataframe tbody tr th {\n        vertical-align: top;\n    }\n\n    .dataframe thead th {\n        text-align: right;\n    }\n</style>\n<table border=\"1\" class=\"dataframe\">\n  <thead>\n    <tr style=\"text-align: right;\">\n      <th></th>\n      <th>ID</th>\n      <th>name</th>\n      <th>full_name</th>\n      <th>nationality</th>\n      <th>league</th>\n      <th>club</th>\n      <th>age</th>\n      <th>birth_date</th>\n      <th>height_cm</th>\n      <th>weight_kg</th>\n      <th>eur_value</th>\n      <th>eur_wage</th>\n    </tr>\n  </thead>\n  <tbody>\n  </tbody>\n</table>\n</div>",
      "text/plain": "Empty DataFrame\nColumns: [ID, name, full_name, nationality, league, club, age, birth_date, height_cm, weight_kg, eur_value, eur_wage]\nIndex: []"
     },
     "execution_count": 16,
     "metadata": {},
     "output_type": "execute_result"
    }
   ],
   "source": [
    "# 根据指定的列判断是否有重复值\n",
    "df[df.loc[:, [\"full_name\", \"nationality\", \"league\", \"club\", \"birth_date\"]].duplicated()]"
   ]
  },
  {
   "cell_type": "code",
   "execution_count": 17,
   "metadata": {},
   "outputs": [
    {
     "data": {
      "text/plain": "ID             17741\nname           17741\nfull_name      17741\nnationality    17741\nleague         17741\nclub           17741\nage            17741\nbirth_date     17741\nheight_cm      17741\nweight_kg      17741\neur_value      17741\neur_wage       17741\ndtype: int64"
     },
     "execution_count": 17,
     "metadata": {},
     "output_type": "execute_result"
    }
   ],
   "source": [
    "# 样本数\n",
    "df.count()"
   ]
  },
  {
   "cell_type": "code",
   "execution_count": 18,
   "metadata": {},
   "outputs": [
    {
     "data": {
      "text/html": "<div>\n<style scoped>\n    .dataframe tbody tr th:only-of-type {\n        vertical-align: middle;\n    }\n\n    .dataframe tbody tr th {\n        vertical-align: top;\n    }\n\n    .dataframe thead th {\n        text-align: right;\n    }\n</style>\n<table border=\"1\" class=\"dataframe\">\n  <thead>\n    <tr style=\"text-align: right;\">\n      <th></th>\n      <th>ID</th>\n      <th>age</th>\n      <th>height_cm</th>\n      <th>weight_kg</th>\n      <th>eur_value</th>\n      <th>eur_wage</th>\n    </tr>\n  </thead>\n  <tbody>\n    <tr>\n      <th>count</th>\n      <td>17741.000000</td>\n      <td>17741.000000</td>\n      <td>17741.000000</td>\n      <td>17741.000000</td>\n      <td>1.774100e+04</td>\n      <td>17741.000000</td>\n    </tr>\n    <tr>\n      <th>mean</th>\n      <td>207756.835522</td>\n      <td>25.088552</td>\n      <td>181.277944</td>\n      <td>75.397103</td>\n      <td>2.405130e+06</td>\n      <td>11667.887943</td>\n    </tr>\n    <tr>\n      <th>std</th>\n      <td>32421.331072</td>\n      <td>4.616413</td>\n      <td>6.692701</td>\n      <td>6.993980</td>\n      <td>5.377511e+06</td>\n      <td>23173.181633</td>\n    </tr>\n    <tr>\n      <th>min</th>\n      <td>16.000000</td>\n      <td>16.000000</td>\n      <td>155.000000</td>\n      <td>49.000000</td>\n      <td>1.000000e+04</td>\n      <td>1000.000000</td>\n    </tr>\n    <tr>\n      <th>25%</th>\n      <td>192621.000000</td>\n      <td>21.000000</td>\n      <td>177.000000</td>\n      <td>70.000000</td>\n      <td>3.250000e+05</td>\n      <td>2000.000000</td>\n    </tr>\n    <tr>\n      <th>50%</th>\n      <td>214175.000000</td>\n      <td>25.000000</td>\n      <td>181.000000</td>\n      <td>75.000000</td>\n      <td>7.000000e+05</td>\n      <td>4000.000000</td>\n    </tr>\n    <tr>\n      <th>75%</th>\n      <td>231624.000000</td>\n      <td>28.000000</td>\n      <td>186.000000</td>\n      <td>80.000000</td>\n      <td>2.100000e+06</td>\n      <td>12000.000000</td>\n    </tr>\n    <tr>\n      <th>max</th>\n      <td>241489.000000</td>\n      <td>47.000000</td>\n      <td>205.000000</td>\n      <td>110.000000</td>\n      <td>1.230000e+08</td>\n      <td>565000.000000</td>\n    </tr>\n  </tbody>\n</table>\n</div>",
      "text/plain": "                  ID           age     height_cm     weight_kg     eur_value  \\\ncount   17741.000000  17741.000000  17741.000000  17741.000000  1.774100e+04   \nmean   207756.835522     25.088552    181.277944     75.397103  2.405130e+06   \nstd     32421.331072      4.616413      6.692701      6.993980  5.377511e+06   \nmin        16.000000     16.000000    155.000000     49.000000  1.000000e+04   \n25%    192621.000000     21.000000    177.000000     70.000000  3.250000e+05   \n50%    214175.000000     25.000000    181.000000     75.000000  7.000000e+05   \n75%    231624.000000     28.000000    186.000000     80.000000  2.100000e+06   \nmax    241489.000000     47.000000    205.000000    110.000000  1.230000e+08   \n\n            eur_wage  \ncount   17741.000000  \nmean    11667.887943  \nstd     23173.181633  \nmin      1000.000000  \n25%      2000.000000  \n50%      4000.000000  \n75%     12000.000000  \nmax    565000.000000  "
     },
     "execution_count": 18,
     "metadata": {},
     "output_type": "execute_result"
    }
   ],
   "source": [
    "df.describe()"
   ]
  },
  {
   "cell_type": "code",
   "execution_count": 22,
   "metadata": {},
   "outputs": [],
   "source": [
    "# 以国家分组的运动员\n",
    "nationality_data = df.groupby('nationality', as_index=False).count()[['nationality', 'ID']]"
   ]
  },
  {
   "cell_type": "code",
   "execution_count": 27,
   "metadata": {},
   "outputs": [
    {
     "data": {
      "text/html": "<div>\n<style scoped>\n    .dataframe tbody tr th:only-of-type {\n        vertical-align: middle;\n    }\n\n    .dataframe tbody tr th {\n        vertical-align: top;\n    }\n\n    .dataframe thead th {\n        text-align: right;\n    }\n</style>\n<table border=\"1\" class=\"dataframe\">\n  <thead>\n    <tr style=\"text-align: right;\">\n      <th></th>\n      <th>nationality</th>\n      <th>player_count</th>\n    </tr>\n  </thead>\n  <tbody>\n    <tr>\n      <th>0</th>\n      <td>Afghanistan</td>\n      <td>3</td>\n    </tr>\n    <tr>\n      <th>1</th>\n      <td>Albania</td>\n      <td>37</td>\n    </tr>\n    <tr>\n      <th>2</th>\n      <td>Algeria</td>\n      <td>59</td>\n    </tr>\n    <tr>\n      <th>3</th>\n      <td>Angola</td>\n      <td>15</td>\n    </tr>\n    <tr>\n      <th>4</th>\n      <td>Antigua &amp; Barbuda</td>\n      <td>4</td>\n    </tr>\n    <tr>\n      <th>...</th>\n      <td>...</td>\n      <td>...</td>\n    </tr>\n    <tr>\n      <th>158</th>\n      <td>Venezuela</td>\n      <td>42</td>\n    </tr>\n    <tr>\n      <th>159</th>\n      <td>Vietnam</td>\n      <td>1</td>\n    </tr>\n    <tr>\n      <th>160</th>\n      <td>Wales</td>\n      <td>123</td>\n    </tr>\n    <tr>\n      <th>161</th>\n      <td>Zambia</td>\n      <td>8</td>\n    </tr>\n    <tr>\n      <th>162</th>\n      <td>Zimbabwe</td>\n      <td>10</td>\n    </tr>\n  </tbody>\n</table>\n<p>163 rows × 2 columns</p>\n</div>",
      "text/plain": "           nationality  player_count\n0          Afghanistan             3\n1              Albania            37\n2              Algeria            59\n3               Angola            15\n4    Antigua & Barbuda             4\n..                 ...           ...\n158          Venezuela            42\n159            Vietnam             1\n160              Wales           123\n161             Zambia             8\n162           Zimbabwe            10\n\n[163 rows x 2 columns]"
     },
     "execution_count": 27,
     "metadata": {},
     "output_type": "execute_result"
    }
   ],
   "source": [
    "# 重命名列名\n",
    "nationality_data.rename(columns={'ID': 'player_count'}, inplace=True)\n",
    "nationality_data"
   ]
  },
  {
   "cell_type": "code",
   "execution_count": 31,
   "metadata": {},
   "outputs": [
    {
     "data": {
      "text/html": "<div>\n<style scoped>\n    .dataframe tbody tr th:only-of-type {\n        vertical-align: middle;\n    }\n\n    .dataframe tbody tr th {\n        vertical-align: top;\n    }\n\n    .dataframe thead th {\n        text-align: right;\n    }\n</style>\n<table border=\"1\" class=\"dataframe\">\n  <thead>\n    <tr style=\"text-align: right;\">\n      <th></th>\n      <th>nationality</th>\n      <th>player_count</th>\n    </tr>\n  </thead>\n  <tbody>\n    <tr>\n      <th>44</th>\n      <td>England</td>\n      <td>1631</td>\n    </tr>\n    <tr>\n      <th>57</th>\n      <td>Germany</td>\n      <td>1147</td>\n    </tr>\n    <tr>\n      <th>135</th>\n      <td>Spain</td>\n      <td>1020</td>\n    </tr>\n    <tr>\n      <th>53</th>\n      <td>France</td>\n      <td>966</td>\n    </tr>\n    <tr>\n      <th>5</th>\n      <td>Argentina</td>\n      <td>962</td>\n    </tr>\n    <tr>\n      <th>...</th>\n      <td>...</td>\n      <td>...</td>\n    </tr>\n    <tr>\n      <th>46</th>\n      <td>Eritrea</td>\n      <td>1</td>\n    </tr>\n    <tr>\n      <th>145</th>\n      <td>São Tomé &amp; Príncipe</td>\n      <td>1</td>\n    </tr>\n    <tr>\n      <th>125</th>\n      <td>San Marino</td>\n      <td>1</td>\n    </tr>\n    <tr>\n      <th>136</th>\n      <td>Sri Lanka</td>\n      <td>1</td>\n    </tr>\n    <tr>\n      <th>69</th>\n      <td>Hong Kong</td>\n      <td>1</td>\n    </tr>\n  </tbody>\n</table>\n<p>163 rows × 2 columns</p>\n</div>",
      "text/plain": "             nationality  player_count\n44               England          1631\n57               Germany          1147\n135                Spain          1020\n53                France           966\n5              Argentina           962\n..                   ...           ...\n46               Eritrea             1\n145  São Tomé & Príncipe             1\n125           San Marino             1\n136            Sri Lanka             1\n69             Hong Kong             1\n\n[163 rows x 2 columns]"
     },
     "execution_count": 31,
     "metadata": {},
     "output_type": "execute_result"
    }
   ],
   "source": [
    "# 排序\n",
    "nationality_data_sorted_data = nationality_data.sort_values('player_count', ascending=False)\n",
    "nationality_data_sorted_data"
   ]
  },
  {
   "cell_type": "code",
   "execution_count": 32,
   "metadata": {},
   "outputs": [
    {
     "data": {
      "text/html": "<div>\n<style scoped>\n    .dataframe tbody tr th:only-of-type {\n        vertical-align: middle;\n    }\n\n    .dataframe tbody tr th {\n        vertical-align: top;\n    }\n\n    .dataframe thead th {\n        text-align: right;\n    }\n</style>\n<table border=\"1\" class=\"dataframe\">\n  <thead>\n    <tr style=\"text-align: right;\">\n      <th></th>\n      <th>nationality</th>\n      <th>player_count</th>\n    </tr>\n  </thead>\n  <tbody>\n    <tr>\n      <th>44</th>\n      <td>England</td>\n      <td>1631</td>\n    </tr>\n    <tr>\n      <th>57</th>\n      <td>Germany</td>\n      <td>1147</td>\n    </tr>\n    <tr>\n      <th>135</th>\n      <td>Spain</td>\n      <td>1020</td>\n    </tr>\n    <tr>\n      <th>53</th>\n      <td>France</td>\n      <td>966</td>\n    </tr>\n    <tr>\n      <th>5</th>\n      <td>Argentina</td>\n      <td>962</td>\n    </tr>\n    <tr>\n      <th>18</th>\n      <td>Brazil</td>\n      <td>803</td>\n    </tr>\n    <tr>\n      <th>75</th>\n      <td>Italy</td>\n      <td>800</td>\n    </tr>\n    <tr>\n      <th>29</th>\n      <td>Colombia</td>\n      <td>591</td>\n    </tr>\n    <tr>\n      <th>78</th>\n      <td>Japan</td>\n      <td>471</td>\n    </tr>\n    <tr>\n      <th>105</th>\n      <td>Netherlands</td>\n      <td>430</td>\n    </tr>\n    <tr>\n      <th>122</th>\n      <td>Republic of Ireland</td>\n      <td>418</td>\n    </tr>\n    <tr>\n      <th>155</th>\n      <td>United States</td>\n      <td>378</td>\n    </tr>\n    <tr>\n      <th>142</th>\n      <td>Sweden</td>\n      <td>372</td>\n    </tr>\n    <tr>\n      <th>27</th>\n      <td>Chile</td>\n      <td>367</td>\n    </tr>\n    <tr>\n      <th>98</th>\n      <td>Mexico</td>\n      <td>361</td>\n    </tr>\n    <tr>\n      <th>119</th>\n      <td>Portugal</td>\n      <td>359</td>\n    </tr>\n    <tr>\n      <th>39</th>\n      <td>Denmark</td>\n      <td>346</td>\n    </tr>\n    <tr>\n      <th>118</th>\n      <td>Poland</td>\n      <td>336</td>\n    </tr>\n    <tr>\n      <th>82</th>\n      <td>Korea Republic</td>\n      <td>331</td>\n    </tr>\n    <tr>\n      <th>111</th>\n      <td>Norway</td>\n      <td>330</td>\n    </tr>\n    <tr>\n      <th>126</th>\n      <td>Saudi Arabia</td>\n      <td>327</td>\n    </tr>\n    <tr>\n      <th>124</th>\n      <td>Russia</td>\n      <td>306</td>\n    </tr>\n    <tr>\n      <th>127</th>\n      <td>Scotland</td>\n      <td>301</td>\n    </tr>\n    <tr>\n      <th>151</th>\n      <td>Turkey</td>\n      <td>292</td>\n    </tr>\n    <tr>\n      <th>8</th>\n      <td>Austria</td>\n      <td>266</td>\n    </tr>\n    <tr>\n      <th>12</th>\n      <td>Belgium</td>\n      <td>265</td>\n    </tr>\n    <tr>\n      <th>7</th>\n      <td>Australia</td>\n      <td>231</td>\n    </tr>\n    <tr>\n      <th>143</th>\n      <td>Switzerland</td>\n      <td>230</td>\n    </tr>\n    <tr>\n      <th>156</th>\n      <td>Uruguay</td>\n      <td>152</td>\n    </tr>\n    <tr>\n      <th>129</th>\n      <td>Serbia</td>\n      <td>133</td>\n    </tr>\n    <tr>\n      <th>109</th>\n      <td>Nigeria</td>\n      <td>129</td>\n    </tr>\n    <tr>\n      <th>128</th>\n      <td>Senegal</td>\n      <td>126</td>\n    </tr>\n    <tr>\n      <th>160</th>\n      <td>Wales</td>\n      <td>123</td>\n    </tr>\n    <tr>\n      <th>58</th>\n      <td>Ghana</td>\n      <td>114</td>\n    </tr>\n    <tr>\n      <th>33</th>\n      <td>Croatia</td>\n      <td>107</td>\n    </tr>\n  </tbody>\n</table>\n</div>",
      "text/plain": "             nationality  player_count\n44               England          1631\n57               Germany          1147\n135                Spain          1020\n53                France           966\n5              Argentina           962\n18                Brazil           803\n75                 Italy           800\n29              Colombia           591\n78                 Japan           471\n105          Netherlands           430\n122  Republic of Ireland           418\n155        United States           378\n142               Sweden           372\n27                 Chile           367\n98                Mexico           361\n119             Portugal           359\n39               Denmark           346\n118               Poland           336\n82        Korea Republic           331\n111               Norway           330\n126         Saudi Arabia           327\n124               Russia           306\n127             Scotland           301\n151               Turkey           292\n8                Austria           266\n12               Belgium           265\n7              Australia           231\n143          Switzerland           230\n156              Uruguay           152\n129               Serbia           133\n109              Nigeria           129\n128              Senegal           126\n160                Wales           123\n58                 Ghana           114\n33               Croatia           107"
     },
     "execution_count": 32,
     "metadata": {},
     "output_type": "execute_result"
    }
   ],
   "source": [
    "nationality_data_sorted_data[nationality_data_sorted_data.player_count > 100]"
   ]
  },
  {
   "cell_type": "code",
   "execution_count": 39,
   "metadata": {},
   "outputs": [
    {
     "data": {
      "text/html": "<div>\n<style scoped>\n    .dataframe tbody tr th:only-of-type {\n        vertical-align: middle;\n    }\n\n    .dataframe tbody tr th {\n        vertical-align: top;\n    }\n\n    .dataframe thead th {\n        text-align: right;\n    }\n</style>\n<table border=\"1\" class=\"dataframe\">\n  <thead>\n    <tr style=\"text-align: right;\">\n      <th></th>\n      <th>club</th>\n      <th>eur_wage</th>\n    </tr>\n  </thead>\n  <tbody>\n    <tr>\n      <th>219</th>\n      <td>FC Barcelona</td>\n      <td>194666.666667</td>\n    </tr>\n    <tr>\n      <th>466</th>\n      <td>Real Madrid CF</td>\n      <td>170821.428571</td>\n    </tr>\n    <tr>\n      <th>222</th>\n      <td>FC Bayern Munich</td>\n      <td>123384.615385</td>\n    </tr>\n    <tr>\n      <th>330</th>\n      <td>Juventus</td>\n      <td>122000.000000</td>\n    </tr>\n    <tr>\n      <th>377</th>\n      <td>Manchester United</td>\n      <td>109030.303030</td>\n    </tr>\n    <tr>\n      <th>142</th>\n      <td>Chelsea</td>\n      <td>105181.818182</td>\n    </tr>\n    <tr>\n      <th>376</th>\n      <td>Manchester City</td>\n      <td>95787.878788</td>\n    </tr>\n    <tr>\n      <th>51</th>\n      <td>Arsenal</td>\n      <td>91121.212121</td>\n    </tr>\n    <tr>\n      <th>368</th>\n      <td>Liverpool</td>\n      <td>83250.000000</td>\n    </tr>\n    <tr>\n      <th>432</th>\n      <td>Paris Saint-Germain</td>\n      <td>78285.714286</td>\n    </tr>\n  </tbody>\n</table>\n</div>",
      "text/plain": "                    club       eur_wage\n219         FC Barcelona  194666.666667\n466       Real Madrid CF  170821.428571\n222     FC Bayern Munich  123384.615385\n330             Juventus  122000.000000\n377    Manchester United  109030.303030\n142              Chelsea  105181.818182\n376      Manchester City   95787.878788\n51               Arsenal   91121.212121\n368            Liverpool   83250.000000\n432  Paris Saint-Germain   78285.714286"
     },
     "execution_count": 39,
     "metadata": {},
     "output_type": "execute_result"
    }
   ],
   "source": [
    "# 各俱乐部平均周薪\n",
    "df.groupby('club', as_index=False).mean()[['club', 'eur_wage']].sort_values('eur_wage', ascending=False).head(10)"
   ]
  },
  {
   "cell_type": "code",
   "execution_count": 50,
   "metadata": {},
   "outputs": [
    {
     "data": {
      "text/plain": "age\n(15, 20]    3300\n(20, 25]    6749\n(25, 30]    5234\n(30, 35]    2192\n(35, 40]     258\n(40, 45]       7\nName: age, dtype: int64"
     },
     "execution_count": 50,
     "metadata": {},
     "output_type": "execute_result"
    }
   ],
   "source": [
    "# 球员年龄段分布\n",
    "# 生成桶， 5岁一个分桶， 最小16， 最大47\n",
    "bins = np.arange(15, 50, 5)\n",
    "bins_data = pd.cut(df['age'], bins)\n",
    "bin_counts = df['age'].groupby(bins_data).count()\n",
    "bin_counts"
   ]
  },
  {
   "cell_type": "code",
   "execution_count": 51,
   "metadata": {},
   "outputs": [
    {
     "data": {
      "text/plain": "15~20    3300\n20~25    6749\n25~30    5234\n30~35    2192\n35~40     258\n40~45       7\nName: age, dtype: int64"
     },
     "execution_count": 51,
     "metadata": {},
     "output_type": "execute_result"
    }
   ],
   "source": [
    "# 为了图标好看，处理index\n",
    "bin_counts.index = [f\"{str(x.left)}~{str(x.right)}\" for x in bin_counts.index]\n",
    "bin_counts"
   ]
  },
  {
   "cell_type": "code",
   "execution_count": 52,
   "metadata": {},
   "outputs": [
    {
     "data": {
      "image/png": "[encoded data removed]",
      "image/svg+xml": "<?xml version=\"1.0\" encoding=\"utf-8\" standalone=\"no\"?>\r\n<!DOCTYPE svg PUBLIC \"-//W3C//DTD SVG 1.1//EN\"\r\n  \"http://www.w3.org/Graphics/SVG/1.1/DTD/svg11.dtd\">\r\n<!-- Created with matplotlib (https://matplotlib.org/) -->\r\n<svg height=\"231.84pt\" version=\"1.1\" viewBox=\"0 0 266.301339 231.84\" width=\"266.301339pt\" xmlns=\"http://www.w3.org/2000/svg\" xmlns:xlink=\"http://www.w3.org/1999/xlink\">\r\n <defs>\r\n  <style type=\"text/css\">\r\n*{stroke-linecap:butt;stroke-linejoin:round;}\r\n  </style>\r\n </defs>\r\n <g id=\"figure_1\">\r\n  <g id=\"patch_1\">\r\n   <path d=\"M 0 231.84 \r\nL 266.301339 231.84 \r\nL 266.301339 0 \r\nL 0 0 \r\nz\r\n\" style=\"fill:none;\"/>\r\n  </g>\r\n  <g id=\"axes_1\">\r\n   <g id=\"patch_2\">\r\n    <path d=\"M 216.574125 115.92 \r\nC 216.574125 98.857465 211.553255 82.166315 202.139871 67.935422 \r\nC 192.726486 53.70453 179.330372 42.553398 163.628032 35.877574 \r\nL 129.598125 115.92 \r\nL 216.574125 115.92 \r\nz\r\n\" style=\"fill:#1f77b4;\"/>\r\n   </g>\r\n   <g id=\"patch_3\">\r\n    <path d=\"M 163.628032 35.877574 \r\nC 147.566105 29.048871 129.814621 27.210393 112.694152 30.602474 \r\nC 95.573682 33.994555 79.864242 42.462651 67.619454 54.899766 \r\nC 55.374666 67.336882 47.152407 83.176378 44.027535 100.347629 \r\nC 40.902664 117.51888 43.01755 135.239558 50.095725 151.193119 \r\nL 129.598125 115.92 \r\nL 163.628032 35.877574 \r\nz\r\n\" style=\"fill:#ff7f0e;\"/>\r\n   </g>\r\n   <g id=\"patch_4\">\r\n    <path d=\"M 50.095725 151.193119 \r\nC 55.569062 163.529523 63.839381 174.424328 74.250166 183.012683 \r\nC 84.660952 191.601037 96.929241 197.64951 110.081152 200.677963 \r\nC 123.233062 203.706416 136.911128 203.632535 150.029557 200.462186 \r\nC 163.147985 197.291836 175.35022 191.111188 185.667622 182.410872 \r\nL 129.598125 115.92 \r\nL 50.095725 151.193119 \r\nz\r\n\" style=\"fill:#2ca02c;\"/>\r\n   </g>\r\n   <g id=\"patch_5\">\r\n    <path d=\"M 185.667622 182.410872 \r\nC 194.298088 175.133093 201.429594 166.244106 206.663244 156.241111 \r\nC 211.896895 146.238115 215.133256 135.311157 216.191305 124.071426 \r\nL 129.598125 115.92 \r\nL 185.667622 182.410872 \r\nz\r\n\" style=\"fill:#d62728;\"/>\r\n   </g>\r\n   <g id=\"patch_6\">\r\n    <path d=\"M 216.191305 124.071426 \r\nC 216.315455 122.752571 216.409459 121.431051 216.473243 120.107901 \r\nC 216.537026 118.784751 216.570573 117.460317 216.573858 116.135635 \r\nL 129.598125 115.92 \r\nL 216.191305 124.071426 \r\nz\r\n\" style=\"fill:#9467bd;\"/>\r\n   </g>\r\n   <g id=\"patch_7\">\r\n    <path d=\"M 216.573858 116.135635 \r\nC 216.573947 116.099695 216.574014 116.063756 216.574058 116.027816 \r\nC 216.574103 115.991877 216.574125 115.955937 216.574125 115.919998 \r\nL 129.598125 115.92 \r\nL 216.573858 116.135635 \r\nz\r\n\" style=\"fill:#8c564b;\"/>\r\n   </g>\r\n   <g id=\"matplotlib.axis_1\"/>\r\n   <g id=\"matplotlib.axis_2\">\r\n    <g id=\"text_1\">\r\n     <!-- age -->\r\n     <defs>\r\n      <path d=\"M 34.28125 27.484375 \r\nQ 23.390625 27.484375 19.1875 25 \r\nQ 14.984375 22.515625 14.984375 16.5 \r\nQ 14.984375 11.71875 18.140625 8.90625 \r\nQ 21.296875 6.109375 26.703125 6.109375 \r\nQ 34.1875 6.109375 38.703125 11.40625 \r\nQ 43.21875 16.703125 43.21875 25.484375 \r\nL 43.21875 27.484375 \r\nz\r\nM 52.203125 31.203125 \r\nL 52.203125 0 \r\nL 43.21875 0 \r\nL 43.21875 8.296875 \r\nQ 40.140625 3.328125 35.546875 0.953125 \r\nQ 30.953125 -1.421875 24.3125 -1.421875 \r\nQ 15.921875 -1.421875 10.953125 3.296875 \r\nQ 6 8.015625 6 15.921875 \r\nQ 6 25.140625 12.171875 29.828125 \r\nQ 18.359375 34.515625 30.609375 34.515625 \r\nL 43.21875 34.515625 \r\nL 43.21875 35.40625 \r\nQ 43.21875 41.609375 39.140625 45 \r\nQ 35.0625 48.390625 27.6875 48.390625 \r\nQ 23 48.390625 18.546875 47.265625 \r\nQ 14.109375 46.140625 10.015625 43.890625 \r\nL 10.015625 52.203125 \r\nQ 14.9375 54.109375 19.578125 55.046875 \r\nQ 24.21875 56 28.609375 56 \r\nQ 40.484375 56 46.34375 49.84375 \r\nQ 52.203125 43.703125 52.203125 31.203125 \r\nz\r\n\" id=\"DejaVuSans-97\"/>\r\n      <path d=\"M 45.40625 27.984375 \r\nQ 45.40625 37.75 41.375 43.109375 \r\nQ 37.359375 48.484375 30.078125 48.484375 \r\nQ 22.859375 48.484375 18.828125 43.109375 \r\nQ 14.796875 37.75 14.796875 27.984375 \r\nQ 14.796875 18.265625 18.828125 12.890625 \r\nQ 22.859375 7.515625 30.078125 7.515625 \r\nQ 37.359375 7.515625 41.375 12.890625 \r\nQ 45.40625 18.265625 45.40625 27.984375 \r\nz\r\nM 54.390625 6.78125 \r\nQ 54.390625 -7.171875 48.1875 -13.984375 \r\nQ 42 -20.796875 29.203125 -20.796875 \r\nQ 24.46875 -20.796875 20.265625 -20.09375 \r\nQ 16.0625 -19.390625 12.109375 -17.921875 \r\nL 12.109375 -9.1875 \r\nQ 16.0625 -11.328125 19.921875 -12.34375 \r\nQ 23.78125 -13.375 27.78125 -13.375 \r\nQ 36.625 -13.375 41.015625 -8.765625 \r\nQ 45.40625 -4.15625 45.40625 5.171875 \r\nL 45.40625 9.625 \r\nQ 42.625 4.78125 38.28125 2.390625 \r\nQ 33.9375 0 27.875 0 \r\nQ 17.828125 0 11.671875 7.65625 \r\nQ 5.515625 15.328125 5.515625 27.984375 \r\nQ 5.515625 40.671875 11.671875 48.328125 \r\nQ 17.828125 56 27.875 56 \r\nQ 33.9375 56 38.28125 53.609375 \r\nQ 42.625 51.21875 45.40625 46.390625 \r\nL 45.40625 54.6875 \r\nL 54.390625 54.6875 \r\nz\r\n\" id=\"DejaVuSans-103\"/>\r\n      <path d=\"M 56.203125 29.59375 \r\nL 56.203125 25.203125 \r\nL 14.890625 25.203125 \r\nQ 15.484375 15.921875 20.484375 11.0625 \r\nQ 25.484375 6.203125 34.421875 6.203125 \r\nQ 39.59375 6.203125 44.453125 7.46875 \r\nQ 49.3125 8.734375 54.109375 11.28125 \r\nL 54.109375 2.78125 \r\nQ 49.265625 0.734375 44.1875 -0.34375 \r\nQ 39.109375 -1.421875 33.890625 -1.421875 \r\nQ 20.796875 -1.421875 13.15625 6.1875 \r\nQ 5.515625 13.8125 5.515625 26.8125 \r\nQ 5.515625 40.234375 12.765625 48.109375 \r\nQ 20.015625 56 32.328125 56 \r\nQ 43.359375 56 49.78125 48.890625 \r\nQ 56.203125 41.796875 56.203125 29.59375 \r\nz\r\nM 47.21875 32.234375 \r\nQ 47.125 39.59375 43.09375 43.984375 \r\nQ 39.0625 48.390625 32.421875 48.390625 \r\nQ 24.90625 48.390625 20.390625 44.140625 \r\nQ 15.875 39.890625 15.1875 32.171875 \r\nz\r\n\" id=\"DejaVuSans-101\"/>\r\n     </defs>\r\n     <g transform=\"translate(14.798437 125.234844)rotate(-90)scale(0.1 -0.1)\">\r\n      <use xlink:href=\"#DejaVuSans-97\"/>\r\n      <use x=\"61.279297\" xlink:href=\"#DejaVuSans-103\"/>\r\n      <use x=\"124.755859\" xlink:href=\"#DejaVuSans-101\"/>\r\n     </g>\r\n    </g>\r\n   </g>\r\n   <g id=\"text_2\">\r\n    <!-- 15~20 -->\r\n    <defs>\r\n     <path d=\"M 12.40625 8.296875 \r\nL 28.515625 8.296875 \r\nL 28.515625 63.921875 \r\nL 10.984375 60.40625 \r\nL 10.984375 69.390625 \r\nL 28.421875 72.90625 \r\nL 38.28125 72.90625 \r\nL 38.28125 8.296875 \r\nL 54.390625 8.296875 \r\nL 54.390625 0 \r\nL 12.40625 0 \r\nz\r\n\" id=\"DejaVuSans-49\"/>\r\n     <path d=\"M 10.796875 72.90625 \r\nL 49.515625 72.90625 \r\nL 49.515625 64.59375 \r\nL 19.828125 64.59375 \r\nL 19.828125 46.734375 \r\nQ 21.96875 47.46875 24.109375 47.828125 \r\nQ 26.265625 48.1875 28.421875 48.1875 \r\nQ 40.625 48.1875 47.75 41.5 \r\nQ 54.890625 34.8125 54.890625 23.390625 \r\nQ 54.890625 11.625 47.5625 5.09375 \r\nQ 40.234375 -1.421875 26.90625 -1.421875 \r\nQ 22.3125 -1.421875 17.546875 -0.640625 \r\nQ 12.796875 0.140625 7.71875 1.703125 \r\nL 7.71875 11.625 \r\nQ 12.109375 9.234375 16.796875 8.0625 \r\nQ 21.484375 6.890625 26.703125 6.890625 \r\nQ 35.15625 6.890625 40.078125 11.328125 \r\nQ 45.015625 15.765625 45.015625 23.390625 \r\nQ 45.015625 31 40.078125 35.4375 \r\nQ 35.15625 39.890625 26.703125 39.890625 \r\nQ 22.75 39.890625 18.8125 39.015625 \r\nQ 14.890625 38.140625 10.796875 36.28125 \r\nz\r\n\" id=\"DejaVuSans-53\"/>\r\n     <path d=\"M 73.1875 39.890625 \r\nL 73.1875 31.203125 \r\nQ 68.0625 27.34375 63.6875 25.6875 \r\nQ 59.328125 24.03125 54.59375 24.03125 \r\nQ 49.21875 24.03125 42.09375 26.90625 \r\nQ 41.546875 27.09375 41.3125 27.203125 \r\nQ 40.96875 27.34375 40.234375 27.59375 \r\nQ 32.671875 30.609375 28.078125 30.609375 \r\nQ 23.78125 30.609375 19.578125 28.734375 \r\nQ 15.375 26.859375 10.59375 22.796875 \r\nL 10.59375 31.5 \r\nQ 15.71875 35.359375 20.09375 37.03125 \r\nQ 24.46875 38.71875 29.203125 38.71875 \r\nQ 34.578125 38.71875 41.75 35.796875 \r\nQ 42.234375 35.59375 42.484375 35.5 \r\nQ 42.875 35.359375 43.5625 35.109375 \r\nQ 51.125 32.078125 55.71875 32.078125 \r\nQ 59.90625 32.078125 64.03125 33.9375 \r\nQ 68.171875 35.796875 73.1875 39.890625 \r\nz\r\n\" id=\"DejaVuSans-126\"/>\r\n     <path d=\"M 19.1875 8.296875 \r\nL 53.609375 8.296875 \r\nL 53.609375 0 \r\nL 7.328125 0 \r\nL 7.328125 8.296875 \r\nQ 12.9375 14.109375 22.625 23.890625 \r\nQ 32.328125 33.6875 34.8125 36.53125 \r\nQ 39.546875 41.84375 41.421875 45.53125 \r\nQ 43.3125 49.21875 43.3125 52.78125 \r\nQ 43.3125 58.59375 39.234375 62.25 \r\nQ 35.15625 65.921875 28.609375 65.921875 \r\nQ 23.96875 65.921875 18.8125 64.3125 \r\nQ 13.671875 62.703125 7.8125 59.421875 \r\nL 7.8125 69.390625 \r\nQ 13.765625 71.78125 18.9375 73 \r\nQ 24.125 74.21875 28.421875 74.21875 \r\nQ 39.75 74.21875 46.484375 68.546875 \r\nQ 53.21875 62.890625 53.21875 53.421875 \r\nQ 53.21875 48.921875 51.53125 44.890625 \r\nQ 49.859375 40.875 45.40625 35.40625 \r\nQ 44.1875 33.984375 37.640625 27.21875 \r\nQ 31.109375 20.453125 19.1875 8.296875 \r\nz\r\n\" id=\"DejaVuSans-50\"/>\r\n     <path d=\"M 31.78125 66.40625 \r\nQ 24.171875 66.40625 20.328125 58.90625 \r\nQ 16.5 51.421875 16.5 36.375 \r\nQ 16.5 21.390625 20.328125 13.890625 \r\nQ 24.171875 6.390625 31.78125 6.390625 \r\nQ 39.453125 6.390625 43.28125 13.890625 \r\nQ 47.125 21.390625 47.125 36.375 \r\nQ 47.125 51.421875 43.28125 58.90625 \r\nQ 39.453125 66.40625 31.78125 66.40625 \r\nz\r\nM 31.78125 74.21875 \r\nQ 44.046875 74.21875 50.515625 64.515625 \r\nQ 56.984375 54.828125 56.984375 36.375 \r\nQ 56.984375 17.96875 50.515625 8.265625 \r\nQ 44.046875 -1.421875 31.78125 -1.421875 \r\nQ 19.53125 -1.421875 13.0625 8.265625 \r\nQ 6.59375 17.96875 6.59375 36.375 \r\nQ 6.59375 54.828125 13.0625 64.515625 \r\nQ 19.53125 74.21875 31.78125 74.21875 \r\nz\r\n\" id=\"DejaVuSans-48\"/>\r\n    </defs>\r\n    <g transform=\"translate(209.394045 65.89634)scale(0.1 -0.1)\">\r\n     <use xlink:href=\"#DejaVuSans-49\"/>\r\n     <use x=\"63.623047\" xlink:href=\"#DejaVuSans-53\"/>\r\n     <use x=\"127.246094\" xlink:href=\"#DejaVuSans-126\"/>\r\n     <use x=\"211.035156\" xlink:href=\"#DejaVuSans-50\"/>\r\n     <use x=\"274.658203\" xlink:href=\"#DejaVuSans-48\"/>\r\n    </g>\r\n   </g>\r\n   <g id=\"text_3\">\r\n    <!-- 20~25 -->\r\n    <g transform=\"translate(27.591899 51.557118)scale(0.1 -0.1)\">\r\n     <use xlink:href=\"#DejaVuSans-50\"/>\r\n     <use x=\"63.623047\" xlink:href=\"#DejaVuSans-48\"/>\r\n     <use x=\"127.246094\" xlink:href=\"#DejaVuSans-126\"/>\r\n     <use x=\"211.035156\" xlink:href=\"#DejaVuSans-50\"/>\r\n     <use x=\"274.658203\" xlink:href=\"#DejaVuSans-53\"/>\r\n    </g>\r\n   </g>\r\n   <g id=\"text_4\">\r\n    <!-- 25~30 -->\r\n    <defs>\r\n     <path d=\"M 40.578125 39.3125 \r\nQ 47.65625 37.796875 51.625 33 \r\nQ 55.609375 28.21875 55.609375 21.1875 \r\nQ 55.609375 10.40625 48.1875 4.484375 \r\nQ 40.765625 -1.421875 27.09375 -1.421875 \r\nQ 22.515625 -1.421875 17.65625 -0.515625 \r\nQ 12.796875 0.390625 7.625 2.203125 \r\nL 7.625 11.71875 \r\nQ 11.71875 9.328125 16.59375 8.109375 \r\nQ 21.484375 6.890625 26.8125 6.890625 \r\nQ 36.078125 6.890625 40.9375 10.546875 \r\nQ 45.796875 14.203125 45.796875 21.1875 \r\nQ 45.796875 27.640625 41.28125 31.265625 \r\nQ 36.765625 34.90625 28.71875 34.90625 \r\nL 20.21875 34.90625 \r\nL 20.21875 43.015625 \r\nL 29.109375 43.015625 \r\nQ 36.375 43.015625 40.234375 45.921875 \r\nQ 44.09375 48.828125 44.09375 54.296875 \r\nQ 44.09375 59.90625 40.109375 62.90625 \r\nQ 36.140625 65.921875 28.71875 65.921875 \r\nQ 24.65625 65.921875 20.015625 65.03125 \r\nQ 15.375 64.15625 9.8125 62.3125 \r\nL 9.8125 71.09375 \r\nQ 15.4375 72.65625 20.34375 73.4375 \r\nQ 25.25 74.21875 29.59375 74.21875 \r\nQ 40.828125 74.21875 47.359375 69.109375 \r\nQ 53.90625 64.015625 53.90625 55.328125 \r\nQ 53.90625 49.265625 50.4375 45.09375 \r\nQ 46.96875 40.921875 40.578125 39.3125 \r\nz\r\n\" id=\"DejaVuSans-51\"/>\r\n    </defs>\r\n    <g transform=\"translate(74.299767 211.913135)scale(0.1 -0.1)\">\r\n     <use xlink:href=\"#DejaVuSans-50\"/>\r\n     <use x=\"63.623047\" xlink:href=\"#DejaVuSans-53\"/>\r\n     <use x=\"127.246094\" xlink:href=\"#DejaVuSans-126\"/>\r\n     <use x=\"211.035156\" xlink:href=\"#DejaVuSans-51\"/>\r\n     <use x=\"274.658203\" xlink:href=\"#DejaVuSans-48\"/>\r\n    </g>\r\n   </g>\r\n   <g id=\"text_5\">\r\n    <!-- 30~35 -->\r\n    <g transform=\"translate(214.369756 163.032597)scale(0.1 -0.1)\">\r\n     <use xlink:href=\"#DejaVuSans-51\"/>\r\n     <use x=\"63.623047\" xlink:href=\"#DejaVuSans-48\"/>\r\n     <use x=\"127.246094\" xlink:href=\"#DejaVuSans-126\"/>\r\n     <use x=\"211.035156\" xlink:href=\"#DejaVuSans-51\"/>\r\n     <use x=\"274.658203\" xlink:href=\"#DejaVuSans-53\"/>\r\n    </g>\r\n   </g>\r\n   <g id=\"text_6\">\r\n    <!-- 35~40 -->\r\n    <defs>\r\n     <path d=\"M 37.796875 64.3125 \r\nL 12.890625 25.390625 \r\nL 37.796875 25.390625 \r\nz\r\nM 35.203125 72.90625 \r\nL 47.609375 72.90625 \r\nL 47.609375 25.390625 \r\nL 58.015625 25.390625 \r\nL 58.015625 17.1875 \r\nL 47.609375 17.1875 \r\nL 47.609375 0 \r\nL 37.796875 0 \r\nL 37.796875 17.1875 \r\nL 4.890625 17.1875 \r\nL 4.890625 26.703125 \r\nz\r\n\" id=\"DejaVuSans-52\"/>\r\n    </defs>\r\n    <g transform=\"translate(225.160754 123.286066)scale(0.1 -0.1)\">\r\n     <use xlink:href=\"#DejaVuSans-51\"/>\r\n     <use x=\"63.623047\" xlink:href=\"#DejaVuSans-53\"/>\r\n     <use x=\"127.246094\" xlink:href=\"#DejaVuSans-126\"/>\r\n     <use x=\"211.035156\" xlink:href=\"#DejaVuSans-52\"/>\r\n     <use x=\"274.658203\" xlink:href=\"#DejaVuSans-48\"/>\r\n    </g>\r\n   </g>\r\n   <g id=\"text_7\">\r\n    <!-- 40~45 -->\r\n    <g transform=\"translate(225.271651 118.797973)scale(0.1 -0.1)\">\r\n     <use xlink:href=\"#DejaVuSans-52\"/>\r\n     <use x=\"63.623047\" xlink:href=\"#DejaVuSans-48\"/>\r\n     <use x=\"127.246094\" xlink:href=\"#DejaVuSans-126\"/>\r\n     <use x=\"211.035156\" xlink:href=\"#DejaVuSans-52\"/>\r\n     <use x=\"274.658203\" xlink:href=\"#DejaVuSans-53\"/>\r\n    </g>\r\n   </g>\r\n  </g>\r\n </g>\r\n</svg>\r\n",
      "text/plain": "<Figure size 432x288 with 1 Axes>"
     },
     "metadata": {},
     "output_type": "display_data"
    }
   ],
   "source": [
    "bin_counts.plot(kind='pie')\n",
    "plt.show()"
   ]
  }
 ]
}