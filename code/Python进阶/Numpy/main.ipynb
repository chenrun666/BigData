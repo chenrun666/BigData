{
 "nbformat": 4,
 "nbformat_minor": 2,
 "metadata": {
  "language_info": {
   "name": "python",
   "codemirror_mode": {
    "name": "ipython",
    "version": 3
   },
   "version": "3.7.5-final"
  },
  "orig_nbformat": 2,
  "file_extension": ".py",
  "mimetype": "text/x-python",
  "name": "python",
  "npconvert_exporter": "python",
  "pygments_lexer": "ipython3",
  "version": 3,
  "kernelspec": {
   "name": "python37564bitdataconda08d0e66fde0142acb23cc306caacd912",
   "display_name": "Python 3.7.5 64-bit ('data': conda)"
  }
 },
 "cells": [
  {
   "cell_type": "markdown",
   "execution_count": null,
   "metadata": {},
   "outputs": [],
   "source": [
    "## Numpy 特点\n",
    "\n",
    "- NumPy是在一个连续的内存块中存储数据，独立于其他Python内置对象。NumPy的C语言编写的算法库可以操作内存，而不必进行类型检查或其它前期工作。比起Python的内置序列，NumPy数组使用的内存更少。\n",
    "- NumPy可以在整个数组上执行复杂的计算，而不需要Python的for循环。"
   ]
  },
  {
   "cell_type": "code",
   "execution_count": 1,
   "metadata": {},
   "outputs": [],
   "source": [
    "import numpy as np \n",
    "\n",
    "my_arr = np.arange(1000000)\n",
    "\n",
    "my_list = list(range(1000000))"
   ]
  },
  {
   "cell_type": "code",
   "execution_count": 2,
   "metadata": {},
   "outputs": [
    {
     "name": "stdout",
     "output_type": "stream",
     "text": "CPU times: user 14.6 ms, sys: 9.46 ms, total: 24.1 ms\nWall time: 37.7 ms\nCPU times: user 942 ms, sys: 201 ms, total: 1.14 s\nWall time: 2.2 s\n"
    }
   ],
   "source": [
    "%time for _ in range(10): my_arr2 = my_arr * 2\n",
    "\n",
    "%time for _ in range(10): my_list2 = [x * 2 for x in my_list]"
   ]
  },
  {
   "cell_type": "markdown",
   "execution_count": null,
   "metadata": {},
   "outputs": [],
   "source": [
    "基于Numpy的算法要比纯python快10到100倍, 并且使用的内存更少!"
   ]
  },
  {
   "cell_type": "markdown",
   "execution_count": 13,
   "metadata": {},
   "outputs": [],
   "source": [
    "## Numpy 的基本使用"
   ]
  },
  {
   "cell_type": "markdown",
   "execution_count": null,
   "metadata": {},
   "outputs": [],
   "source": [
    "### 小试牛刀"
   ]
  },
  {
   "cell_type": "code",
   "execution_count": 3,
   "metadata": {},
   "outputs": [
    {
     "data": {
      "text/plain": "array([[ 0.90184708,  0.84269802,  1.19988123],\n       [-1.48844771, -1.80939602,  0.0022794 ]])"
     },
     "execution_count": 3,
     "metadata": {},
     "output_type": "execute_result"
    }
   ],
   "source": [
    "import numpy as np\n",
    "\n",
    "data = np.random.randn(2, 3)\n",
    "\n",
    "data"
   ]
  },
  {
   "cell_type": "code",
   "execution_count": 4,
   "metadata": {},
   "outputs": [
    {
     "data": {
      "text/plain": "array([[  9.01847076,   8.42698018,  11.99881231],\n       [-14.88447713, -18.09396019,   0.02279401]])"
     },
     "execution_count": 4,
     "metadata": {},
     "output_type": "execute_result"
    }
   ],
   "source": [
    "data * 10"
   ]
  },
  {
   "cell_type": "code",
   "execution_count": 5,
   "metadata": {},
   "outputs": [
    {
     "data": {
      "text/plain": "array([[8.13328148e-01, 7.10139950e-01, 1.43971497e+00],\n       [2.21547659e+00, 3.27391395e+00, 5.19566900e-06]])"
     },
     "execution_count": 5,
     "metadata": {},
     "output_type": "execute_result"
    }
   ],
   "source": [
    "data * data"
   ]
  },
  {
   "cell_type": "code",
   "execution_count": 6,
   "metadata": {},
   "outputs": [
    {
     "data": {
      "text/plain": "(2, 3)"
     },
     "execution_count": 6,
     "metadata": {},
     "output_type": "execute_result"
    }
   ],
   "source": [
    "data.shape"
   ]
  },
  {
   "cell_type": "code",
   "execution_count": 7,
   "metadata": {},
   "outputs": [
    {
     "data": {
      "text/plain": "dtype('float64')"
     },
     "execution_count": 7,
     "metadata": {},
     "output_type": "execute_result"
    }
   ],
   "source": [
    "data.dtype"
   ]
  },
  {
   "cell_type": "markdown",
   "execution_count": null,
   "metadata": {},
   "outputs": [],
   "source": [
    "### 创建ndarray"
   ]
  },
  {
   "cell_type": "code",
   "execution_count": 8,
   "metadata": {},
   "outputs": [
    {
     "data": {
      "text/plain": "array([1., 2., 3., 6., 7., 8.])"
     },
     "execution_count": 8,
     "metadata": {},
     "output_type": "execute_result"
    }
   ],
   "source": [
    "data1 = [1, 2., 3, 6, 7, 8]\n",
    "\n",
    "arr1 = np.array(data1)\n",
    "\n",
    "arr1"
   ]
  },
  {
   "cell_type": "markdown",
   "execution_count": null,
   "metadata": {},
   "outputs": [],
   "source": [
    "列表转换为array"
   ]
  },
  {
   "cell_type": "code",
   "execution_count": 9,
   "metadata": {},
   "outputs": [
    {
     "data": {
      "text/plain": "array([[1, 2, 3],\n       [4, 5, 6]])"
     },
     "execution_count": 9,
     "metadata": {},
     "output_type": "execute_result"
    }
   ],
   "source": [
    "data2 = [[1, 2, 3], [4, 5, 6]]\n",
    "\n",
    "arr2 = np.array(data2)\n",
    "\n",
    "arr2"
   ]
  },
  {
   "cell_type": "markdown",
   "execution_count": null,
   "metadata": {},
   "outputs": [],
   "source": [
    "多维数组的转换"
   ]
  },
  {
   "cell_type": "code",
   "execution_count": 10,
   "metadata": {},
   "outputs": [
    {
     "data": {
      "text/plain": "2"
     },
     "execution_count": 10,
     "metadata": {},
     "output_type": "execute_result"
    }
   ],
   "source": [
    "arr2.ndim"
   ]
  },
  {
   "cell_type": "code",
   "execution_count": 11,
   "metadata": {},
   "outputs": [
    {
     "data": {
      "text/plain": "(2, 3)"
     },
     "execution_count": 11,
     "metadata": {},
     "output_type": "execute_result"
    }
   ],
   "source": [
    "arr2.shape"
   ]
  },
  {
   "cell_type": "code",
   "execution_count": 12,
   "metadata": {},
   "outputs": [
    {
     "data": {
      "text/plain": "dtype('float64')"
     },
     "execution_count": 12,
     "metadata": {},
     "output_type": "execute_result"
    }
   ],
   "source": [
    "arr1.dtype"
   ]
  },
  {
   "cell_type": "code",
   "execution_count": 13,
   "metadata": {},
   "outputs": [
    {
     "data": {
      "text/plain": "dtype('int64')"
     },
     "execution_count": 13,
     "metadata": {},
     "output_type": "execute_result"
    }
   ],
   "source": [
    "arr2.dtype"
   ]
  },
  {
   "cell_type": "code",
   "execution_count": 14,
   "metadata": {},
   "outputs": [
    {
     "data": {
      "text/plain": "array([0., 0., 0., 0., 0., 0., 0., 0., 0., 0.])"
     },
     "execution_count": 14,
     "metadata": {},
     "output_type": "execute_result"
    }
   ],
   "source": [
    "np.zeros(10)"
   ]
  },
  {
   "cell_type": "code",
   "execution_count": 15,
   "metadata": {},
   "outputs": [
    {
     "data": {
      "text/plain": "array([[0., 0., 0., 0., 0., 0.],\n       [0., 0., 0., 0., 0., 0.],\n       [0., 0., 0., 0., 0., 0.]])"
     },
     "execution_count": 15,
     "metadata": {},
     "output_type": "execute_result"
    }
   ],
   "source": [
    "np.zeros((3, 6))  # 3 行 6 列"
   ]
  },
  {
   "cell_type": "code",
   "execution_count": 16,
   "metadata": {},
   "outputs": [
    {
     "data": {
      "text/plain": "array([[[0.00000000e+000, 0.00000000e+000],\n        [0.00000000e+000, 0.00000000e+000],\n        [0.00000000e+000, 0.00000000e+000]],\n\n       [[0.00000000e+000, 0.00000000e+000],\n        [0.00000000e+000, 3.16235113e+180],\n        [2.31584178e+077, 2.31584178e+077]]])"
     },
     "execution_count": 16,
     "metadata": {},
     "output_type": "execute_result"
    }
   ],
   "source": [
    "np.empty((2, 3, 2))"
   ]
  },
  {
   "cell_type": "code",
   "execution_count": 17,
   "metadata": {},
   "outputs": [
    {
     "data": {
      "text/plain": "array([ 0,  1,  2,  3,  4,  5,  6,  7,  8,  9, 10, 11, 12, 13, 14])"
     },
     "execution_count": 17,
     "metadata": {},
     "output_type": "execute_result"
    }
   ],
   "source": [
    "np.arange(15)"
   ]
  },
  {
   "cell_type": "markdown",
   "execution_count": null,
   "metadata": {},
   "outputs": [],
   "source": [
    "### ndarray 的数据类型"
   ]
  },
  {
   "cell_type": "code",
   "execution_count": 18,
   "metadata": {},
   "outputs": [
    {
     "data": {
      "text/plain": "dtype('float64')"
     },
     "execution_count": 18,
     "metadata": {},
     "output_type": "execute_result"
    }
   ],
   "source": [
    "arr1 = np.array([1,2,3], dtype=np.float64)\n",
    "\n",
    "arr1.dtype"
   ]
  },
  {
   "cell_type": "code",
   "execution_count": 19,
   "metadata": {},
   "outputs": [
    {
     "data": {
      "text/plain": "dtype('int32')"
     },
     "execution_count": 19,
     "metadata": {},
     "output_type": "execute_result"
    }
   ],
   "source": [
    "arr2 = np.array([1, 2, 3], dtype=np.int32)\n",
    "\n",
    "arr2.dtype"
   ]
  },
  {
   "cell_type": "markdown",
   "execution_count": null,
   "metadata": {},
   "outputs": [],
   "source": [
    "转换数据类型"
   ]
  },
  {
   "cell_type": "code",
   "execution_count": 20,
   "metadata": {},
   "outputs": [
    {
     "data": {
      "text/plain": "dtype('int64')"
     },
     "execution_count": 20,
     "metadata": {},
     "output_type": "execute_result"
    }
   ],
   "source": [
    "arr = np.array([1, 2, 3, 4, 5])\n",
    "\n",
    "arr.dtype"
   ]
  },
  {
   "cell_type": "code",
   "execution_count": 21,
   "metadata": {},
   "outputs": [
    {
     "data": {
      "text/plain": "dtype('float64')"
     },
     "execution_count": 21,
     "metadata": {},
     "output_type": "execute_result"
    }
   ],
   "source": [
    "float_arr = arr.astype(np.float64)\n",
    "\n",
    "float_arr.dtype"
   ]
  },
  {
   "cell_type": "code",
   "execution_count": 22,
   "metadata": {},
   "outputs": [
    {
     "data": {
      "text/plain": "array([ 3.6,  1.2, -2.3,  0.4,  5.6])"
     },
     "execution_count": 22,
     "metadata": {},
     "output_type": "execute_result"
    }
   ],
   "source": [
    "arr = np.array([3.6, 1.2, -2.3, 0.4, 5.6])\n",
    "\n",
    "arr"
   ]
  },
  {
   "cell_type": "code",
   "execution_count": 23,
   "metadata": {},
   "outputs": [
    {
     "data": {
      "text/plain": "array([ 3,  1, -2,  0,  5], dtype=int32)"
     },
     "execution_count": 23,
     "metadata": {},
     "output_type": "execute_result"
    }
   ],
   "source": [
    "arr.astype(np.int32)"
   ]
  },
  {
   "cell_type": "markdown",
   "execution_count": null,
   "metadata": {},
   "outputs": [],
   "source": [
    "### Numpy 数组运算"
   ]
  },
  {
   "cell_type": "code",
   "execution_count": 24,
   "metadata": {},
   "outputs": [
    {
     "data": {
      "text/plain": "array([[1., 2., 3.],\n       [4., 5., 6.]])"
     },
     "execution_count": 24,
     "metadata": {},
     "output_type": "execute_result"
    }
   ],
   "source": [
    "arr = np.array([[1., 2., 3.], [4., 5., 6.]])\n",
    "arr"
   ]
  },
  {
   "cell_type": "code",
   "execution_count": 25,
   "metadata": {},
   "outputs": [
    {
     "data": {
      "text/plain": "array([[ 1.,  4.,  9.],\n       [16., 25., 36.]])"
     },
     "execution_count": 25,
     "metadata": {},
     "output_type": "execute_result"
    }
   ],
   "source": [
    "arr * arr"
   ]
  },
  {
   "cell_type": "code",
   "execution_count": 26,
   "metadata": {},
   "outputs": [
    {
     "data": {
      "text/plain": "array([[0., 0., 0.],\n       [0., 0., 0.]])"
     },
     "execution_count": 26,
     "metadata": {},
     "output_type": "execute_result"
    }
   ],
   "source": [
    "arr - arr"
   ]
  },
  {
   "cell_type": "code",
   "execution_count": 27,
   "metadata": {},
   "outputs": [
    {
     "data": {
      "text/plain": "array([[1.        , 0.5       , 0.33333333],\n       [0.25      , 0.2       , 0.16666667]])"
     },
     "execution_count": 27,
     "metadata": {},
     "output_type": "execute_result"
    }
   ],
   "source": [
    "1 / arr"
   ]
  },
  {
   "cell_type": "code",
   "execution_count": 28,
   "metadata": {},
   "outputs": [
    {
     "data": {
      "text/plain": "array([[1.        , 1.41421356, 1.73205081],\n       [2.        , 2.23606798, 2.44948974]])"
     },
     "execution_count": 28,
     "metadata": {},
     "output_type": "execute_result"
    }
   ],
   "source": [
    "arr ** 0.5"
   ]
  },
  {
   "cell_type": "code",
   "execution_count": 29,
   "metadata": {},
   "outputs": [
    {
     "data": {
      "text/plain": "array([[ 0.,  1.,  5.],\n       [ 5.,  1., 34.]])"
     },
     "execution_count": 29,
     "metadata": {},
     "output_type": "execute_result"
    }
   ],
   "source": [
    "arr2 = np.array([[0., 1., 5.], [5., 1., 34.]])\n",
    "\n",
    "arr2"
   ]
  },
  {
   "cell_type": "code",
   "execution_count": 30,
   "metadata": {},
   "outputs": [
    {
     "data": {
      "text/plain": "array([[False, False,  True],\n       [ True, False,  True]])"
     },
     "execution_count": 30,
     "metadata": {},
     "output_type": "execute_result"
    }
   ],
   "source": [
    "arr2 > arr1"
   ]
  },
  {
   "cell_type": "markdown",
   "execution_count": null,
   "metadata": {},
   "outputs": [],
   "source": [
    "### 基本的索引和切片"
   ]
  },
  {
   "cell_type": "code",
   "execution_count": 31,
   "metadata": {},
   "outputs": [
    {
     "data": {
      "text/plain": "array([0, 1, 2, 3, 4, 5, 6, 7, 8, 9])"
     },
     "execution_count": 31,
     "metadata": {},
     "output_type": "execute_result"
    }
   ],
   "source": [
    "arr = np.arange(10)\n",
    "\n",
    "arr"
   ]
  },
  {
   "cell_type": "code",
   "execution_count": 32,
   "metadata": {},
   "outputs": [
    {
     "data": {
      "text/plain": "5"
     },
     "execution_count": 32,
     "metadata": {},
     "output_type": "execute_result"
    }
   ],
   "source": [
    "arr[5]"
   ]
  },
  {
   "cell_type": "code",
   "execution_count": 33,
   "metadata": {},
   "outputs": [
    {
     "data": {
      "text/plain": "array([5, 6, 7])"
     },
     "execution_count": 33,
     "metadata": {},
     "output_type": "execute_result"
    }
   ],
   "source": [
    "arr[5:8]"
   ]
  },
  {
   "cell_type": "code",
   "execution_count": 34,
   "metadata": {},
   "outputs": [
    {
     "data": {
      "text/plain": "array([ 0,  1,  2,  3,  4, 12, 12, 12,  8,  9])"
     },
     "execution_count": 34,
     "metadata": {},
     "output_type": "execute_result"
    }
   ],
   "source": [
    "arr[5:8] = 12\n",
    "\n",
    "arr"
   ]
  },
  {
   "cell_type": "code",
   "execution_count": 35,
   "metadata": {},
   "outputs": [
    {
     "data": {
      "text/plain": "array([12, 12, 12])"
     },
     "execution_count": 35,
     "metadata": {},
     "output_type": "execute_result"
    }
   ],
   "source": [
    "arr_slice = arr[5:8]\n",
    "\n",
    "arr_slice"
   ]
  },
  {
   "cell_type": "code",
   "execution_count": 36,
   "metadata": {},
   "outputs": [
    {
     "data": {
      "text/plain": "array([10, 10, 10])"
     },
     "execution_count": 36,
     "metadata": {},
     "output_type": "execute_result"
    }
   ],
   "source": [
    "arr_slice[:] = 10\n",
    "\n",
    "arr_slice"
   ]
  },
  {
   "cell_type": "code",
   "execution_count": 37,
   "metadata": {},
   "outputs": [
    {
     "data": {
      "text/plain": "array([ 0,  1,  2,  3,  4, 10, 10, 10,  8,  9])"
     },
     "execution_count": 37,
     "metadata": {},
     "output_type": "execute_result"
    }
   ],
   "source": [
    "arr"
   ]
  },
  {
   "cell_type": "code",
   "execution_count": 38,
   "metadata": {},
   "outputs": [
    {
     "data": {
      "text/plain": "array([7, 8, 9])"
     },
     "execution_count": 38,
     "metadata": {},
     "output_type": "execute_result"
    }
   ],
   "source": [
    "arr2d = np.array([[1,2,3], [4,5,6], [7,8,9]])\n",
    "\n",
    "arr2d[2]"
   ]
  },
  {
   "cell_type": "code",
   "execution_count": 39,
   "metadata": {},
   "outputs": [
    {
     "data": {
      "text/plain": "2"
     },
     "execution_count": 39,
     "metadata": {},
     "output_type": "execute_result"
    }
   ],
   "source": [
    "arr2d[0][1]"
   ]
  },
  {
   "cell_type": "code",
   "execution_count": 40,
   "metadata": {},
   "outputs": [
    {
     "data": {
      "text/plain": "2"
     },
     "execution_count": 40,
     "metadata": {},
     "output_type": "execute_result"
    }
   ],
   "source": [
    "arr2d[0, 1]"
   ]
  },
  {
   "cell_type": "code",
   "execution_count": 41,
   "metadata": {},
   "outputs": [
    {
     "data": {
      "text/plain": "array([[[ 1,  2,  3],\n        [ 4,  5,  6]],\n\n       [[ 7,  8,  9],\n        [10, 11, 12]]])"
     },
     "execution_count": 41,
     "metadata": {},
     "output_type": "execute_result"
    }
   ],
   "source": [
    "arr3d = np.array([[[1,2,3], [4,5,6]], [[7,8,9], [10,11,12]]])\n",
    "\n",
    "arr3d"
   ]
  },
  {
   "cell_type": "code",
   "execution_count": 42,
   "metadata": {},
   "outputs": [
    {
     "data": {
      "text/plain": "array([[1, 2, 3],\n       [4, 5, 6]])"
     },
     "execution_count": 42,
     "metadata": {},
     "output_type": "execute_result"
    }
   ],
   "source": [
    "arr3d[0]"
   ]
  },
  {
   "cell_type": "code",
   "execution_count": 43,
   "metadata": {},
   "outputs": [
    {
     "data": {
      "text/plain": "array([[1, 2, 3],\n       [4, 5, 6]])"
     },
     "execution_count": 43,
     "metadata": {},
     "output_type": "execute_result"
    }
   ],
   "source": [
    "old_vlues = arr3d[0].copy()\n",
    "\n",
    "old_vlues"
   ]
  },
  {
   "cell_type": "code",
   "execution_count": 44,
   "metadata": {},
   "outputs": [
    {
     "data": {
      "text/plain": "array([[[666, 666, 666],\n        [666, 666, 666]],\n\n       [[  7,   8,   9],\n        [ 10,  11,  12]]])"
     },
     "execution_count": 44,
     "metadata": {},
     "output_type": "execute_result"
    }
   ],
   "source": [
    "arr3d[0] = 666\n",
    "\n",
    "arr3d"
   ]
  },
  {
   "cell_type": "code",
   "execution_count": 45,
   "metadata": {},
   "outputs": [],
   "source": [
    "arr3d[0] = old_vlues"
   ]
  },
  {
   "cell_type": "code",
   "execution_count": 46,
   "metadata": {},
   "outputs": [
    {
     "data": {
      "text/plain": "array([[[ 1,  2,  3],\n        [ 4,  5,  6]],\n\n       [[ 7,  8,  9],\n        [10, 11, 12]]])"
     },
     "execution_count": 46,
     "metadata": {},
     "output_type": "execute_result"
    }
   ],
   "source": [
    "arr3d"
   ]
  },
  {
   "cell_type": "code",
   "execution_count": 47,
   "metadata": {},
   "outputs": [
    {
     "data": {
      "text/plain": "array([7, 8, 9])"
     },
     "execution_count": 47,
     "metadata": {},
     "output_type": "execute_result"
    }
   ],
   "source": [
    "arr3d[1, 0]"
   ]
  },
  {
   "cell_type": "code",
   "execution_count": 48,
   "metadata": {},
   "outputs": [
    {
     "data": {
      "text/plain": "6"
     },
     "execution_count": 48,
     "metadata": {},
     "output_type": "execute_result"
    }
   ],
   "source": [
    "arr3d[0, 1, 2]"
   ]
  },
  {
   "cell_type": "markdown",
   "execution_count": null,
   "metadata": {},
   "outputs": [],
   "source": [
    "### 切片索引"
   ]
  },
  {
   "cell_type": "code",
   "execution_count": 49,
   "metadata": {},
   "outputs": [
    {
     "data": {
      "text/plain": "array([ 0,  1,  2,  3,  4, 10, 10, 10,  8,  9])"
     },
     "execution_count": 49,
     "metadata": {},
     "output_type": "execute_result"
    }
   ],
   "source": [
    "arr"
   ]
  },
  {
   "cell_type": "code",
   "execution_count": 50,
   "metadata": {},
   "outputs": [
    {
     "data": {
      "text/plain": "array([ 1,  2,  3,  4, 10])"
     },
     "execution_count": 50,
     "metadata": {},
     "output_type": "execute_result"
    }
   ],
   "source": [
    "arr[1:6]"
   ]
  },
  {
   "cell_type": "code",
   "execution_count": 51,
   "metadata": {},
   "outputs": [
    {
     "data": {
      "text/plain": "array([[1, 2, 3],\n       [4, 5, 6],\n       [7, 8, 9]])"
     },
     "execution_count": 51,
     "metadata": {},
     "output_type": "execute_result"
    }
   ],
   "source": [
    "arr2d"
   ]
  },
  {
   "cell_type": "code",
   "execution_count": 52,
   "metadata": {},
   "outputs": [
    {
     "data": {
      "text/plain": "array([[1, 2, 3],\n       [4, 5, 6]])"
     },
     "execution_count": 52,
     "metadata": {},
     "output_type": "execute_result"
    }
   ],
   "source": [
    "arr2d[:2]"
   ]
  },
  {
   "cell_type": "code",
   "execution_count": 53,
   "metadata": {},
   "outputs": [
    {
     "data": {
      "text/plain": "array([[1, 2],\n       [4, 5]])"
     },
     "execution_count": 53,
     "metadata": {},
     "output_type": "execute_result"
    }
   ],
   "source": [
    "arr2d[:2, :2]"
   ]
  },
  {
   "cell_type": "code",
   "execution_count": 54,
   "metadata": {},
   "outputs": [
    {
     "data": {
      "text/plain": "array([[1, 0, 0],\n       [4, 0, 0],\n       [7, 8, 9]])"
     },
     "execution_count": 54,
     "metadata": {},
     "output_type": "execute_result"
    }
   ],
   "source": [
    "arr2d[:2, 1:] = 0\n",
    "\n",
    "arr2d"
   ]
  },
  {
   "cell_type": "markdown",
   "execution_count": 70,
   "metadata": {},
   "outputs": [
    {
     "data": {
      "text/plain": "array([[1, 0, 0],\n       [4, 0, 0],\n       [7, 8, 9]])"
     },
     "execution_count": 70,
     "metadata": {},
     "output_type": "execute_result"
    }
   ],
   "source": [
    "### 布尔型索引"
   ]
  },
  {
   "cell_type": "code",
   "execution_count": 55,
   "metadata": {},
   "outputs": [
    {
     "data": {
      "text/plain": "array(['Bob', 'Joe', 'Will', 'Bob', 'Joe', 'Joe'], dtype='<U4')"
     },
     "execution_count": 55,
     "metadata": {},
     "output_type": "execute_result"
    }
   ],
   "source": [
    "names = np.array(['Bob', 'Joe', 'Will', 'Bob', 'Joe', 'Joe'])\n",
    "\n",
    "data = np.random.randn(6, 4)\n",
    "\n",
    "names"
   ]
  },
  {
   "cell_type": "code",
   "execution_count": 56,
   "metadata": {},
   "outputs": [
    {
     "data": {
      "text/plain": "array([[-0.42161337,  0.17842404,  0.26519962,  0.5798109 ],\n       [-0.06677502, -0.16824498, -0.24843702, -0.40754199],\n       [ 1.00018261, -0.63407997,  1.08328946, -0.9273795 ],\n       [ 1.50968663, -0.14093311, -1.31561507,  0.65194978],\n       [ 0.09705215,  0.89344961, -1.56067694,  0.32131822],\n       [-0.34709662, -0.3761095 ,  1.73364065,  1.09324818]])"
     },
     "execution_count": 56,
     "metadata": {},
     "output_type": "execute_result"
    }
   ],
   "source": [
    "data"
   ]
  },
  {
   "cell_type": "code",
   "execution_count": 57,
   "metadata": {},
   "outputs": [
    {
     "data": {
      "text/plain": "array([ True, False, False,  True, False, False])"
     },
     "execution_count": 57,
     "metadata": {},
     "output_type": "execute_result"
    }
   ],
   "source": [
    "names == 'Bob'"
   ]
  },
  {
   "cell_type": "code",
   "execution_count": 58,
   "metadata": {},
   "outputs": [
    {
     "data": {
      "text/plain": "array([[-0.42161337,  0.17842404,  0.26519962,  0.5798109 ],\n       [ 1.50968663, -0.14093311, -1.31561507,  0.65194978]])"
     },
     "execution_count": 58,
     "metadata": {},
     "output_type": "execute_result"
    }
   ],
   "source": [
    "data[names == 'Bob']"
   ]
  },
  {
   "cell_type": "code",
   "execution_count": 59,
   "metadata": {},
   "outputs": [
    {
     "data": {
      "text/plain": "array([[ 0.26519962,  0.5798109 ],\n       [-1.31561507,  0.65194978]])"
     },
     "execution_count": 59,
     "metadata": {},
     "output_type": "execute_result"
    }
   ],
   "source": [
    "data[names == 'Bob', 2:]"
   ]
  },
  {
   "cell_type": "code",
   "execution_count": 60,
   "metadata": {},
   "outputs": [
    {
     "data": {
      "text/plain": "array([0.5798109 , 0.65194978])"
     },
     "execution_count": 60,
     "metadata": {},
     "output_type": "execute_result"
    }
   ],
   "source": [
    "data[names == 'Bob', 3]"
   ]
  },
  {
   "cell_type": "code",
   "execution_count": 61,
   "metadata": {},
   "outputs": [
    {
     "data": {
      "text/plain": "array([False,  True,  True, False,  True,  True])"
     },
     "execution_count": 61,
     "metadata": {},
     "output_type": "execute_result"
    }
   ],
   "source": [
    "names != 'Bob'"
   ]
  },
  {
   "cell_type": "code",
   "execution_count": 62,
   "metadata": {},
   "outputs": [
    {
     "data": {
      "text/plain": "array([[-0.42161337,  0.17842404,  0.26519962,  0.5798109 ],\n       [ 1.50968663, -0.14093311, -1.31561507,  0.65194978]])"
     },
     "execution_count": 62,
     "metadata": {},
     "output_type": "execute_result"
    }
   ],
   "source": [
    "data[~(names != 'Bob')]"
   ]
  },
  {
   "cell_type": "code",
   "execution_count": 63,
   "metadata": {},
   "outputs": [
    {
     "data": {
      "text/plain": "array([ True, False,  True,  True, False, False])"
     },
     "execution_count": 63,
     "metadata": {},
     "output_type": "execute_result"
    }
   ],
   "source": [
    "mask = (names == 'Bob') | (names == 'Will')\n",
    "\n",
    "mask"
   ]
  },
  {
   "cell_type": "code",
   "execution_count": 64,
   "metadata": {},
   "outputs": [
    {
     "data": {
      "text/plain": "array([[-0.42161337,  0.17842404,  0.26519962,  0.5798109 ],\n       [ 1.00018261, -0.63407997,  1.08328946, -0.9273795 ],\n       [ 1.50968663, -0.14093311, -1.31561507,  0.65194978]])"
     },
     "execution_count": 64,
     "metadata": {},
     "output_type": "execute_result"
    }
   ],
   "source": [
    "data[mask]"
   ]
  },
  {
   "cell_type": "code",
   "execution_count": 65,
   "metadata": {},
   "outputs": [
    {
     "data": {
      "text/plain": "array([[0.        , 0.17842404, 0.26519962, 0.5798109 ],\n       [0.        , 0.        , 0.        , 0.        ],\n       [1.00018261, 0.        , 1.08328946, 0.        ],\n       [1.50968663, 0.        , 0.        , 0.65194978],\n       [0.09705215, 0.89344961, 0.        , 0.32131822],\n       [0.        , 0.        , 1.73364065, 1.09324818]])"
     },
     "execution_count": 65,
     "metadata": {},
     "output_type": "execute_result"
    }
   ],
   "source": [
    "data[data < 0] = 0\n",
    "\n",
    "data"
   ]
  },
  {
   "cell_type": "markdown",
   "execution_count": 94,
   "metadata": {},
   "outputs": [
    {
     "data": {
      "text/plain": "array([False, False,  True, False, False, False])"
     },
     "execution_count": 94,
     "metadata": {},
     "output_type": "execute_result"
    }
   ],
   "source": [
    "### 花式索引"
   ]
  },
  {
   "cell_type": "code",
   "execution_count": 66,
   "metadata": {},
   "outputs": [
    {
     "data": {
      "text/plain": "array([[0., 0., 0., 0.],\n       [1., 1., 1., 1.],\n       [2., 2., 2., 2.],\n       [3., 3., 3., 3.],\n       [4., 4., 4., 4.],\n       [5., 5., 5., 5.],\n       [6., 6., 6., 6.],\n       [7., 7., 7., 7.]])"
     },
     "execution_count": 66,
     "metadata": {},
     "output_type": "execute_result"
    }
   ],
   "source": [
    "arr = np.empty((8, 4))\n",
    "\n",
    "for i in range(8):\n",
    "    arr[i] = i\n",
    "\n",
    "arr"
   ]
  },
  {
   "cell_type": "code",
   "execution_count": 67,
   "metadata": {},
   "outputs": [
    {
     "data": {
      "text/plain": "array([[4., 4., 4., 4.],\n       [3., 3., 3., 3.],\n       [0., 0., 0., 0.],\n       [6., 6., 6., 6.]])"
     },
     "execution_count": 67,
     "metadata": {},
     "output_type": "execute_result"
    }
   ],
   "source": [
    "arr[[4, 3, 0, 6]]"
   ]
  },
  {
   "cell_type": "code",
   "execution_count": 68,
   "metadata": {},
   "outputs": [
    {
     "data": {
      "text/plain": "array([[ 0,  1,  2,  3],\n       [ 4,  5,  6,  7],\n       [ 8,  9, 10, 11],\n       [12, 13, 14, 15],\n       [16, 17, 18, 19],\n       [20, 21, 22, 23],\n       [24, 25, 26, 27],\n       [28, 29, 30, 31]])"
     },
     "execution_count": 68,
     "metadata": {},
     "output_type": "execute_result"
    }
   ],
   "source": [
    "arr = np.arange(32).reshape((8, 4))\n",
    "\n",
    "arr"
   ]
  },
  {
   "cell_type": "code",
   "execution_count": 69,
   "metadata": {},
   "outputs": [
    {
     "data": {
      "text/plain": "array([ 4, 23, 29, 10])"
     },
     "execution_count": 69,
     "metadata": {},
     "output_type": "execute_result"
    }
   ],
   "source": [
    "arr[[1, 5, 7, 2], [0, 3, 1, 2]]"
   ]
  },
  {
   "cell_type": "code",
   "execution_count": 70,
   "metadata": {},
   "outputs": [
    {
     "data": {
      "text/plain": "array([[ 4,  7,  5,  6],\n       [20, 23, 21, 22],\n       [28, 31, 29, 30],\n       [ 8, 11,  9, 10]])"
     },
     "execution_count": 70,
     "metadata": {},
     "output_type": "execute_result"
    }
   ],
   "source": [
    "arr[[1, 5, 7, 2]][:, [0, 3, 1, 2]]"
   ]
  },
  {
   "cell_type": "markdown",
   "execution_count": null,
   "metadata": {},
   "outputs": [],
   "source": [
    "### 数组转置和轴对称"
   ]
  },
  {
   "cell_type": "code",
   "execution_count": 71,
   "metadata": {},
   "outputs": [
    {
     "data": {
      "text/plain": "array([[ 0,  1,  2,  3,  4],\n       [ 5,  6,  7,  8,  9],\n       [10, 11, 12, 13, 14]])"
     },
     "execution_count": 71,
     "metadata": {},
     "output_type": "execute_result"
    }
   ],
   "source": [
    "arr = np.arange(15).reshape((3, 5))\n",
    "\n",
    "arr"
   ]
  },
  {
   "cell_type": "code",
   "execution_count": 72,
   "metadata": {},
   "outputs": [
    {
     "data": {
      "text/plain": "array([[ 0,  5, 10],\n       [ 1,  6, 11],\n       [ 2,  7, 12],\n       [ 3,  8, 13],\n       [ 4,  9, 14]])"
     },
     "execution_count": 72,
     "metadata": {},
     "output_type": "execute_result"
    }
   ],
   "source": [
    "arr.T"
   ]
  },
  {
   "cell_type": "code",
   "execution_count": 73,
   "metadata": {},
   "outputs": [
    {
     "data": {
      "text/plain": "array([[ 1.19847852,  0.04307319,  0.23071521],\n       [-1.02769034,  0.77059721, -0.59356546],\n       [ 0.26186308,  0.46564627,  0.66874167],\n       [ 0.5937954 , -0.62241598, -1.85025573],\n       [ 1.14298452,  0.5374248 , -1.12927625],\n       [ 0.36910766,  0.30759677, -0.93775047]])"
     },
     "execution_count": 73,
     "metadata": {},
     "output_type": "execute_result"
    }
   ],
   "source": [
    "arr = np.random.randn(6, 3)\n",
    "\n",
    "arr"
   ]
  },
  {
   "cell_type": "code",
   "execution_count": 74,
   "metadata": {},
   "outputs": [
    {
     "data": {
      "text/plain": "array([[ 4.35631751, -0.26016065, -1.67392203],\n       [-0.26016065,  1.58334466,  0.12021347],\n       [-1.67392203,  0.12021347,  6.43085195]])"
     },
     "execution_count": 74,
     "metadata": {},
     "output_type": "execute_result"
    }
   ],
   "source": [
    "np.dot(arr.T, arr)"
   ]
  },
  {
   "cell_type": "code",
   "execution_count": 121,
   "metadata": {},
   "outputs": [
    {
     "data": {
      "text/plain": "array([[[ 1,  2,  3,  4],\n        [ 5,  6,  7,  8],\n        [ 9, 10, 11, 12]],\n\n       [[13, 14, 15, 16],\n        [17, 18, 19, 20],\n        [21, 22, 23, 24]]])"
     },
     "execution_count": 121,
     "metadata": {},
     "output_type": "execute_result"
    }
   ],
   "source": [
    "arr = np.arange(1, 25).reshape([2,3,4])\n",
    "\n",
    "arr"
   ]
  },
  {
   "cell_type": "code",
   "execution_count": 122,
   "metadata": {},
   "outputs": [
    {
     "data": {
      "text/plain": "array([[[ 1,  2,  3,  4],\n        [13, 14, 15, 16]],\n\n       [[ 5,  6,  7,  8],\n        [17, 18, 19, 20]],\n\n       [[ 9, 10, 11, 12],\n        [21, 22, 23, 24]]])"
     },
     "execution_count": 122,
     "metadata": {},
     "output_type": "execute_result"
    }
   ],
   "source": [
    "arr2 = arr.transpose((1, 0, 2))\n",
    "\n",
    "arr2"
   ]
  },
  {
   "cell_type": "code",
   "execution_count": 123,
   "metadata": {},
   "outputs": [
    {
     "data": {
      "text/plain": "array([[[ 1, 13],\n        [ 5, 17],\n        [ 9, 21]],\n\n       [[ 2, 14],\n        [ 6, 18],\n        [10, 22]],\n\n       [[ 3, 15],\n        [ 7, 19],\n        [11, 23]],\n\n       [[ 4, 16],\n        [ 8, 20],\n        [12, 24]]])"
     },
     "execution_count": 123,
     "metadata": {},
     "output_type": "execute_result"
    }
   ],
   "source": [
    "arr.transpose((2, 1, 0))"
   ]
  },
  {
   "cell_type": "code",
   "execution_count": 124,
   "metadata": {},
   "outputs": [
    {
     "data": {
      "text/plain": "array([[[ 1,  5,  9],\n        [13, 17, 21]],\n\n       [[ 2,  6, 10],\n        [14, 18, 22]],\n\n       [[ 3,  7, 11],\n        [15, 19, 23]],\n\n       [[ 4,  8, 12],\n        [16, 20, 24]]])"
     },
     "execution_count": 124,
     "metadata": {},
     "output_type": "execute_result"
    }
   ],
   "source": [
    "arr.transpose(2, 0, 1)"
   ]
  },
  {
   "cell_type": "markdown",
   "execution_count": null,
   "metadata": {},
   "outputs": [],
   "source": [
    "transpose 是对矩阵索引的一次调整. 原先矩阵是一个三维矩阵, 索引顺序是x, y, z, 角坐标分别是0, 1, 2\n",
    "![arr3d](./img/arr3d.png)"
   ]
  },
  {
   "cell_type": "code",
   "execution_count": 82,
   "metadata": {},
   "outputs": [
    {
     "data": {
      "text/plain": "array([[[ 0,  8],\n        [ 4, 12]],\n\n       [[ 1,  9],\n        [ 5, 13]],\n\n       [[ 2, 10],\n        [ 6, 14]],\n\n       [[ 3, 11],\n        [ 7, 15]]])"
     },
     "execution_count": 82,
     "metadata": {},
     "output_type": "execute_result"
    }
   ],
   "source": [
    "arr.T"
   ]
  },
  {
   "cell_type": "code",
   "execution_count": 127,
   "metadata": {},
   "outputs": [
    {
     "data": {
      "text/plain": "array([[[ 0,  1,  2,  3],\n        [ 4,  5,  6,  7]],\n\n       [[ 8,  9, 10, 11],\n        [12, 13, 14, 15]]])"
     },
     "execution_count": 127,
     "metadata": {},
     "output_type": "execute_result"
    }
   ],
   "source": [
    "arr = np.arange(16).reshape((2, 2, 4))\n",
    "arr"
   ]
  },
  {
   "cell_type": "code",
   "execution_count": 129,
   "metadata": {},
   "outputs": [
    {
     "data": {
      "text/plain": "array([[[ 0,  4],\n        [ 1,  5],\n        [ 2,  6],\n        [ 3,  7]],\n\n       [[ 8, 12],\n        [ 9, 13],\n        [10, 14],\n        [11, 15]]])"
     },
     "execution_count": 129,
     "metadata": {},
     "output_type": "execute_result"
    }
   ],
   "source": [
    "arr.swapaxes(1, 2)"
   ]
  },
  {
   "cell_type": "code",
   "execution_count": 130,
   "metadata": {},
   "outputs": [
    {
     "data": {
      "text/plain": "array([[[ 0,  4],\n        [ 1,  5],\n        [ 2,  6],\n        [ 3,  7]],\n\n       [[ 8, 12],\n        [ 9, 13],\n        [10, 14],\n        [11, 15]]])"
     },
     "execution_count": 130,
     "metadata": {},
     "output_type": "execute_result"
    }
   ],
   "source": [
    "arr.transpose((0, 2, 1))"
   ]
  },
  {
   "cell_type": "markdown",
   "execution_count": null,
   "metadata": {},
   "outputs": [],
   "source": [
    "### 通用函数: 快速的元素级数组函数"
   ]
  },
  {
   "cell_type": "code",
   "execution_count": 132,
   "metadata": {},
   "outputs": [
    {
     "data": {
      "text/plain": "array([0, 1, 2, 3, 4, 5, 6, 7, 8, 9])"
     },
     "execution_count": 132,
     "metadata": {},
     "output_type": "execute_result"
    }
   ],
   "source": [
    "arr = np.arange(10)\n",
    "\n",
    "arr"
   ]
  },
  {
   "cell_type": "code",
   "execution_count": 133,
   "metadata": {},
   "outputs": [
    {
     "data": {
      "text/plain": "array([0.        , 1.        , 1.41421356, 1.73205081, 2.        ,\n       2.23606798, 2.44948974, 2.64575131, 2.82842712, 3.        ])"
     },
     "execution_count": 133,
     "metadata": {},
     "output_type": "execute_result"
    }
   ],
   "source": [
    "np.sqrt(arr)"
   ]
  },
  {
   "cell_type": "code",
   "execution_count": 134,
   "metadata": {},
   "outputs": [
    {
     "data": {
      "text/plain": "array([1.00000000e+00, 2.71828183e+00, 7.38905610e+00, 2.00855369e+01,\n       5.45981500e+01, 1.48413159e+02, 4.03428793e+02, 1.09663316e+03,\n       2.98095799e+03, 8.10308393e+03])"
     },
     "execution_count": 134,
     "metadata": {},
     "output_type": "execute_result"
    }
   ],
   "source": [
    "np.exp(arr)"
   ]
  },
  {
   "cell_type": "code",
   "execution_count": 135,
   "metadata": {},
   "outputs": [
    {
     "data": {
      "text/plain": "array([ 1.15173864, -0.62862117, -0.33124191,  0.14552238,  0.32622054,\n        0.92615151, -0.99369172,  0.22925887])"
     },
     "execution_count": 135,
     "metadata": {},
     "output_type": "execute_result"
    }
   ],
   "source": [
    "x = np.random.randn(8)\n",
    "y = np.random.randn(8)\n",
    "\n",
    "x"
   ]
  },
  {
   "cell_type": "code",
   "execution_count": 136,
   "metadata": {},
   "outputs": [
    {
     "data": {
      "text/plain": "array([-0.55465701,  1.57229153,  0.40352379, -0.29567113,  0.30272052,\n        0.42358627,  0.88701548,  0.43499932])"
     },
     "execution_count": 136,
     "metadata": {},
     "output_type": "execute_result"
    }
   ],
   "source": [
    "y"
   ]
  },
  {
   "cell_type": "code",
   "execution_count": 138,
   "metadata": {},
   "outputs": [
    {
     "data": {
      "text/plain": "array([1.15173864, 1.57229153, 0.40352379, 0.14552238, 0.32622054,\n       0.92615151, 0.88701548, 0.43499932])"
     },
     "execution_count": 138,
     "metadata": {},
     "output_type": "execute_result"
    }
   ],
   "source": [
    "np.maximum(x, y)"
   ]
  },
  {
   "cell_type": "markdown",
   "execution_count": null,
   "metadata": {},
   "outputs": [],
   "source": [
    "#### 利用数组进行数据处理"
   ]
  },
  {
   "cell_type": "code",
   "execution_count": 139,
   "metadata": {},
   "outputs": [
    {
     "data": {
      "text/plain": "array([-5.0000000e+00, -4.9900000e+00, -4.9800000e+00, -4.9700000e+00,\n       -4.9600000e+00, -4.9500000e+00, -4.9400000e+00, -4.9300000e+00,\n       -4.9200000e+00, -4.9100000e+00, -4.9000000e+00, -4.8900000e+00,\n       -4.8800000e+00, -4.8700000e+00, -4.8600000e+00, -4.8500000e+00,\n       -4.8400000e+00, -4.8300000e+00, -4.8200000e+00, -4.8100000e+00,\n       -4.8000000e+00, -4.7900000e+00, -4.7800000e+00, -4.7700000e+00,\n       -4.7600000e+00, -4.7500000e+00, -4.7400000e+00, -4.7300000e+00,\n       -4.7200000e+00, -4.7100000e+00, -4.7000000e+00, -4.6900000e+00,\n       -4.6800000e+00, -4.6700000e+00, -4.6600000e+00, -4.6500000e+00,\n       -4.6400000e+00, -4.6300000e+00, -4.6200000e+00, -4.6100000e+00,\n       -4.6000000e+00, -4.5900000e+00, -4.5800000e+00, -4.5700000e+00,\n       -4.5600000e+00, -4.5500000e+00, -4.5400000e+00, -4.5300000e+00,\n       -4.5200000e+00, -4.5100000e+00, -4.5000000e+00, -4.4900000e+00,\n       -4.4800000e+00, -4.4700000e+00, -4.4600000e+00, -4.4500000e+00,\n       -4.4400000e+00, -4.4300000e+00, -4.4200000e+00, -4.4100000e+00,\n       -4.4000000e+00, -4.3900000e+00, -4.3800000e+00, -4.3700000e+00,\n       -4.3600000e+00, -4.3500000e+00, -4.3400000e+00, -4.3300000e+00,\n       -4.3200000e+00, -4.3100000e+00, -4.3000000e+00, -4.2900000e+00,\n       -4.2800000e+00, -4.2700000e+00, -4.2600000e+00, -4.2500000e+00,\n       -4.2400000e+00, -4.2300000e+00, -4.2200000e+00, -4.2100000e+00,\n       -4.2000000e+00, -4.1900000e+00, -4.1800000e+00, -4.1700000e+00,\n       -4.1600000e+00, -4.1500000e+00, -4.1400000e+00, -4.1300000e+00,\n       -4.1200000e+00, -4.1100000e+00, -4.1000000e+00, -4.0900000e+00,\n       -4.0800000e+00, -4.0700000e+00, -4.0600000e+00, -4.0500000e+00,\n       -4.0400000e+00, -4.0300000e+00, -4.0200000e+00, -4.0100000e+00,\n       -4.0000000e+00, -3.9900000e+00, -3.9800000e+00, -3.9700000e+00,\n       -3.9600000e+00, -3.9500000e+00, -3.9400000e+00, -3.9300000e+00,\n       -3.9200000e+00, -3.9100000e+00, -3.9000000e+00, -3.8900000e+00,\n       -3.8800000e+00, -3.8700000e+00, -3.8600000e+00, -3.8500000e+00,\n       -3.8400000e+00, -3.8300000e+00, -3.8200000e+00, -3.8100000e+00,\n       -3.8000000e+00, -3.7900000e+00, -3.7800000e+00, -3.7700000e+00,\n       -3.7600000e+00, -3.7500000e+00, -3.7400000e+00, -3.7300000e+00,\n       -3.7200000e+00, -3.7100000e+00, -3.7000000e+00, -3.6900000e+00,\n       -3.6800000e+00, -3.6700000e+00, -3.6600000e+00, -3.6500000e+00,\n       -3.6400000e+00, -3.6300000e+00, -3.6200000e+00, -3.6100000e+00,\n       -3.6000000e+00, -3.5900000e+00, -3.5800000e+00, -3.5700000e+00,\n       -3.5600000e+00, -3.5500000e+00, -3.5400000e+00, -3.5300000e+00,\n       -3.5200000e+00, -3.5100000e+00, -3.5000000e+00, -3.4900000e+00,\n       -3.4800000e+00, -3.4700000e+00, -3.4600000e+00, -3.4500000e+00,\n       -3.4400000e+00, -3.4300000e+00, -3.4200000e+00, -3.4100000e+00,\n       -3.4000000e+00, -3.3900000e+00, -3.3800000e+00, -3.3700000e+00,\n       -3.3600000e+00, -3.3500000e+00, -3.3400000e+00, -3.3300000e+00,\n       -3.3200000e+00, -3.3100000e+00, -3.3000000e+00, -3.2900000e+00,\n       -3.2800000e+00, -3.2700000e+00, -3.2600000e+00, -3.2500000e+00,\n       -3.2400000e+00, -3.2300000e+00, -3.2200000e+00, -3.2100000e+00,\n       -3.2000000e+00, -3.1900000e+00, -3.1800000e+00, -3.1700000e+00,\n       -3.1600000e+00, -3.1500000e+00, -3.1400000e+00, -3.1300000e+00,\n       -3.1200000e+00, -3.1100000e+00, -3.1000000e+00, -3.0900000e+00,\n       -3.0800000e+00, -3.0700000e+00, -3.0600000e+00, -3.0500000e+00,\n       -3.0400000e+00, -3.0300000e+00, -3.0200000e+00, -3.0100000e+00,\n       -3.0000000e+00, -2.9900000e+00, -2.9800000e+00, -2.9700000e+00,\n       -2.9600000e+00, -2.9500000e+00, -2.9400000e+00, -2.9300000e+00,\n       -2.9200000e+00, -2.9100000e+00, -2.9000000e+00, -2.8900000e+00,\n       -2.8800000e+00, -2.8700000e+00, -2.8600000e+00, -2.8500000e+00,\n       -2.8400000e+00, -2.8300000e+00, -2.8200000e+00, -2.8100000e+00,\n       -2.8000000e+00, -2.7900000e+00, -2.7800000e+00, -2.7700000e+00,\n       -2.7600000e+00, -2.7500000e+00, -2.7400000e+00, -2.7300000e+00,\n       -2.7200000e+00, -2.7100000e+00, -2.7000000e+00, -2.6900000e+00,\n       -2.6800000e+00, -2.6700000e+00, -2.6600000e+00, -2.6500000e+00,\n       -2.6400000e+00, -2.6300000e+00, -2.6200000e+00, -2.6100000e+00,\n       -2.6000000e+00, -2.5900000e+00, -2.5800000e+00, -2.5700000e+00,\n       -2.5600000e+00, -2.5500000e+00, -2.5400000e+00, -2.5300000e+00,\n       -2.5200000e+00, -2.5100000e+00, -2.5000000e+00, -2.4900000e+00,\n       -2.4800000e+00, -2.4700000e+00, -2.4600000e+00, -2.4500000e+00,\n       -2.4400000e+00, -2.4300000e+00, -2.4200000e+00, -2.4100000e+00,\n       -2.4000000e+00, -2.3900000e+00, -2.3800000e+00, -2.3700000e+00,\n       -2.3600000e+00, -2.3500000e+00, -2.3400000e+00, -2.3300000e+00,\n       -2.3200000e+00, -2.3100000e+00, -2.3000000e+00, -2.2900000e+00,\n       -2.2800000e+00, -2.2700000e+00, -2.2600000e+00, -2.2500000e+00,\n       -2.2400000e+00, -2.2300000e+00, -2.2200000e+00, -2.2100000e+00,\n       -2.2000000e+00, -2.1900000e+00, -2.1800000e+00, -2.1700000e+00,\n       -2.1600000e+00, -2.1500000e+00, -2.1400000e+00, -2.1300000e+00,\n       -2.1200000e+00, -2.1100000e+00, -2.1000000e+00, -2.0900000e+00,\n       -2.0800000e+00, -2.0700000e+00, -2.0600000e+00, -2.0500000e+00,\n       -2.0400000e+00, -2.0300000e+00, -2.0200000e+00, -2.0100000e+00,\n       -2.0000000e+00, -1.9900000e+00, -1.9800000e+00, -1.9700000e+00,\n       -1.9600000e+00, -1.9500000e+00, -1.9400000e+00, -1.9300000e+00,\n       -1.9200000e+00, -1.9100000e+00, -1.9000000e+00, -1.8900000e+00,\n       -1.8800000e+00, -1.8700000e+00, -1.8600000e+00, -1.8500000e+00,\n       -1.8400000e+00, -1.8300000e+00, -1.8200000e+00, -1.8100000e+00,\n       -1.8000000e+00, -1.7900000e+00, -1.7800000e+00, -1.7700000e+00,\n       -1.7600000e+00, -1.7500000e+00, -1.7400000e+00, -1.7300000e+00,\n       -1.7200000e+00, -1.7100000e+00, -1.7000000e+00, -1.6900000e+00,\n       -1.6800000e+00, -1.6700000e+00, -1.6600000e+00, -1.6500000e+00,\n       -1.6400000e+00, -1.6300000e+00, -1.6200000e+00, -1.6100000e+00,\n       -1.6000000e+00, -1.5900000e+00, -1.5800000e+00, -1.5700000e+00,\n       -1.5600000e+00, -1.5500000e+00, -1.5400000e+00, -1.5300000e+00,\n       -1.5200000e+00, -1.5100000e+00, -1.5000000e+00, -1.4900000e+00,\n       -1.4800000e+00, -1.4700000e+00, -1.4600000e+00, -1.4500000e+00,\n       -1.4400000e+00, -1.4300000e+00, -1.4200000e+00, -1.4100000e+00,\n       -1.4000000e+00, -1.3900000e+00, -1.3800000e+00, -1.3700000e+00,\n       -1.3600000e+00, -1.3500000e+00, -1.3400000e+00, -1.3300000e+00,\n       -1.3200000e+00, -1.3100000e+00, -1.3000000e+00, -1.2900000e+00,\n       -1.2800000e+00, -1.2700000e+00, -1.2600000e+00, -1.2500000e+00,\n       -1.2400000e+00, -1.2300000e+00, -1.2200000e+00, -1.2100000e+00,\n       -1.2000000e+00, -1.1900000e+00, -1.1800000e+00, -1.1700000e+00,\n       -1.1600000e+00, -1.1500000e+00, -1.1400000e+00, -1.1300000e+00,\n       -1.1200000e+00, -1.1100000e+00, -1.1000000e+00, -1.0900000e+00,\n       -1.0800000e+00, -1.0700000e+00, -1.0600000e+00, -1.0500000e+00,\n       -1.0400000e+00, -1.0300000e+00, -1.0200000e+00, -1.0100000e+00,\n       -1.0000000e+00, -9.9000000e-01, -9.8000000e-01, -9.7000000e-01,\n       -9.6000000e-01, -9.5000000e-01, -9.4000000e-01, -9.3000000e-01,\n       -9.2000000e-01, -9.1000000e-01, -9.0000000e-01, -8.9000000e-01,\n       -8.8000000e-01, -8.7000000e-01, -8.6000000e-01, -8.5000000e-01,\n       -8.4000000e-01, -8.3000000e-01, -8.2000000e-01, -8.1000000e-01,\n       -8.0000000e-01, -7.9000000e-01, -7.8000000e-01, -7.7000000e-01,\n       -7.6000000e-01, -7.5000000e-01, -7.4000000e-01, -7.3000000e-01,\n       -7.2000000e-01, -7.1000000e-01, -7.0000000e-01, -6.9000000e-01,\n       -6.8000000e-01, -6.7000000e-01, -6.6000000e-01, -6.5000000e-01,\n       -6.4000000e-01, -6.3000000e-01, -6.2000000e-01, -6.1000000e-01,\n       -6.0000000e-01, -5.9000000e-01, -5.8000000e-01, -5.7000000e-01,\n       -5.6000000e-01, -5.5000000e-01, -5.4000000e-01, -5.3000000e-01,\n       -5.2000000e-01, -5.1000000e-01, -5.0000000e-01, -4.9000000e-01,\n       -4.8000000e-01, -4.7000000e-01, -4.6000000e-01, -4.5000000e-01,\n       -4.4000000e-01, -4.3000000e-01, -4.2000000e-01, -4.1000000e-01,\n       -4.0000000e-01, -3.9000000e-01, -3.8000000e-01, -3.7000000e-01,\n       -3.6000000e-01, -3.5000000e-01, -3.4000000e-01, -3.3000000e-01,\n       -3.2000000e-01, -3.1000000e-01, -3.0000000e-01, -2.9000000e-01,\n       -2.8000000e-01, -2.7000000e-01, -2.6000000e-01, -2.5000000e-01,\n       -2.4000000e-01, -2.3000000e-01, -2.2000000e-01, -2.1000000e-01,\n       -2.0000000e-01, -1.9000000e-01, -1.8000000e-01, -1.7000000e-01,\n       -1.6000000e-01, -1.5000000e-01, -1.4000000e-01, -1.3000000e-01,\n       -1.2000000e-01, -1.1000000e-01, -1.0000000e-01, -9.0000000e-02,\n       -8.0000000e-02, -7.0000000e-02, -6.0000000e-02, -5.0000000e-02,\n       -4.0000000e-02, -3.0000000e-02, -2.0000000e-02, -1.0000000e-02,\n       -1.0658141e-13,  1.0000000e-02,  2.0000000e-02,  3.0000000e-02,\n        4.0000000e-02,  5.0000000e-02,  6.0000000e-02,  7.0000000e-02,\n        8.0000000e-02,  9.0000000e-02,  1.0000000e-01,  1.1000000e-01,\n        1.2000000e-01,  1.3000000e-01,  1.4000000e-01,  1.5000000e-01,\n        1.6000000e-01,  1.7000000e-01,  1.8000000e-01,  1.9000000e-01,\n        2.0000000e-01,  2.1000000e-01,  2.2000000e-01,  2.3000000e-01,\n        2.4000000e-01,  2.5000000e-01,  2.6000000e-01,  2.7000000e-01,\n        2.8000000e-01,  2.9000000e-01,  3.0000000e-01,  3.1000000e-01,\n        3.2000000e-01,  3.3000000e-01,  3.4000000e-01,  3.5000000e-01,\n        3.6000000e-01,  3.7000000e-01,  3.8000000e-01,  3.9000000e-01,\n        4.0000000e-01,  4.1000000e-01,  4.2000000e-01,  4.3000000e-01,\n        4.4000000e-01,  4.5000000e-01,  4.6000000e-01,  4.7000000e-01,\n        4.8000000e-01,  4.9000000e-01,  5.0000000e-01,  5.1000000e-01,\n        5.2000000e-01,  5.3000000e-01,  5.4000000e-01,  5.5000000e-01,\n        5.6000000e-01,  5.7000000e-01,  5.8000000e-01,  5.9000000e-01,\n        6.0000000e-01,  6.1000000e-01,  6.2000000e-01,  6.3000000e-01,\n        6.4000000e-01,  6.5000000e-01,  6.6000000e-01,  6.7000000e-01,\n        6.8000000e-01,  6.9000000e-01,  7.0000000e-01,  7.1000000e-01,\n        7.2000000e-01,  7.3000000e-01,  7.4000000e-01,  7.5000000e-01,\n        7.6000000e-01,  7.7000000e-01,  7.8000000e-01,  7.9000000e-01,\n        8.0000000e-01,  8.1000000e-01,  8.2000000e-01,  8.3000000e-01,\n        8.4000000e-01,  8.5000000e-01,  8.6000000e-01,  8.7000000e-01,\n        8.8000000e-01,  8.9000000e-01,  9.0000000e-01,  9.1000000e-01,\n        9.2000000e-01,  9.3000000e-01,  9.4000000e-01,  9.5000000e-01,\n        9.6000000e-01,  9.7000000e-01,  9.8000000e-01,  9.9000000e-01,\n        1.0000000e+00,  1.0100000e+00,  1.0200000e+00,  1.0300000e+00,\n        1.0400000e+00,  1.0500000e+00,  1.0600000e+00,  1.0700000e+00,\n        1.0800000e+00,  1.0900000e+00,  1.1000000e+00,  1.1100000e+00,\n        1.1200000e+00,  1.1300000e+00,  1.1400000e+00,  1.1500000e+00,\n        1.1600000e+00,  1.1700000e+00,  1.1800000e+00,  1.1900000e+00,\n        1.2000000e+00,  1.2100000e+00,  1.2200000e+00,  1.2300000e+00,\n        1.2400000e+00,  1.2500000e+00,  1.2600000e+00,  1.2700000e+00,\n        1.2800000e+00,  1.2900000e+00,  1.3000000e+00,  1.3100000e+00,\n        1.3200000e+00,  1.3300000e+00,  1.3400000e+00,  1.3500000e+00,\n        1.3600000e+00,  1.3700000e+00,  1.3800000e+00,  1.3900000e+00,\n        1.4000000e+00,  1.4100000e+00,  1.4200000e+00,  1.4300000e+00,\n        1.4400000e+00,  1.4500000e+00,  1.4600000e+00,  1.4700000e+00,\n        1.4800000e+00,  1.4900000e+00,  1.5000000e+00,  1.5100000e+00,\n        1.5200000e+00,  1.5300000e+00,  1.5400000e+00,  1.5500000e+00,\n        1.5600000e+00,  1.5700000e+00,  1.5800000e+00,  1.5900000e+00,\n        1.6000000e+00,  1.6100000e+00,  1.6200000e+00,  1.6300000e+00,\n        1.6400000e+00,  1.6500000e+00,  1.6600000e+00,  1.6700000e+00,\n        1.6800000e+00,  1.6900000e+00,  1.7000000e+00,  1.7100000e+00,\n        1.7200000e+00,  1.7300000e+00,  1.7400000e+00,  1.7500000e+00,\n        1.7600000e+00,  1.7700000e+00,  1.7800000e+00,  1.7900000e+00,\n        1.8000000e+00,  1.8100000e+00,  1.8200000e+00,  1.8300000e+00,\n        1.8400000e+00,  1.8500000e+00,  1.8600000e+00,  1.8700000e+00,\n        1.8800000e+00,  1.8900000e+00,  1.9000000e+00,  1.9100000e+00,\n        1.9200000e+00,  1.9300000e+00,  1.9400000e+00,  1.9500000e+00,\n        1.9600000e+00,  1.9700000e+00,  1.9800000e+00,  1.9900000e+00,\n        2.0000000e+00,  2.0100000e+00,  2.0200000e+00,  2.0300000e+00,\n        2.0400000e+00,  2.0500000e+00,  2.0600000e+00,  2.0700000e+00,\n        2.0800000e+00,  2.0900000e+00,  2.1000000e+00,  2.1100000e+00,\n        2.1200000e+00,  2.1300000e+00,  2.1400000e+00,  2.1500000e+00,\n        2.1600000e+00,  2.1700000e+00,  2.1800000e+00,  2.1900000e+00,\n        2.2000000e+00,  2.2100000e+00,  2.2200000e+00,  2.2300000e+00,\n        2.2400000e+00,  2.2500000e+00,  2.2600000e+00,  2.2700000e+00,\n        2.2800000e+00,  2.2900000e+00,  2.3000000e+00,  2.3100000e+00,\n        2.3200000e+00,  2.3300000e+00,  2.3400000e+00,  2.3500000e+00,\n        2.3600000e+00,  2.3700000e+00,  2.3800000e+00,  2.3900000e+00,\n        2.4000000e+00,  2.4100000e+00,  2.4200000e+00,  2.4300000e+00,\n        2.4400000e+00,  2.4500000e+00,  2.4600000e+00,  2.4700000e+00,\n        2.4800000e+00,  2.4900000e+00,  2.5000000e+00,  2.5100000e+00,\n        2.5200000e+00,  2.5300000e+00,  2.5400000e+00,  2.5500000e+00,\n        2.5600000e+00,  2.5700000e+00,  2.5800000e+00,  2.5900000e+00,\n        2.6000000e+00,  2.6100000e+00,  2.6200000e+00,  2.6300000e+00,\n        2.6400000e+00,  2.6500000e+00,  2.6600000e+00,  2.6700000e+00,\n        2.6800000e+00,  2.6900000e+00,  2.7000000e+00,  2.7100000e+00,\n        2.7200000e+00,  2.7300000e+00,  2.7400000e+00,  2.7500000e+00,\n        2.7600000e+00,  2.7700000e+00,  2.7800000e+00,  2.7900000e+00,\n        2.8000000e+00,  2.8100000e+00,  2.8200000e+00,  2.8300000e+00,\n        2.8400000e+00,  2.8500000e+00,  2.8600000e+00,  2.8700000e+00,\n        2.8800000e+00,  2.8900000e+00,  2.9000000e+00,  2.9100000e+00,\n        2.9200000e+00,  2.9300000e+00,  2.9400000e+00,  2.9500000e+00,\n        2.9600000e+00,  2.9700000e+00,  2.9800000e+00,  2.9900000e+00,\n        3.0000000e+00,  3.0100000e+00,  3.0200000e+00,  3.0300000e+00,\n        3.0400000e+00,  3.0500000e+00,  3.0600000e+00,  3.0700000e+00,\n        3.0800000e+00,  3.0900000e+00,  3.1000000e+00,  3.1100000e+00,\n        3.1200000e+00,  3.1300000e+00,  3.1400000e+00,  3.1500000e+00,\n        3.1600000e+00,  3.1700000e+00,  3.1800000e+00,  3.1900000e+00,\n        3.2000000e+00,  3.2100000e+00,  3.2200000e+00,  3.2300000e+00,\n        3.2400000e+00,  3.2500000e+00,  3.2600000e+00,  3.2700000e+00,\n        3.2800000e+00,  3.2900000e+00,  3.3000000e+00,  3.3100000e+00,\n        3.3200000e+00,  3.3300000e+00,  3.3400000e+00,  3.3500000e+00,\n        3.3600000e+00,  3.3700000e+00,  3.3800000e+00,  3.3900000e+00,\n        3.4000000e+00,  3.4100000e+00,  3.4200000e+00,  3.4300000e+00,\n        3.4400000e+00,  3.4500000e+00,  3.4600000e+00,  3.4700000e+00,\n        3.4800000e+00,  3.4900000e+00,  3.5000000e+00,  3.5100000e+00,\n        3.5200000e+00,  3.5300000e+00,  3.5400000e+00,  3.5500000e+00,\n        3.5600000e+00,  3.5700000e+00,  3.5800000e+00,  3.5900000e+00,\n        3.6000000e+00,  3.6100000e+00,  3.6200000e+00,  3.6300000e+00,\n        3.6400000e+00,  3.6500000e+00,  3.6600000e+00,  3.6700000e+00,\n        3.6800000e+00,  3.6900000e+00,  3.7000000e+00,  3.7100000e+00,\n        3.7200000e+00,  3.7300000e+00,  3.7400000e+00,  3.7500000e+00,\n        3.7600000e+00,  3.7700000e+00,  3.7800000e+00,  3.7900000e+00,\n        3.8000000e+00,  3.8100000e+00,  3.8200000e+00,  3.8300000e+00,\n        3.8400000e+00,  3.8500000e+00,  3.8600000e+00,  3.8700000e+00,\n        3.8800000e+00,  3.8900000e+00,  3.9000000e+00,  3.9100000e+00,\n        3.9200000e+00,  3.9300000e+00,  3.9400000e+00,  3.9500000e+00,\n        3.9600000e+00,  3.9700000e+00,  3.9800000e+00,  3.9900000e+00,\n        4.0000000e+00,  4.0100000e+00,  4.0200000e+00,  4.0300000e+00,\n        4.0400000e+00,  4.0500000e+00,  4.0600000e+00,  4.0700000e+00,\n        4.0800000e+00,  4.0900000e+00,  4.1000000e+00,  4.1100000e+00,\n        4.1200000e+00,  4.1300000e+00,  4.1400000e+00,  4.1500000e+00,\n        4.1600000e+00,  4.1700000e+00,  4.1800000e+00,  4.1900000e+00,\n        4.2000000e+00,  4.2100000e+00,  4.2200000e+00,  4.2300000e+00,\n        4.2400000e+00,  4.2500000e+00,  4.2600000e+00,  4.2700000e+00,\n        4.2800000e+00,  4.2900000e+00,  4.3000000e+00,  4.3100000e+00,\n        4.3200000e+00,  4.3300000e+00,  4.3400000e+00,  4.3500000e+00,\n        4.3600000e+00,  4.3700000e+00,  4.3800000e+00,  4.3900000e+00,\n        4.4000000e+00,  4.4100000e+00,  4.4200000e+00,  4.4300000e+00,\n        4.4400000e+00,  4.4500000e+00,  4.4600000e+00,  4.4700000e+00,\n        4.4800000e+00,  4.4900000e+00,  4.5000000e+00,  4.5100000e+00,\n        4.5200000e+00,  4.5300000e+00,  4.5400000e+00,  4.5500000e+00,\n        4.5600000e+00,  4.5700000e+00,  4.5800000e+00,  4.5900000e+00,\n        4.6000000e+00,  4.6100000e+00,  4.6200000e+00,  4.6300000e+00,\n        4.6400000e+00,  4.6500000e+00,  4.6600000e+00,  4.6700000e+00,\n        4.6800000e+00,  4.6900000e+00,  4.7000000e+00,  4.7100000e+00,\n        4.7200000e+00,  4.7300000e+00,  4.7400000e+00,  4.7500000e+00,\n        4.7600000e+00,  4.7700000e+00,  4.7800000e+00,  4.7900000e+00,\n        4.8000000e+00,  4.8100000e+00,  4.8200000e+00,  4.8300000e+00,\n        4.8400000e+00,  4.8500000e+00,  4.8600000e+00,  4.8700000e+00,\n        4.8800000e+00,  4.8900000e+00,  4.9000000e+00,  4.9100000e+00,\n        4.9200000e+00,  4.9300000e+00,  4.9400000e+00,  4.9500000e+00,\n        4.9600000e+00,  4.9700000e+00,  4.9800000e+00,  4.9900000e+00])"
     },
     "execution_count": 139,
     "metadata": {},
     "output_type": "execute_result"
    }
   ],
   "source": [
    "points = np.arange(-5, 5, 0.01)\n",
    "\n",
    "points"
   ]
  },
  {
   "cell_type": "code",
   "execution_count": 141,
   "metadata": {},
   "outputs": [
    {
     "data": {
      "text/plain": "array([[-5.  , -5.  , -5.  , ..., -5.  , -5.  , -5.  ],\n       [-4.99, -4.99, -4.99, ..., -4.99, -4.99, -4.99],\n       [-4.98, -4.98, -4.98, ..., -4.98, -4.98, -4.98],\n       ...,\n       [ 4.97,  4.97,  4.97, ...,  4.97,  4.97,  4.97],\n       [ 4.98,  4.98,  4.98, ...,  4.98,  4.98,  4.98],\n       [ 4.99,  4.99,  4.99, ...,  4.99,  4.99,  4.99]])"
     },
     "execution_count": 141,
     "metadata": {},
     "output_type": "execute_result"
    }
   ],
   "source": [
    "xs, ys = np.meshgrid(points, points)\n",
    "\n",
    "ys"
   ]
  },
  {
   "cell_type": "code",
   "execution_count": 142,
   "metadata": {},
   "outputs": [
    {
     "data": {
      "text/plain": "array([[5.  , 4.99, 4.98, ..., 4.97, 4.98, 4.99],\n       [5.  , 4.99, 4.98, ..., 4.97, 4.98, 4.99],\n       [5.  , 4.99, 4.98, ..., 4.97, 4.98, 4.99],\n       ...,\n       [5.  , 4.99, 4.98, ..., 4.97, 4.98, 4.99],\n       [5.  , 4.99, 4.98, ..., 4.97, 4.98, 4.99],\n       [5.  , 4.99, 4.98, ..., 4.97, 4.98, 4.99]])"
     },
     "execution_count": 142,
     "metadata": {},
     "output_type": "execute_result"
    }
   ],
   "source": [
    "z = np.sqrt(xs ** 2, ys ** 2)\n",
    "\n",
    "z"
   ]
  },
  {
   "cell_type": "code",
   "execution_count": 150,
   "metadata": {},
   "outputs": [
    {
     "data": {
      "text/plain": "[1.1, 2.2, 1.3, 2.4, 2.5]"
     },
     "execution_count": 150,
     "metadata": {},
     "output_type": "execute_result"
    }
   ],
   "source": [
    "xarr = np.array([1.1, 1.2, 1.3, 1.4, 1.5])\n",
    "yarr = np.array([2.1, 2.2, 2.3, 2.4, 2.5])\n",
    "\n",
    "cond = np.array([True, False, True, False, False])\n",
    "\n",
    "result = [(x if c else y) for x, y, c in zip(xarr, yarr, cond)]\n",
    "\n",
    "result"
   ]
  },
  {
   "cell_type": "code",
   "execution_count": 151,
   "metadata": {},
   "outputs": [
    {
     "data": {
      "text/plain": "array([1.1, 2.2, 1.3, 2.4, 2.5])"
     },
     "execution_count": 151,
     "metadata": {},
     "output_type": "execute_result"
    }
   ],
   "source": [
    "result = np.where(cond, xarr, yarr)\n",
    "\n",
    "result"
   ]
  },
  {
   "cell_type": "code",
   "execution_count": 152,
   "metadata": {},
   "outputs": [
    {
     "data": {
      "text/plain": "array([[-0.29625638,  0.38523622,  0.13305278,  1.11435554],\n       [ 0.46493789, -1.08080402,  0.2522638 , -1.50532709],\n       [-0.01466075,  0.05446288,  0.14770636,  0.46231237],\n       [-0.13312418, -0.42628395, -0.1371267 ,  1.28843969]])"
     },
     "execution_count": 152,
     "metadata": {},
     "output_type": "execute_result"
    }
   ],
   "source": [
    "arr = np.random.randn(4, 4)\n",
    "\n",
    "arr"
   ]
  },
  {
   "cell_type": "code",
   "execution_count": 153,
   "metadata": {},
   "outputs": [
    {
     "data": {
      "text/plain": "array([[False,  True,  True,  True],\n       [ True, False,  True, False],\n       [False,  True,  True,  True],\n       [False, False, False,  True]])"
     },
     "execution_count": 153,
     "metadata": {},
     "output_type": "execute_result"
    }
   ],
   "source": [
    "arr > 0"
   ]
  },
  {
   "cell_type": "code",
   "execution_count": 157,
   "metadata": {},
   "outputs": [
    {
     "data": {
      "text/plain": "array([[-0.29625638,  2.        ,  2.        ,  2.        ],\n       [ 2.        , -1.08080402,  2.        , -1.50532709],\n       [-0.01466075,  2.        ,  2.        ,  2.        ],\n       [-0.13312418, -0.42628395, -0.1371267 ,  2.        ]])"
     },
     "execution_count": 157,
     "metadata": {},
     "output_type": "execute_result"
    }
   ],
   "source": [
    "np.where(arr > 0, 2, arr)"
   ]
  },
  {
   "cell_type": "markdown",
   "execution_count": null,
   "metadata": {},
   "outputs": [],
   "source": [
    "### 数学和统计方法"
   ]
  },
  {
   "cell_type": "code",
   "execution_count": 158,
   "metadata": {},
   "outputs": [
    {
     "data": {
      "text/plain": "array([[ 1.49769479, -0.24353395, -0.72442839, -0.72429049],\n       [ 0.0191613 ,  0.72187837, -1.0790642 , -0.57226631],\n       [-1.42869537,  0.48181489, -0.43792619,  0.18285091],\n       [ 1.15946371,  0.74923296,  0.28343124,  0.59668244],\n       [ 0.53005561, -1.8564091 , -0.5897144 ,  0.18112743]])"
     },
     "execution_count": 158,
     "metadata": {},
     "output_type": "execute_result"
    }
   ],
   "source": [
    "arr = np.random.randn(5, 4)\n",
    "\n",
    "arr"
   ]
  },
  {
   "cell_type": "code",
   "execution_count": 159,
   "metadata": {},
   "outputs": [
    {
     "data": {
      "text/plain": "-0.0626467380814206"
     },
     "execution_count": 159,
     "metadata": {},
     "output_type": "execute_result"
    }
   ],
   "source": [
    "arr.mean()"
   ]
  },
  {
   "cell_type": "code",
   "execution_count": 160,
   "metadata": {},
   "outputs": [
    {
     "data": {
      "text/plain": "-1.252934761628412"
     },
     "execution_count": 160,
     "metadata": {},
     "output_type": "execute_result"
    }
   ],
   "source": [
    "arr.sum()"
   ]
  },
  {
   "cell_type": "code",
   "execution_count": 166,
   "metadata": {},
   "outputs": [
    {
     "data": {
      "text/plain": "array([ 0.35553601, -0.02940337, -0.50954039, -0.0671792 ])"
     },
     "execution_count": 166,
     "metadata": {},
     "output_type": "execute_result"
    }
   ],
   "source": [
    "arr.mean(axis=0)"
   ]
  },
  {
   "cell_type": "code",
   "execution_count": 168,
   "metadata": {},
   "outputs": [
    {
     "data": {
      "text/plain": "array([-0.19455803, -0.91029086, -1.20195575,  2.78881035, -1.73494047])"
     },
     "execution_count": 168,
     "metadata": {},
     "output_type": "execute_result"
    }
   ],
   "source": [
    "arr.sum(axis=1)"
   ]
  },
  {
   "cell_type": "code",
   "execution_count": 171,
   "metadata": {},
   "outputs": [
    {
     "data": {
      "text/plain": "array([ 0,  1,  3,  6, 10, 15, 21, 28])"
     },
     "execution_count": 171,
     "metadata": {},
     "output_type": "execute_result"
    }
   ],
   "source": [
    "arr = np.array([0, 1, 2, 3, 4, 5, 6, 7])\n",
    "arr.cumsum()"
   ]
  },
  {
   "cell_type": "code",
   "execution_count": 179,
   "metadata": {},
   "outputs": [
    {
     "data": {
      "text/plain": "array([[0, 1, 2],\n       [3, 4, 5],\n       [6, 7, 8]])"
     },
     "execution_count": 179,
     "metadata": {},
     "output_type": "execute_result"
    }
   ],
   "source": [
    "arr = np.arange(9).reshape((3, 3))\n",
    "arr"
   ]
  },
  {
   "cell_type": "code",
   "execution_count": 181,
   "metadata": {},
   "outputs": [
    {
     "data": {
      "text/plain": "array([[ 0,  1,  2],\n       [ 3,  5,  7],\n       [ 9, 12, 15]])"
     },
     "execution_count": 181,
     "metadata": {},
     "output_type": "execute_result"
    }
   ],
   "source": [
    "arr.cumsum(axis=0)"
   ]
  },
  {
   "cell_type": "code",
   "execution_count": 182,
   "metadata": {},
   "outputs": [
    {
     "data": {
      "text/plain": "array([[  0,   0,   0],\n       [  3,  12,  60],\n       [  6,  42, 336]])"
     },
     "execution_count": 182,
     "metadata": {},
     "output_type": "execute_result"
    }
   ],
   "source": [
    "arr.cumprod(axis=1)"
   ]
  },
  {
   "cell_type": "code",
   "execution_count": 191,
   "metadata": {},
   "outputs": [
    {
     "data": {
      "text/plain": "44"
     },
     "execution_count": 191,
     "metadata": {},
     "output_type": "execute_result"
    }
   ],
   "source": [
    "arr = np.random.randn(100)\n",
    "\n",
    "(arr > 0).sum()"
   ]
  },
  {
   "cell_type": "code",
   "execution_count": 192,
   "metadata": {},
   "outputs": [
    {
     "data": {
      "text/plain": "True"
     },
     "execution_count": 192,
     "metadata": {},
     "output_type": "execute_result"
    }
   ],
   "source": [
    "bools = np.array([False, False, True, False])\n",
    "\n",
    "bools.any()"
   ]
  },
  {
   "cell_type": "code",
   "execution_count": 193,
   "metadata": {},
   "outputs": [
    {
     "data": {
      "text/plain": "False"
     },
     "execution_count": 193,
     "metadata": {},
     "output_type": "execute_result"
    }
   ],
   "source": [
    "bools.all()"
   ]
  },
  {
   "cell_type": "markdown",
   "execution_count": null,
   "metadata": {},
   "outputs": [],
   "source": [
    "### 排序"
   ]
  },
  {
   "cell_type": "code",
   "execution_count": 199,
   "metadata": {},
   "outputs": [
    {
     "data": {
      "text/plain": "array([[-0.44894941, -1.28355592, -0.59350271],\n       [-0.7978722 , -0.62398854, -0.64211603],\n       [ 0.73321291, -0.07345042, -0.42409661],\n       [-0.79928229,  0.00552293,  1.27205778],\n       [-0.49118562,  0.11289211, -0.60722497]])"
     },
     "execution_count": 199,
     "metadata": {},
     "output_type": "execute_result"
    }
   ],
   "source": [
    "arr = np.random.randn(5, 3)\n",
    "\n",
    "arr"
   ]
  },
  {
   "cell_type": "code",
   "execution_count": 200,
   "metadata": {},
   "outputs": [
    {
     "data": {
      "text/plain": "array([[-1.28355592, -0.59350271, -0.44894941],\n       [-0.7978722 , -0.64211603, -0.62398854],\n       [-0.42409661, -0.07345042,  0.73321291],\n       [-0.79928229,  0.00552293,  1.27205778],\n       [-0.60722497, -0.49118562,  0.11289211]])"
     },
     "execution_count": 200,
     "metadata": {},
     "output_type": "execute_result"
    }
   ],
   "source": [
    "arr.sort(1)\n",
    "\n",
    "arr"
   ]
  },
  {
   "cell_type": "code",
   "execution_count": 203,
   "metadata": {},
   "outputs": [
    {
     "data": {
      "text/plain": "array([[-1.28355592, -0.59350271, -0.44894941],\n       [-0.7978722 , -0.64211603, -0.62398854],\n       [-0.42409661, -0.07345042,  0.73321291],\n       [-0.79928229,  0.00552293,  1.27205778],\n       [-0.60722497, -0.49118562,  0.11289211]])"
     },
     "execution_count": 203,
     "metadata": {},
     "output_type": "execute_result"
    }
   ],
   "source": [
    "arr.sort()\n",
    "\n",
    "arr"
   ]
  },
  {
   "cell_type": "markdown",
   "execution_count": null,
   "metadata": {},
   "outputs": [],
   "source": [
    "### 唯一化以及其它的集合逻辑"
   ]
  },
  {
   "cell_type": "code",
   "execution_count": 204,
   "metadata": {},
   "outputs": [
    {
     "data": {
      "text/plain": "array(['Bob', 'Joe', 'Will'], dtype='<U4')"
     },
     "execution_count": 204,
     "metadata": {},
     "output_type": "execute_result"
    }
   ],
   "source": [
    "names = np.array(['Bob', 'Joe', 'Will', 'Bob', 'Will', 'Joe', 'Joe'])\n",
    "\n",
    "np.unique(names)"
   ]
  },
  {
   "cell_type": "code",
   "execution_count": 205,
   "metadata": {},
   "outputs": [
    {
     "data": {
      "text/plain": "array([ True, False,  True,  True, False,  True])"
     },
     "execution_count": 205,
     "metadata": {},
     "output_type": "execute_result"
    }
   ],
   "source": [
    "values = np.array([6, 0, 3, 2, 5, 6])\n",
    "\n",
    "np.in1d(values, [2, 3, 6])"
   ]
  },
  {
   "cell_type": "markdown",
   "execution_count": null,
   "metadata": {},
   "outputs": [],
   "source": [
    "### 线性代数"
   ]
  },
  {
   "cell_type": "code",
   "execution_count": 206,
   "metadata": {},
   "outputs": [
    {
     "data": {
      "text/plain": "array([[1., 2., 3.],\n       [4., 5., 6.]])"
     },
     "execution_count": 206,
     "metadata": {},
     "output_type": "execute_result"
    }
   ],
   "source": [
    "x = np.array([[1., 2., 3.], [4., 5., 6.]])\n",
    "y = np.array([[6., 23.], [-1, 7], [8., 9.]])\n",
    "\n",
    "x"
   ]
  },
  {
   "cell_type": "code",
   "execution_count": 207,
   "metadata": {},
   "outputs": [
    {
     "data": {
      "text/plain": "array([[ 6., 23.],\n       [-1.,  7.],\n       [ 8.,  9.]])"
     },
     "execution_count": 207,
     "metadata": {},
     "output_type": "execute_result"
    }
   ],
   "source": [
    "y"
   ]
  },
  {
   "cell_type": "code",
   "execution_count": 208,
   "metadata": {},
   "outputs": [
    {
     "data": {
      "text/plain": "array([[ 28.,  64.],\n       [ 67., 181.]])"
     },
     "execution_count": 208,
     "metadata": {},
     "output_type": "execute_result"
    }
   ],
   "source": [
    "x.dot(y)"
   ]
  },
  {
   "cell_type": "code",
   "execution_count": 210,
   "metadata": {},
   "outputs": [
    {
     "data": {
      "text/plain": "array([ 6., 15.])"
     },
     "execution_count": 210,
     "metadata": {},
     "output_type": "execute_result"
    }
   ],
   "source": [
    "x.dot(np.ones(3))"
   ]
  },
  {
   "cell_type": "code",
   "execution_count": 211,
   "metadata": {},
   "outputs": [
    {
     "data": {
      "text/plain": "array([ 6., 15.])"
     },
     "execution_count": 211,
     "metadata": {},
     "output_type": "execute_result"
    }
   ],
   "source": [
    "x @ np.ones(3)"
   ]
  },
  {
   "cell_type": "code",
   "execution_count": 212,
   "metadata": {},
   "outputs": [
    {
     "data": {
      "text/plain": "array([[ 0.07840579, -1.66011271,  0.89333324,  0.04830275, -0.69277549],\n       [-1.47004149, -1.77877454, -0.78563048,  0.90440154,  0.11064465],\n       [ 0.22013487, -0.4020207 ,  1.92982327, -0.53525075,  0.55389087],\n       [ 1.22562533,  0.14092196,  0.29745007,  1.00696995, -0.20627248],\n       [-1.18012031, -0.35096492, -0.84582786, -0.13275207, -0.38317838]])"
     },
     "execution_count": 212,
     "metadata": {},
     "output_type": "execute_result"
    }
   ],
   "source": [
    "x = np.random.randn(5, 5)\n",
    "\n",
    "x"
   ]
  },
  {
   "cell_type": "code",
   "execution_count": 213,
   "metadata": {},
   "outputs": [
    {
     "data": {
      "text/plain": "array([[ 5.11047021,  2.98310951,  3.01251428, -0.05271663,  0.10434468],\n       [ 2.98310951,  6.22466906, -0.52263009, -1.28523706,  0.83601177],\n       [ 3.01251428, -0.52263009,  5.94337869, -1.28850564,  0.62585351],\n       [-0.05271663, -1.28523706, -1.28850564,  2.13838026, -0.38670875],\n       [ 0.10434468,  0.83601177,  0.62585351, -0.38670875,  0.98834922]])"
     },
     "execution_count": 213,
     "metadata": {},
     "output_type": "execute_result"
    }
   ],
   "source": [
    "mat = x.T.dot(x)\n",
    "\n",
    "mat"
   ]
  },
  {
   "cell_type": "code",
   "execution_count": 215,
   "metadata": {},
   "outputs": [
    {
     "data": {
      "text/plain": "array([[ 4.876181  , -4.05722279, -4.13024684, -4.09639006,  3.92968593],\n       [-4.05722279,  3.59454799,  3.5046214 ,  3.54961225, -3.44255674],\n       [-4.13024684,  3.5046214 ,  3.7196363 ,  3.61874206, -3.46788723],\n       [-4.09639006,  3.54961225,  3.61874206,  4.09090046, -3.26088839],\n       [ 3.92968593, -3.44255674, -3.46788723, -3.26088839,  4.42895216]])"
     },
     "execution_count": 215,
     "metadata": {},
     "output_type": "execute_result"
    }
   ],
   "source": [
    "np.linalg.inv(mat)"
   ]
  },
  {
   "cell_type": "code",
   "execution_count": null,
   "metadata": {},
   "outputs": [],
   "source": []
  }
 ]
}